{
 "cells": [
  {
   "cell_type": "code",
   "execution_count": 1,
   "metadata": {},
   "outputs": [],
   "source": [
    "import warnings\n",
    "warnings.filterwarnings(\"ignore\")\n",
    "\n",
    "# GPU 사용 설정\n",
    "import os\n",
    "os.environ[\"TF_CPP_MIN_LOG_LEVEL\"] = '1'"
   ]
  },
  {
   "cell_type": "code",
   "execution_count": 2,
   "metadata": {},
   "outputs": [],
   "source": [
    "from tensorflow import keras\n",
    "from sklearn.model_selection import train_test_split\n",
    "\n",
    "(train_input, train_target),(test_input, test_target) = keras.datasets.fashion_mnist.load_data()\n",
    "\n",
    "# 일렬로 만드는건 CNN에선 아예 안쓰지만 일단 표준화후 일렬로 만들자\n",
    "train_scaled = train_input / 255.0\n",
    "\n",
    "# train과 valid 분리\n",
    "train_scaled, val_scaled, train_target, val_target = train_test_split(\n",
    "    train_scaled, train_target, test_size=0.2, random_state=42\n",
    ")"
   ]
  },
  {
   "cell_type": "code",
   "execution_count": 3,
   "metadata": {},
   "outputs": [],
   "source": [
    "# Model 함수 구현\n",
    "def model_fn(a_layer=None):\n",
    "    model = keras.Sequential()\n",
    "    model.add(keras.layers.Flatten(input_shape=(28,28)))\n",
    "    model.add(keras.layers.Dense(100,activation='relu'))\n",
    "    if a_layer:\n",
    "        model.add(a_layer)\n",
    "    model.add(keras.layers.Dense(10,activation='softmax'))\n",
    "    return model"
   ]
  },
  {
   "cell_type": "code",
   "execution_count": 4,
   "metadata": {},
   "outputs": [
    {
     "name": "stdout",
     "output_type": "stream",
     "text": [
      "Model: \"sequential\"\n",
      "_________________________________________________________________\n",
      " Layer (type)                Output Shape              Param #   \n",
      "=================================================================\n",
      " flatten (Flatten)           (None, 784)               0         \n",
      "                                                                 \n",
      " dense (Dense)               (None, 100)               78500     \n",
      "                                                                 \n",
      " dense_1 (Dense)             (None, 10)                1010      \n",
      "                                                                 \n",
      "=================================================================\n",
      "Total params: 79,510\n",
      "Trainable params: 79,510\n",
      "Non-trainable params: 0\n",
      "_________________________________________________________________\n"
     ]
    }
   ],
   "source": [
    "model = model_fn()\n",
    "model.summary()"
   ]
  },
  {
   "cell_type": "code",
   "execution_count": 5,
   "metadata": {},
   "outputs": [
    {
     "name": "stdout",
     "output_type": "stream",
     "text": [
      "Epoch 1/10\n"
     ]
    },
    {
     "name": "stderr",
     "output_type": "stream",
     "text": [
      "2022-07-20 16:48:59.834943: W tensorflow/core/platform/profile_utils/cpu_utils.cc:128] Failed to get CPU frequency: 0 Hz\n"
     ]
    },
    {
     "name": "stdout",
     "output_type": "stream",
     "text": [
      "1500/1500 [==============================] - 1s 772us/step - loss: 0.5358 - accuracy: 0.8102\n",
      "Epoch 2/10\n",
      "1500/1500 [==============================] - 1s 758us/step - loss: 0.3943 - accuracy: 0.8581\n",
      "Epoch 3/10\n",
      "1500/1500 [==============================] - 1s 797us/step - loss: 0.3569 - accuracy: 0.8718\n",
      "Epoch 4/10\n",
      "1500/1500 [==============================] - 1s 680us/step - loss: 0.3346 - accuracy: 0.8794\n",
      "Epoch 5/10\n",
      "1500/1500 [==============================] - 1s 686us/step - loss: 0.3204 - accuracy: 0.8847\n",
      "Epoch 6/10\n",
      "1500/1500 [==============================] - 1s 681us/step - loss: 0.3130 - accuracy: 0.8885\n",
      "Epoch 7/10\n",
      "1500/1500 [==============================] - 1s 710us/step - loss: 0.2989 - accuracy: 0.8935\n",
      "Epoch 8/10\n",
      "1500/1500 [==============================] - 1s 808us/step - loss: 0.2906 - accuracy: 0.8983\n",
      "Epoch 9/10\n",
      "1500/1500 [==============================] - 1s 700us/step - loss: 0.2835 - accuracy: 0.9004\n",
      "Epoch 10/10\n",
      "1500/1500 [==============================] - 1s 681us/step - loss: 0.2776 - accuracy: 0.9036\n"
     ]
    }
   ],
   "source": [
    "model.compile(loss='sparse_categorical_crossentropy', metrics='accuracy')\n",
    "history = model.fit(train_scaled, train_target, epochs=10)"
   ]
  },
  {
   "cell_type": "code",
   "execution_count": 6,
   "metadata": {},
   "outputs": [
    {
     "data": {
      "text/plain": [
       "dict_keys(['loss', 'accuracy'])"
      ]
     },
     "execution_count": 6,
     "metadata": {},
     "output_type": "execute_result"
    }
   ],
   "source": [
    "history.history.keys()"
   ]
  },
  {
   "cell_type": "markdown",
   "metadata": {},
   "source": [
    "## 손실곡선"
   ]
  },
  {
   "cell_type": "code",
   "execution_count": 7,
   "metadata": {},
   "outputs": [
    {
     "data": {
      "image/png": "[encoded data removed]",
      "text/plain": [
       "<Figure size 432x288 with 1 Axes>"
      ]
     },
     "metadata": {
      "needs_background": "light"
     },
     "output_type": "display_data"
    }
   ],
   "source": [
    "import matplotlib.pyplot as plt\n",
    "plt.plot(history.history['loss'])\n",
    "plt.xlabel('epoch')\n",
    "plt.ylabel('loss')\n",
    "plt.show()"
   ]
  },
  {
   "cell_type": "markdown",
   "metadata": {},
   "source": [
    "### 정확도 곡선"
   ]
  },
  {
   "cell_type": "code",
   "execution_count": 8,
   "metadata": {},
   "outputs": [
    {
     "data": {
      "image/png": "[encoded data removed]",
      "text/plain": [
       "<Figure size 432x288 with 1 Axes>"
      ]
     },
     "metadata": {
      "needs_background": "light"
     },
     "output_type": "display_data"
    }
   ],
   "source": [
    "import matplotlib.pyplot as plt\n",
    "plt.plot(history.history['accuracy'])\n",
    "plt.xlabel('epoch')\n",
    "plt.ylabel('accuracy')\n",
    "plt.show()"
   ]
  },
  {
   "cell_type": "markdown",
   "metadata": {},
   "source": [
    "---\n",
    "## 반복 훈련의 증가"
   ]
  },
  {
   "cell_type": "code",
   "execution_count": 9,
   "metadata": {},
   "outputs": [
    {
     "name": "stdout",
     "output_type": "stream",
     "text": [
      "Epoch 1/20\n",
      "1500/1500 [==============================] - 1s 668us/step - loss: 0.5337 - accuracy: 0.8116\n",
      "Epoch 2/20\n",
      "1500/1500 [==============================] - 1s 660us/step - loss: 0.3953 - accuracy: 0.8582\n",
      "Epoch 3/20\n",
      "1500/1500 [==============================] - 1s 694us/step - loss: 0.3568 - accuracy: 0.8720\n",
      "Epoch 4/20\n",
      "1500/1500 [==============================] - 1s 669us/step - loss: 0.3340 - accuracy: 0.8795\n",
      "Epoch 5/20\n",
      "1500/1500 [==============================] - 1s 673us/step - loss: 0.3202 - accuracy: 0.8866\n",
      "Epoch 6/20\n",
      "1500/1500 [==============================] - 1s 660us/step - loss: 0.3085 - accuracy: 0.8896\n",
      "Epoch 7/20\n",
      "1500/1500 [==============================] - 1s 662us/step - loss: 0.2979 - accuracy: 0.8942\n",
      "Epoch 8/20\n",
      "1500/1500 [==============================] - 1s 663us/step - loss: 0.2869 - accuracy: 0.8983\n",
      "Epoch 9/20\n",
      "1500/1500 [==============================] - 1s 762us/step - loss: 0.2827 - accuracy: 0.9001\n",
      "Epoch 10/20\n",
      "1500/1500 [==============================] - 1s 812us/step - loss: 0.2740 - accuracy: 0.9033\n",
      "Epoch 11/20\n",
      "1500/1500 [==============================] - 1s 830us/step - loss: 0.2711 - accuracy: 0.9045\n",
      "Epoch 12/20\n",
      "1500/1500 [==============================] - 1s 837us/step - loss: 0.2641 - accuracy: 0.9088\n",
      "Epoch 13/20\n",
      "1500/1500 [==============================] - 1s 727us/step - loss: 0.2576 - accuracy: 0.9093\n",
      "Epoch 14/20\n",
      "1500/1500 [==============================] - 1s 714us/step - loss: 0.2561 - accuracy: 0.9104\n",
      "Epoch 15/20\n",
      "1500/1500 [==============================] - 1s 659us/step - loss: 0.2497 - accuracy: 0.9141\n",
      "Epoch 16/20\n",
      "1500/1500 [==============================] - 1s 716us/step - loss: 0.2449 - accuracy: 0.9149\n",
      "Epoch 17/20\n",
      "1500/1500 [==============================] - 1s 680us/step - loss: 0.2399 - accuracy: 0.9159\n",
      "Epoch 18/20\n",
      "1500/1500 [==============================] - 1s 672us/step - loss: 0.2372 - accuracy: 0.9189\n",
      "Epoch 19/20\n",
      "1500/1500 [==============================] - 1s 684us/step - loss: 0.2327 - accuracy: 0.9198\n",
      "Epoch 20/20\n",
      "1500/1500 [==============================] - 1s 727us/step - loss: 0.2304 - accuracy: 0.9196\n"
     ]
    }
   ],
   "source": [
    "model = model_fn()\n",
    "model.compile(loss='sparse_categorical_crossentropy', metrics='accuracy')\n",
    "history = model.fit(train_scaled, train_target, epochs=20)"
   ]
  },
  {
   "cell_type": "code",
   "execution_count": 10,
   "metadata": {},
   "outputs": [
    {
     "data": {
      "image/png": "[encoded data removed]",
      "text/plain": [
       "<Figure size 432x288 with 1 Axes>"
      ]
     },
     "metadata": {
      "needs_background": "light"
     },
     "output_type": "display_data"
    }
   ],
   "source": [
    "import matplotlib.pyplot as plt\n",
    "plt.plot(history.history['loss'])\n",
    "plt.xlabel('epoch')\n",
    "plt.ylabel('loss')\n",
    "plt.show()"
   ]
  },
  {
   "cell_type": "code",
   "execution_count": 11,
   "metadata": {},
   "outputs": [
    {
     "data": {
      "image/png": "[encoded data removed]",
      "text/plain": [
       "<Figure size 432x288 with 1 Axes>"
      ]
     },
     "metadata": {
      "needs_background": "light"
     },
     "output_type": "display_data"
    }
   ],
   "source": [
    "import matplotlib.pyplot as plt\n",
    "plt.plot(history.history['accuracy'])\n",
    "plt.xlabel('epoch')\n",
    "plt.ylabel('accuracy')\n",
    "plt.show()"
   ]
  },
  {
   "cell_type": "markdown",
   "metadata": {},
   "source": [
    "---\n",
    "### 검증 손실\n",
    "- 검증 세트에 대한 정확도를 파악하기위해 validataion data를 사용한다."
   ]
  },
  {
   "cell_type": "code",
   "execution_count": 12,
   "metadata": {},
   "outputs": [
    {
     "name": "stdout",
     "output_type": "stream",
     "text": [
      "Epoch 1/20\n",
      "1500/1500 [==============================] - 1s 875us/step - loss: 0.5325 - accuracy: 0.8124 - val_loss: 0.4720 - val_accuracy: 0.8255\n",
      "Epoch 2/20\n",
      "1500/1500 [==============================] - 1s 925us/step - loss: 0.3913 - accuracy: 0.8598 - val_loss: 0.4086 - val_accuracy: 0.8566\n",
      "Epoch 3/20\n",
      "1500/1500 [==============================] - 1s 801us/step - loss: 0.3556 - accuracy: 0.8707 - val_loss: 0.3690 - val_accuracy: 0.8729\n",
      "Epoch 4/20\n",
      "1500/1500 [==============================] - 1s 817us/step - loss: 0.3368 - accuracy: 0.8797 - val_loss: 0.3622 - val_accuracy: 0.8716\n",
      "Epoch 5/20\n",
      "1500/1500 [==============================] - 1s 898us/step - loss: 0.3179 - accuracy: 0.8856 - val_loss: 0.3707 - val_accuracy: 0.8766\n",
      "Epoch 6/20\n",
      "1500/1500 [==============================] - 1s 773us/step - loss: 0.3094 - accuracy: 0.8885 - val_loss: 0.3600 - val_accuracy: 0.8782\n",
      "Epoch 7/20\n",
      "1500/1500 [==============================] - 1s 765us/step - loss: 0.2974 - accuracy: 0.8951 - val_loss: 0.3823 - val_accuracy: 0.8798\n",
      "Epoch 8/20\n",
      "1500/1500 [==============================] - 1s 764us/step - loss: 0.2915 - accuracy: 0.8963 - val_loss: 0.3800 - val_accuracy: 0.8769\n",
      "Epoch 9/20\n",
      "1500/1500 [==============================] - 1s 747us/step - loss: 0.2818 - accuracy: 0.9012 - val_loss: 0.4019 - val_accuracy: 0.8770\n",
      "Epoch 10/20\n",
      "1500/1500 [==============================] - 1s 756us/step - loss: 0.2773 - accuracy: 0.9030 - val_loss: 0.4058 - val_accuracy: 0.8747\n",
      "Epoch 11/20\n",
      "1500/1500 [==============================] - 1s 754us/step - loss: 0.2685 - accuracy: 0.9057 - val_loss: 0.3644 - val_accuracy: 0.8829\n",
      "Epoch 12/20\n",
      "1500/1500 [==============================] - 1s 763us/step - loss: 0.2632 - accuracy: 0.9071 - val_loss: 0.3955 - val_accuracy: 0.8818\n",
      "Epoch 13/20\n",
      "1500/1500 [==============================] - 1s 773us/step - loss: 0.2599 - accuracy: 0.9100 - val_loss: 0.4246 - val_accuracy: 0.8809\n",
      "Epoch 14/20\n",
      "1500/1500 [==============================] - 1s 797us/step - loss: 0.2551 - accuracy: 0.9117 - val_loss: 0.4057 - val_accuracy: 0.8842\n",
      "Epoch 15/20\n",
      "1500/1500 [==============================] - 1s 771us/step - loss: 0.2509 - accuracy: 0.9132 - val_loss: 0.4169 - val_accuracy: 0.8812\n",
      "Epoch 16/20\n",
      "1500/1500 [==============================] - 1s 767us/step - loss: 0.2451 - accuracy: 0.9152 - val_loss: 0.4520 - val_accuracy: 0.8760\n",
      "Epoch 17/20\n",
      "1500/1500 [==============================] - 1s 779us/step - loss: 0.2410 - accuracy: 0.9173 - val_loss: 0.4940 - val_accuracy: 0.8773\n",
      "Epoch 18/20\n",
      "1500/1500 [==============================] - 1s 771us/step - loss: 0.2398 - accuracy: 0.9184 - val_loss: 0.4308 - val_accuracy: 0.8814\n",
      "Epoch 19/20\n",
      "1500/1500 [==============================] - 1s 827us/step - loss: 0.2340 - accuracy: 0.9203 - val_loss: 0.4641 - val_accuracy: 0.8813\n",
      "Epoch 20/20\n",
      "1500/1500 [==============================] - 1s 810us/step - loss: 0.2316 - accuracy: 0.9214 - val_loss: 0.4713 - val_accuracy: 0.8764\n"
     ]
    }
   ],
   "source": [
    "model = model_fn()\n",
    "model.compile(loss='sparse_categorical_crossentropy', metrics='accuracy')\n",
    "history = model.fit(train_scaled, train_target, epochs=20,\n",
    "                    validation_data=(val_scaled, val_target)#fitting 할때 train과 val을 한번에 같이 가능\n",
    "                    )"
   ]
  },
  {
   "cell_type": "code",
   "execution_count": 13,
   "metadata": {},
   "outputs": [
    {
     "data": {
      "text/plain": [
       "dict_keys(['loss', 'accuracy', 'val_loss', 'val_accuracy'])"
      ]
     },
     "execution_count": 13,
     "metadata": {},
     "output_type": "execute_result"
    }
   ],
   "source": [
    "history.history.keys()"
   ]
  },
  {
   "cell_type": "code",
   "execution_count": 14,
   "metadata": {},
   "outputs": [
    {
     "data": {
      "image/png": "[encoded data removed]",
      "text/plain": [
       "<Figure size 432x288 with 1 Axes>"
      ]
     },
     "metadata": {
      "needs_background": "light"
     },
     "output_type": "display_data"
    }
   ],
   "source": [
    "plt.plot(history.history['loss'])\n",
    "plt.plot(history.history['val_loss'])\n",
    "plt.xlabel('epoch')\n",
    "plt.ylabel('loss')\n",
    "plt.legend(['train', 'val'])\n",
    "plt.show()"
   ]
  },
  {
   "cell_type": "markdown",
   "metadata": {},
   "source": [
    "> 훈련세트는 epochs가 증가함에 따라 손실이 떨어지고 있으나  \n",
    "> 검증세트는 epochs의 증가에 따라 초반에는 손실이 떨어지나 진행하면 할수록 손실율이 증가한다.  \n",
    "> 이 모델은 훈련세트에는 정확도가 높아 좋지만, 검증세트에는 적합하지 않는 과대적합 모델이다.  \n",
    "> 엄청난 과대적합!"
   ]
  },
  {
   "cell_type": "markdown",
   "metadata": {},
   "source": [
    "---\n",
    "## Optimizer(최적화 알고리즘)를 써보자"
   ]
  },
  {
   "cell_type": "markdown",
   "metadata": {},
   "source": [
    "- Optimizer (adam)"
   ]
  },
  {
   "cell_type": "code",
   "execution_count": 15,
   "metadata": {},
   "outputs": [
    {
     "name": "stdout",
     "output_type": "stream",
     "text": [
      "Epoch 1/20\n",
      "1500/1500 [==============================] - 1s 738us/step - loss: 0.5159 - accuracy: 0.8207 - val_loss: 0.4649 - val_accuracy: 0.8373\n",
      "Epoch 2/20\n",
      "1500/1500 [==============================] - 1s 746us/step - loss: 0.3923 - accuracy: 0.8592 - val_loss: 0.3622 - val_accuracy: 0.8711\n",
      "Epoch 3/20\n",
      "1500/1500 [==============================] - 1s 810us/step - loss: 0.3534 - accuracy: 0.8719 - val_loss: 0.3464 - val_accuracy: 0.8752\n",
      "Epoch 4/20\n",
      "1500/1500 [==============================] - 1s 817us/step - loss: 0.3286 - accuracy: 0.8801 - val_loss: 0.3454 - val_accuracy: 0.8749\n",
      "Epoch 5/20\n",
      "1500/1500 [==============================] - 1s 739us/step - loss: 0.3068 - accuracy: 0.8885 - val_loss: 0.3314 - val_accuracy: 0.8809\n",
      "Epoch 6/20\n",
      "1500/1500 [==============================] - 1s 818us/step - loss: 0.2887 - accuracy: 0.8947 - val_loss: 0.3228 - val_accuracy: 0.8827\n",
      "Epoch 7/20\n",
      "1500/1500 [==============================] - 1s 757us/step - loss: 0.2772 - accuracy: 0.8976 - val_loss: 0.3579 - val_accuracy: 0.8705\n",
      "Epoch 8/20\n",
      "1500/1500 [==============================] - 1s 714us/step - loss: 0.2672 - accuracy: 0.9017 - val_loss: 0.3266 - val_accuracy: 0.8819\n",
      "Epoch 9/20\n",
      "1500/1500 [==============================] - 1s 708us/step - loss: 0.2553 - accuracy: 0.9043 - val_loss: 0.3194 - val_accuracy: 0.8874\n",
      "Epoch 10/20\n",
      "1500/1500 [==============================] - 1s 740us/step - loss: 0.2471 - accuracy: 0.9076 - val_loss: 0.3372 - val_accuracy: 0.8789\n",
      "Epoch 11/20\n",
      "1500/1500 [==============================] - 1s 736us/step - loss: 0.2380 - accuracy: 0.9111 - val_loss: 0.3186 - val_accuracy: 0.8873\n",
      "Epoch 12/20\n",
      "1500/1500 [==============================] - 1s 706us/step - loss: 0.2313 - accuracy: 0.9135 - val_loss: 0.3163 - val_accuracy: 0.8871\n",
      "Epoch 13/20\n",
      "1500/1500 [==============================] - 1s 705us/step - loss: 0.2228 - accuracy: 0.9170 - val_loss: 0.3230 - val_accuracy: 0.8848\n",
      "Epoch 14/20\n",
      "1500/1500 [==============================] - 1s 708us/step - loss: 0.2161 - accuracy: 0.9186 - val_loss: 0.3114 - val_accuracy: 0.8893\n",
      "Epoch 15/20\n",
      "1500/1500 [==============================] - 1s 809us/step - loss: 0.2093 - accuracy: 0.9207 - val_loss: 0.3246 - val_accuracy: 0.8904\n",
      "Epoch 16/20\n",
      "1500/1500 [==============================] - 1s 727us/step - loss: 0.2054 - accuracy: 0.9236 - val_loss: 0.3323 - val_accuracy: 0.8889\n",
      "Epoch 17/20\n",
      "1500/1500 [==============================] - 1s 714us/step - loss: 0.1976 - accuracy: 0.9266 - val_loss: 0.3581 - val_accuracy: 0.8792\n",
      "Epoch 18/20\n",
      "1500/1500 [==============================] - 1s 730us/step - loss: 0.1925 - accuracy: 0.9279 - val_loss: 0.3478 - val_accuracy: 0.8845\n",
      "Epoch 19/20\n",
      "1500/1500 [==============================] - 1s 702us/step - loss: 0.1893 - accuracy: 0.9274 - val_loss: 0.3308 - val_accuracy: 0.8890\n",
      "Epoch 20/20\n",
      "1500/1500 [==============================] - 1s 705us/step - loss: 0.1848 - accuracy: 0.9303 - val_loss: 0.3330 - val_accuracy: 0.8878\n"
     ]
    }
   ],
   "source": [
    "model = model_fn()\n",
    "model.compile(optimizer='adam',loss='sparse_categorical_crossentropy', metrics='accuracy')\n",
    "history = model.fit(train_scaled, train_target, epochs=20,\n",
    "                    validation_data=(val_scaled, val_target)#fitting 할때 train과 val을 한번에 같이 가능\n",
    "                    )"
   ]
  },
  {
   "cell_type": "code",
   "execution_count": 16,
   "metadata": {},
   "outputs": [
    {
     "data": {
      "image/png": "[encoded data removed]",
      "text/plain": [
       "<Figure size 432x288 with 1 Axes>"
      ]
     },
     "metadata": {
      "needs_background": "light"
     },
     "output_type": "display_data"
    }
   ],
   "source": [
    "plt.plot(history.history['loss'])\n",
    "plt.plot(history.history['val_loss'])\n",
    "plt.xlabel('epoch')\n",
    "plt.ylabel('loss')\n",
    "plt.legend(['train', 'val'])\n",
    "plt.show()"
   ]
  },
  {
   "cell_type": "markdown",
   "metadata": {},
   "source": [
    "> 훈련세트는 epochs가 증가함에 따라 손실이 떨어지고 있으나  \n",
    "> 검증세트는 epochs의 증가에 따라 초반에는 손실이 떨어지나 진행하면 할수록 손실율이 증가한다.  \n",
    "> 이 모델은 훈련세트에는 정확도가 높아 좋지만, 검증세트에는 적합하지 않는 과대적합 모델이다.  \n",
    "> Optimizer(최적화 알고리즘)을 사용한 것이 좀 더 나은 모델이나 검증손실에 대한 부분(과대적합)은 아직 해결이 안됨"
   ]
  },
  {
   "cell_type": "markdown",
   "metadata": {},
   "source": [
    "---\n",
    "# Dropout\n",
    "- 규제\n",
    "- 신경망 모델에만 있음\n",
    "- '훈련시'에만 각 Sample을 처리할때 은닉층의 임의의 node를 계산에 포함시키지 않는다.\n",
    "- (임의로 노드를 하나 빼서 계산하는거야)"
   ]
  },
  {
   "cell_type": "code",
   "execution_count": 17,
   "metadata": {},
   "outputs": [
    {
     "name": "stdout",
     "output_type": "stream",
     "text": [
      "Model: \"sequential_4\"\n",
      "_________________________________________________________________\n",
      " Layer (type)                Output Shape              Param #   \n",
      "=================================================================\n",
      " flatten_4 (Flatten)         (None, 784)               0         \n",
      "                                                                 \n",
      " dense_8 (Dense)             (None, 100)               78500     \n",
      "                                                                 \n",
      " dropout (Dropout)           (None, 100)               0         \n",
      "                                                                 \n",
      " dense_9 (Dense)             (None, 10)                1010      \n",
      "                                                                 \n",
      "=================================================================\n",
      "Total params: 79,510\n",
      "Trainable params: 79,510\n",
      "Non-trainable params: 0\n",
      "_________________________________________________________________\n"
     ]
    }
   ],
   "source": [
    "# model에 dropout을 추가\n",
    "model = model_fn(keras.layers.Dropout(0.3)) # drop out을 30%해라 그럼 70% 가지고 공부를 함,\n",
    "model.summary()"
   ]
  },
  {
   "cell_type": "markdown",
   "metadata": {},
   "source": [
    "> dropout 층이 추가가 되었다."
   ]
  },
  {
   "cell_type": "code",
   "execution_count": 18,
   "metadata": {},
   "outputs": [
    {
     "name": "stdout",
     "output_type": "stream",
     "text": [
      "Epoch 1/20\n",
      "1500/1500 [==============================] - 1s 790us/step - loss: 0.5908 - accuracy: 0.7928 - val_loss: 0.4352 - val_accuracy: 0.8425\n",
      "Epoch 2/20\n",
      "1500/1500 [==============================] - 1s 737us/step - loss: 0.4385 - accuracy: 0.8429 - val_loss: 0.4016 - val_accuracy: 0.8535\n",
      "Epoch 3/20\n",
      "1500/1500 [==============================] - 1s 751us/step - loss: 0.4020 - accuracy: 0.8555 - val_loss: 0.3834 - val_accuracy: 0.8609\n",
      "Epoch 4/20\n",
      "1500/1500 [==============================] - 1s 822us/step - loss: 0.3783 - accuracy: 0.8620 - val_loss: 0.3576 - val_accuracy: 0.8699\n",
      "Epoch 5/20\n",
      "1500/1500 [==============================] - 1s 761us/step - loss: 0.3669 - accuracy: 0.8661 - val_loss: 0.3501 - val_accuracy: 0.8701\n",
      "Epoch 6/20\n",
      "1500/1500 [==============================] - 1s 829us/step - loss: 0.3514 - accuracy: 0.8705 - val_loss: 0.3379 - val_accuracy: 0.8763\n",
      "Epoch 7/20\n",
      "1500/1500 [==============================] - 1s 825us/step - loss: 0.3419 - accuracy: 0.8742 - val_loss: 0.3372 - val_accuracy: 0.8738\n",
      "Epoch 8/20\n",
      "1500/1500 [==============================] - 1s 734us/step - loss: 0.3317 - accuracy: 0.8760 - val_loss: 0.3254 - val_accuracy: 0.8820\n",
      "Epoch 9/20\n",
      "1500/1500 [==============================] - 1s 826us/step - loss: 0.3227 - accuracy: 0.8787 - val_loss: 0.3257 - val_accuracy: 0.8799\n",
      "Epoch 10/20\n",
      "1500/1500 [==============================] - 1s 738us/step - loss: 0.3194 - accuracy: 0.8821 - val_loss: 0.3282 - val_accuracy: 0.8807\n",
      "Epoch 11/20\n",
      "1500/1500 [==============================] - 1s 723us/step - loss: 0.3117 - accuracy: 0.8841 - val_loss: 0.3329 - val_accuracy: 0.8807\n",
      "Epoch 12/20\n",
      "1500/1500 [==============================] - 1s 802us/step - loss: 0.3082 - accuracy: 0.8856 - val_loss: 0.3203 - val_accuracy: 0.8802\n",
      "Epoch 13/20\n",
      "1500/1500 [==============================] - 1s 725us/step - loss: 0.3012 - accuracy: 0.8866 - val_loss: 0.3257 - val_accuracy: 0.8823\n",
      "Epoch 14/20\n",
      "1500/1500 [==============================] - 1s 719us/step - loss: 0.2977 - accuracy: 0.8889 - val_loss: 0.3183 - val_accuracy: 0.8839\n",
      "Epoch 15/20\n",
      "1500/1500 [==============================] - 1s 739us/step - loss: 0.2895 - accuracy: 0.8936 - val_loss: 0.3394 - val_accuracy: 0.8816\n",
      "Epoch 16/20\n",
      "1500/1500 [==============================] - 1s 738us/step - loss: 0.2884 - accuracy: 0.8915 - val_loss: 0.3269 - val_accuracy: 0.8820\n",
      "Epoch 17/20\n",
      "1500/1500 [==============================] - 1s 756us/step - loss: 0.2842 - accuracy: 0.8932 - val_loss: 0.3230 - val_accuracy: 0.8852\n",
      "Epoch 18/20\n",
      "1500/1500 [==============================] - 1s 721us/step - loss: 0.2794 - accuracy: 0.8945 - val_loss: 0.3286 - val_accuracy: 0.8843\n",
      "Epoch 19/20\n",
      "1500/1500 [==============================] - 1s 731us/step - loss: 0.2778 - accuracy: 0.8952 - val_loss: 0.3151 - val_accuracy: 0.8870\n",
      "Epoch 20/20\n",
      "1500/1500 [==============================] - 1s 719us/step - loss: 0.2732 - accuracy: 0.8972 - val_loss: 0.3156 - val_accuracy: 0.8864\n"
     ]
    }
   ],
   "source": [
    "model.compile(optimizer='adam',loss='sparse_categorical_crossentropy', metrics='accuracy')\n",
    "history = model.fit(train_scaled, train_target, epochs=20,\n",
    "                    validation_data=(val_scaled, val_target)#fitting 할때 train과 val을 한번에 같이 가능\n",
    "                    )"
   ]
  },
  {
   "cell_type": "code",
   "execution_count": 19,
   "metadata": {},
   "outputs": [
    {
     "data": {
      "image/png": "[encoded data removed]",
      "text/plain": [
       "<Figure size 432x288 with 1 Axes>"
      ]
     },
     "metadata": {
      "needs_background": "light"
     },
     "output_type": "display_data"
    }
   ],
   "source": [
    "plt.plot(history.history['loss'])\n",
    "plt.plot(history.history['val_loss'])\n",
    "plt.xlabel('epoch')\n",
    "plt.ylabel('loss')\n",
    "plt.legend(['train', 'val'])\n",
    "plt.show()"
   ]
  },
  {
   "cell_type": "markdown",
   "metadata": {},
   "source": [
    "> epochs가 10일 경우가 train과 val의 차이가 적은 것 같다.   \n",
    "> 기본적으로 훈련세트의 손실이 검증세트보다 적게 나오는 epochs의 갯수를 선택한다."
   ]
  },
  {
   "cell_type": "markdown",
   "metadata": {},
   "source": [
    "---\n",
    "## 모델의 저장과 복원\n",
    "- hdf5 format으로 저장"
   ]
  },
  {
   "cell_type": "code",
   "execution_count": 20,
   "metadata": {},
   "outputs": [],
   "source": [
    "# model 저장\n",
    "model.save(\"../Data/model-whole.h5\")"
   ]
  },
  {
   "cell_type": "markdown",
   "metadata": {},
   "source": [
    "> 어떤 모델을 쓸지 고민일때 저장을 많이함"
   ]
  },
  {
   "cell_type": "code",
   "execution_count": 21,
   "metadata": {},
   "outputs": [],
   "source": [
    "# model 복원\n",
    "model = keras.models.load_model(\"../Data/model-whole.h5\")"
   ]
  },
  {
   "cell_type": "code",
   "execution_count": 22,
   "metadata": {},
   "outputs": [
    {
     "name": "stdout",
     "output_type": "stream",
     "text": [
      "375/375 [==============================] - 0s 389us/step - loss: 0.3156 - accuracy: 0.8864\n"
     ]
    },
    {
     "data": {
      "text/plain": [
       "[0.3155819773674011, 0.8864166736602783]"
      ]
     },
     "execution_count": 22,
     "metadata": {},
     "output_type": "execute_result"
    }
   ],
   "source": [
    "# 사용\n",
    "model.evaluate(val_scaled, val_target)"
   ]
  },
  {
   "cell_type": "markdown",
   "metadata": {},
   "source": [
    "---\n",
    "# ***** Callbacks\n",
    "- 훈련수행시 손실값이 제일 작은 함수를 저장해 준다. <- 굉장히 편함"
   ]
  },
  {
   "cell_type": "code",
   "execution_count": 23,
   "metadata": {},
   "outputs": [
    {
     "name": "stdout",
     "output_type": "stream",
     "text": [
      "Epoch 1/20\n",
      "1500/1500 [==============================] - 1s 871us/step - loss: 0.5948 - accuracy: 0.7909 - val_loss: 0.4301 - val_accuracy: 0.8472\n",
      "Epoch 2/20\n",
      "1500/1500 [==============================] - 1s 760us/step - loss: 0.4423 - accuracy: 0.8406 - val_loss: 0.3931 - val_accuracy: 0.8536\n",
      "Epoch 3/20\n",
      "1500/1500 [==============================] - 1s 811us/step - loss: 0.4041 - accuracy: 0.8533 - val_loss: 0.3696 - val_accuracy: 0.8653\n",
      "Epoch 4/20\n",
      "1500/1500 [==============================] - 1s 837us/step - loss: 0.3816 - accuracy: 0.8603 - val_loss: 0.3578 - val_accuracy: 0.8688\n",
      "Epoch 5/20\n",
      "1500/1500 [==============================] - 1s 789us/step - loss: 0.3667 - accuracy: 0.8646 - val_loss: 0.3439 - val_accuracy: 0.8727\n",
      "Epoch 6/20\n",
      "1500/1500 [==============================] - 1s 738us/step - loss: 0.3554 - accuracy: 0.8691 - val_loss: 0.3373 - val_accuracy: 0.8774\n",
      "Epoch 7/20\n",
      "1500/1500 [==============================] - 1s 815us/step - loss: 0.3459 - accuracy: 0.8724 - val_loss: 0.3318 - val_accuracy: 0.8776\n",
      "Epoch 8/20\n",
      "1500/1500 [==============================] - 1s 818us/step - loss: 0.3357 - accuracy: 0.8735 - val_loss: 0.3397 - val_accuracy: 0.8778\n",
      "Epoch 9/20\n",
      "1500/1500 [==============================] - 1s 745us/step - loss: 0.3286 - accuracy: 0.8766 - val_loss: 0.3256 - val_accuracy: 0.8823\n",
      "Epoch 10/20\n",
      "1500/1500 [==============================] - 1s 805us/step - loss: 0.3185 - accuracy: 0.8809 - val_loss: 0.3310 - val_accuracy: 0.8782\n",
      "Epoch 11/20\n",
      "1500/1500 [==============================] - 1s 751us/step - loss: 0.3145 - accuracy: 0.8826 - val_loss: 0.3270 - val_accuracy: 0.8790\n",
      "Epoch 12/20\n",
      "1500/1500 [==============================] - 1s 744us/step - loss: 0.3077 - accuracy: 0.8852 - val_loss: 0.3353 - val_accuracy: 0.8801\n",
      "Epoch 13/20\n",
      "1500/1500 [==============================] - 1s 723us/step - loss: 0.3052 - accuracy: 0.8849 - val_loss: 0.3373 - val_accuracy: 0.8748\n",
      "Epoch 14/20\n",
      "1500/1500 [==============================] - 1s 741us/step - loss: 0.3009 - accuracy: 0.8873 - val_loss: 0.3330 - val_accuracy: 0.8796\n",
      "Epoch 15/20\n",
      "1500/1500 [==============================] - 1s 726us/step - loss: 0.2942 - accuracy: 0.8890 - val_loss: 0.3305 - val_accuracy: 0.8826\n",
      "Epoch 16/20\n",
      "1500/1500 [==============================] - 1s 750us/step - loss: 0.2897 - accuracy: 0.8909 - val_loss: 0.3379 - val_accuracy: 0.8815\n",
      "Epoch 17/20\n",
      "1500/1500 [==============================] - 1s 738us/step - loss: 0.2862 - accuracy: 0.8913 - val_loss: 0.3231 - val_accuracy: 0.8853\n",
      "Epoch 18/20\n",
      "1500/1500 [==============================] - 1s 811us/step - loss: 0.2810 - accuracy: 0.8945 - val_loss: 0.3173 - val_accuracy: 0.8873\n",
      "Epoch 19/20\n",
      "1500/1500 [==============================] - 1s 761us/step - loss: 0.2790 - accuracy: 0.8946 - val_loss: 0.3245 - val_accuracy: 0.8858\n",
      "Epoch 20/20\n",
      "1500/1500 [==============================] - 1s 725us/step - loss: 0.2748 - accuracy: 0.8966 - val_loss: 0.3314 - val_accuracy: 0.8812\n"
     ]
    },
    {
     "data": {
      "text/plain": [
       "<keras.callbacks.History at 0x28e9e9d30>"
      ]
     },
     "execution_count": 23,
     "metadata": {},
     "output_type": "execute_result"
    }
   ],
   "source": [
    "model = model_fn(keras.layers.Dropout(0.3))\n",
    "model.compile(optimizer='adam',loss='sparse_categorical_crossentropy', metrics='accuracy')\n",
    "\n",
    "checkpoint_cb = keras.callbacks.ModelCheckpoint(\"../Data/best-model.h5\")\n",
    "\n",
    "model.fit(train_scaled, train_target, epochs=20,validation_data=(val_scaled, val_target),\n",
    "          callbacks = [checkpoint_cb]  \n",
    "         )"
   ]
  },
  {
   "cell_type": "code",
   "execution_count": 24,
   "metadata": {},
   "outputs": [
    {
     "name": "stdout",
     "output_type": "stream",
     "text": [
      "375/375 [==============================] - 0s 394us/step - loss: 0.3314 - accuracy: 0.8812\n"
     ]
    },
    {
     "data": {
      "text/plain": [
       "[0.33142560720443726, 0.8811666369438171]"
      ]
     },
     "execution_count": 24,
     "metadata": {},
     "output_type": "execute_result"
    }
   ],
   "source": [
    "model = keras.models.load_model(\"../Data/best-model.h5\")\n",
    "model.evaluate(val_scaled, val_target)"
   ]
  },
  {
   "cell_type": "markdown",
   "metadata": {},
   "source": [
    "---\n",
    "# ***** Early-Stopping(조기종료)\n",
    "- Callback처럼 끝까지 기다리는 것이 아니고 hyper parameter을 선정하여 한계값을 정해 실행한다.\n",
    "- hyper parameter는 몇번까지 참는지를 정해줘 => patience\n",
    "- restore_best_weights = True (가중치값)은 무조건 적어줘야해 이걸 안적어주면 끝낸자리의 값을 저장함."
   ]
  },
  {
   "cell_type": "code",
   "execution_count": 25,
   "metadata": {},
   "outputs": [
    {
     "name": "stdout",
     "output_type": "stream",
     "text": [
      "Epoch 1/20\n",
      "1500/1500 [==============================] - 1s 807us/step - loss: 0.5896 - accuracy: 0.7921 - val_loss: 0.4370 - val_accuracy: 0.8389\n",
      "Epoch 2/20\n",
      "1500/1500 [==============================] - 1s 722us/step - loss: 0.4402 - accuracy: 0.8420 - val_loss: 0.3930 - val_accuracy: 0.8557\n",
      "Epoch 3/20\n",
      "1500/1500 [==============================] - 1s 900us/step - loss: 0.4011 - accuracy: 0.8539 - val_loss: 0.3662 - val_accuracy: 0.8629\n",
      "Epoch 4/20\n",
      "1500/1500 [==============================] - 1s 801us/step - loss: 0.3791 - accuracy: 0.8631 - val_loss: 0.3789 - val_accuracy: 0.8637\n",
      "Epoch 5/20\n",
      "1500/1500 [==============================] - 1s 723us/step - loss: 0.3631 - accuracy: 0.8680 - val_loss: 0.3532 - val_accuracy: 0.8701\n",
      "Epoch 6/20\n",
      "1500/1500 [==============================] - 1s 746us/step - loss: 0.3501 - accuracy: 0.8720 - val_loss: 0.3530 - val_accuracy: 0.8711\n",
      "Epoch 7/20\n",
      "1500/1500 [==============================] - 1s 853us/step - loss: 0.3421 - accuracy: 0.8750 - val_loss: 0.3363 - val_accuracy: 0.8775\n",
      "Epoch 8/20\n",
      "1500/1500 [==============================] - 1s 722us/step - loss: 0.3350 - accuracy: 0.8768 - val_loss: 0.3375 - val_accuracy: 0.8807\n",
      "Epoch 9/20\n",
      "1500/1500 [==============================] - 1s 750us/step - loss: 0.3223 - accuracy: 0.8810 - val_loss: 0.3382 - val_accuracy: 0.8806\n"
     ]
    }
   ],
   "source": [
    "model = model_fn(keras.layers.Dropout(0.3))\n",
    "model.compile(optimizer='adam',loss='sparse_categorical_crossentropy', metrics='accuracy')\n",
    "\n",
    "checkpoint_cb = keras.callbacks.ModelCheckpoint(\"../Data/best-model.h5\")\n",
    "\n",
    "early_stopping_cb = keras.callbacks.EarlyStopping(patience=2, restore_best_weights=True)\n",
    "\n",
    "history = model.fit(train_scaled, train_target, epochs=20,validation_data=(val_scaled, val_target),\n",
    "                    callbacks = [checkpoint_cb, early_stopping_cb]  \n",
    "                    )"
   ]
  },
  {
   "cell_type": "code",
   "execution_count": 26,
   "metadata": {},
   "outputs": [
    {
     "data": {
      "text/plain": [
       "8"
      ]
     },
     "execution_count": 26,
     "metadata": {},
     "output_type": "execute_result"
    }
   ],
   "source": [
    "# 몇번째 epoch에서 stop 되었는가?\n",
    "early_stopping_cb.stopped_epoch"
   ]
  },
  {
   "cell_type": "code",
   "execution_count": 27,
   "metadata": {},
   "outputs": [
    {
     "data": {
      "image/png": "[encoded data removed]",
      "text/plain": [
       "<Figure size 432x288 with 1 Axes>"
      ]
     },
     "metadata": {
      "needs_background": "light"
     },
     "output_type": "display_data"
    }
   ],
   "source": [
    "plt.plot(history.history['loss'])\n",
    "plt.plot(history.history['val_loss'])\n",
    "plt.xlabel('epoch')\n",
    "plt.ylabel('loss')\n",
    "plt.legend(['train', 'val'])\n",
    "plt.show()"
   ]
  }
 ],
 "metadata": {
  "kernelspec": {
   "display_name": "Python 3.9.13",
   "language": "python",
   "name": "python3"
  },
  "language_info": {
   "codemirror_mode": {
    "name": "ipython",
    "version": 3
   },
   "file_extension": ".py",
   "mimetype": "text/x-python",
   "name": "python",
   "nbconvert_exporter": "python",
   "pygments_lexer": "ipython3",
   "version": "3.9.13"
  },
  "orig_nbformat": 4,
  "vscode": {
   "interpreter": {
    "hash": "00c8100a7997e958d8100731b108691612e131425235a19f9419f6b3b0ff44b3"
   }
  }
 },
 "nbformat": 4,
 "nbformat_minor": 2
}
