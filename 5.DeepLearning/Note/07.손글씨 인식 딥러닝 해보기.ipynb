{
 "cells": [
  {
   "cell_type": "code",
   "execution_count": 1,
   "metadata": {},
   "outputs": [],
   "source": [
    "import warnings\n",
    "warnings.filterwarnings('ignore')\n",
    "\n",
    "# GPU 사용 설정\n",
    "import os\n",
    "os.environ[\"TF_CPP_MIN_LOG_LEVEL\"] = '1'"
   ]
  },
  {
   "cell_type": "markdown",
   "metadata": {},
   "source": [
    "# Keras를 이용한 손글씨 인식 딥러닝\n",
    "- Tensorflow로 작성된 프로그램은 sklearn Library를 사용할때보다 어렵다.\n",
    "- Keras는 머신러닝 라이브러리 테마노(Theamo)와 Tensorflow를 Wrapping한 라이브러리"
   ]
  },
  {
   "cell_type": "code",
   "execution_count": 2,
   "metadata": {},
   "outputs": [
    {
     "data": {
      "text/plain": [
       "(   0    1    2    3    4    5    6    7    8    9    ...  775  776  777  778  \\\n",
       " 0    5    0    0    0    0    0    0    0    0    0  ...    0    0    0    0   \n",
       " 1    0    0    0    0    0    0    0    0    0    0  ...    0    0    0    0   \n",
       " 2    4    0    0    0    0    0    0    0    0    0  ...    0    0    0    0   \n",
       " 3    1    0    0    0    0    0    0    0    0    0  ...    0    0    0    0   \n",
       " 4    9    0    0    0    0    0    0    0    0    0  ...    0    0    0    0   \n",
       " \n",
       "    779  780  781  782  783  784  \n",
       " 0    0    0    0    0    0    0  \n",
       " 1    0    0    0    0    0    0  \n",
       " 2    0    0    0    0    0    0  \n",
       " 3    0    0    0    0    0    0  \n",
       " 4    0    0    0    0    0    0  \n",
       " \n",
       " [5 rows x 785 columns],\n",
       "    0    1    2    3    4    5    6    7    8    9    ...  775  776  777  778  \\\n",
       " 0    7    0    0    0    0    0    0    0    0    0  ...    0    0    0    0   \n",
       " 1    2    0    0    0    0    0    0    0    0    0  ...    0    0    0    0   \n",
       " 2    1    0    0    0    0    0    0    0    0    0  ...    0    0    0    0   \n",
       " 3    0    0    0    0    0    0    0    0    0    0  ...    0    0    0    0   \n",
       " 4    4    0    0    0    0    0    0    0    0    0  ...    0    0    0    0   \n",
       " \n",
       "    779  780  781  782  783  784  \n",
       " 0    0    0    0    0    0    0  \n",
       " 1    0    0    0    0    0    0  \n",
       " 2    0    0    0    0    0    0  \n",
       " 3    0    0    0    0    0    0  \n",
       " 4    0    0    0    0    0    0  \n",
       " \n",
       " [5 rows x 785 columns],\n",
       " 0      20001\n",
       " 1      20001\n",
       " 2      20001\n",
       " 3      20001\n",
       " 4      20001\n",
       "        ...  \n",
       " 780    20001\n",
       " 781    20001\n",
       " 782    20001\n",
       " 783    20001\n",
       " 784    20001\n",
       " Length: 785, dtype: int64)"
      ]
     },
     "execution_count": 2,
     "metadata": {},
     "output_type": "execute_result"
    }
   ],
   "source": [
    "import pandas as pd\n",
    "train = pd.read_csv(\"../Data/train_20k.csv\", header=None)\n",
    "test = pd.read_csv(\"../Data/test_1k.csv\", header=None)\n",
    "(train.head(), test.head(), train.count())"
   ]
  },
  {
   "cell_type": "markdown",
   "metadata": {},
   "source": [
    "---\n",
    "## Preprocessing (전처리)"
   ]
  },
  {
   "cell_type": "code",
   "execution_count": 3,
   "metadata": {},
   "outputs": [
    {
     "data": {
      "text/plain": [
       "0"
      ]
     },
     "execution_count": 3,
     "metadata": {},
     "output_type": "execute_result"
    }
   ],
   "source": [
    "# null\n",
    "# 행이 너무 많으면 snm을 한번더해서 확인하기\n",
    "train.isnull().sum().sum()"
   ]
  },
  {
   "cell_type": "code",
   "execution_count": 4,
   "metadata": {},
   "outputs": [
    {
     "data": {
      "text/plain": [
       "0"
      ]
     },
     "execution_count": 4,
     "metadata": {},
     "output_type": "execute_result"
    }
   ],
   "source": [
    "test.isnull().sum().sum()"
   ]
  },
  {
   "cell_type": "code",
   "execution_count": 5,
   "metadata": {},
   "outputs": [
    {
     "data": {
      "text/html": [
       "<div>\n",
       "<style scoped>\n",
       "    .dataframe tbody tr th:only-of-type {\n",
       "        vertical-align: middle;\n",
       "    }\n",
       "\n",
       "    .dataframe tbody tr th {\n",
       "        vertical-align: top;\n",
       "    }\n",
       "\n",
       "    .dataframe thead th {\n",
       "        text-align: right;\n",
       "    }\n",
       "</style>\n",
       "<table border=\"1\" class=\"dataframe\">\n",
       "  <thead>\n",
       "    <tr style=\"text-align: right;\">\n",
       "      <th></th>\n",
       "      <th>1</th>\n",
       "      <th>2</th>\n",
       "      <th>3</th>\n",
       "      <th>4</th>\n",
       "      <th>5</th>\n",
       "      <th>6</th>\n",
       "      <th>7</th>\n",
       "      <th>8</th>\n",
       "      <th>9</th>\n",
       "      <th>10</th>\n",
       "      <th>...</th>\n",
       "      <th>775</th>\n",
       "      <th>776</th>\n",
       "      <th>777</th>\n",
       "      <th>778</th>\n",
       "      <th>779</th>\n",
       "      <th>780</th>\n",
       "      <th>781</th>\n",
       "      <th>782</th>\n",
       "      <th>783</th>\n",
       "      <th>784</th>\n",
       "    </tr>\n",
       "  </thead>\n",
       "  <tbody>\n",
       "    <tr>\n",
       "      <th>0</th>\n",
       "      <td>0</td>\n",
       "      <td>0</td>\n",
       "      <td>0</td>\n",
       "      <td>0</td>\n",
       "      <td>0</td>\n",
       "      <td>0</td>\n",
       "      <td>0</td>\n",
       "      <td>0</td>\n",
       "      <td>0</td>\n",
       "      <td>0</td>\n",
       "      <td>...</td>\n",
       "      <td>0</td>\n",
       "      <td>0</td>\n",
       "      <td>0</td>\n",
       "      <td>0</td>\n",
       "      <td>0</td>\n",
       "      <td>0</td>\n",
       "      <td>0</td>\n",
       "      <td>0</td>\n",
       "      <td>0</td>\n",
       "      <td>0</td>\n",
       "    </tr>\n",
       "    <tr>\n",
       "      <th>1</th>\n",
       "      <td>0</td>\n",
       "      <td>0</td>\n",
       "      <td>0</td>\n",
       "      <td>0</td>\n",
       "      <td>0</td>\n",
       "      <td>0</td>\n",
       "      <td>0</td>\n",
       "      <td>0</td>\n",
       "      <td>0</td>\n",
       "      <td>0</td>\n",
       "      <td>...</td>\n",
       "      <td>0</td>\n",
       "      <td>0</td>\n",
       "      <td>0</td>\n",
       "      <td>0</td>\n",
       "      <td>0</td>\n",
       "      <td>0</td>\n",
       "      <td>0</td>\n",
       "      <td>0</td>\n",
       "      <td>0</td>\n",
       "      <td>0</td>\n",
       "    </tr>\n",
       "    <tr>\n",
       "      <th>2</th>\n",
       "      <td>0</td>\n",
       "      <td>0</td>\n",
       "      <td>0</td>\n",
       "      <td>0</td>\n",
       "      <td>0</td>\n",
       "      <td>0</td>\n",
       "      <td>0</td>\n",
       "      <td>0</td>\n",
       "      <td>0</td>\n",
       "      <td>0</td>\n",
       "      <td>...</td>\n",
       "      <td>0</td>\n",
       "      <td>0</td>\n",
       "      <td>0</td>\n",
       "      <td>0</td>\n",
       "      <td>0</td>\n",
       "      <td>0</td>\n",
       "      <td>0</td>\n",
       "      <td>0</td>\n",
       "      <td>0</td>\n",
       "      <td>0</td>\n",
       "    </tr>\n",
       "    <tr>\n",
       "      <th>3</th>\n",
       "      <td>0</td>\n",
       "      <td>0</td>\n",
       "      <td>0</td>\n",
       "      <td>0</td>\n",
       "      <td>0</td>\n",
       "      <td>0</td>\n",
       "      <td>0</td>\n",
       "      <td>0</td>\n",
       "      <td>0</td>\n",
       "      <td>0</td>\n",
       "      <td>...</td>\n",
       "      <td>0</td>\n",
       "      <td>0</td>\n",
       "      <td>0</td>\n",
       "      <td>0</td>\n",
       "      <td>0</td>\n",
       "      <td>0</td>\n",
       "      <td>0</td>\n",
       "      <td>0</td>\n",
       "      <td>0</td>\n",
       "      <td>0</td>\n",
       "    </tr>\n",
       "    <tr>\n",
       "      <th>4</th>\n",
       "      <td>0</td>\n",
       "      <td>0</td>\n",
       "      <td>0</td>\n",
       "      <td>0</td>\n",
       "      <td>0</td>\n",
       "      <td>0</td>\n",
       "      <td>0</td>\n",
       "      <td>0</td>\n",
       "      <td>0</td>\n",
       "      <td>0</td>\n",
       "      <td>...</td>\n",
       "      <td>0</td>\n",
       "      <td>0</td>\n",
       "      <td>0</td>\n",
       "      <td>0</td>\n",
       "      <td>0</td>\n",
       "      <td>0</td>\n",
       "      <td>0</td>\n",
       "      <td>0</td>\n",
       "      <td>0</td>\n",
       "      <td>0</td>\n",
       "    </tr>\n",
       "    <tr>\n",
       "      <th>...</th>\n",
       "      <td>...</td>\n",
       "      <td>...</td>\n",
       "      <td>...</td>\n",
       "      <td>...</td>\n",
       "      <td>...</td>\n",
       "      <td>...</td>\n",
       "      <td>...</td>\n",
       "      <td>...</td>\n",
       "      <td>...</td>\n",
       "      <td>...</td>\n",
       "      <td>...</td>\n",
       "      <td>...</td>\n",
       "      <td>...</td>\n",
       "      <td>...</td>\n",
       "      <td>...</td>\n",
       "      <td>...</td>\n",
       "      <td>...</td>\n",
       "      <td>...</td>\n",
       "      <td>...</td>\n",
       "      <td>...</td>\n",
       "      <td>...</td>\n",
       "    </tr>\n",
       "    <tr>\n",
       "      <th>19996</th>\n",
       "      <td>0</td>\n",
       "      <td>0</td>\n",
       "      <td>0</td>\n",
       "      <td>0</td>\n",
       "      <td>0</td>\n",
       "      <td>0</td>\n",
       "      <td>0</td>\n",
       "      <td>0</td>\n",
       "      <td>0</td>\n",
       "      <td>0</td>\n",
       "      <td>...</td>\n",
       "      <td>0</td>\n",
       "      <td>0</td>\n",
       "      <td>0</td>\n",
       "      <td>0</td>\n",
       "      <td>0</td>\n",
       "      <td>0</td>\n",
       "      <td>0</td>\n",
       "      <td>0</td>\n",
       "      <td>0</td>\n",
       "      <td>0</td>\n",
       "    </tr>\n",
       "    <tr>\n",
       "      <th>19997</th>\n",
       "      <td>0</td>\n",
       "      <td>0</td>\n",
       "      <td>0</td>\n",
       "      <td>0</td>\n",
       "      <td>0</td>\n",
       "      <td>0</td>\n",
       "      <td>0</td>\n",
       "      <td>0</td>\n",
       "      <td>0</td>\n",
       "      <td>0</td>\n",
       "      <td>...</td>\n",
       "      <td>0</td>\n",
       "      <td>0</td>\n",
       "      <td>0</td>\n",
       "      <td>0</td>\n",
       "      <td>0</td>\n",
       "      <td>0</td>\n",
       "      <td>0</td>\n",
       "      <td>0</td>\n",
       "      <td>0</td>\n",
       "      <td>0</td>\n",
       "    </tr>\n",
       "    <tr>\n",
       "      <th>19998</th>\n",
       "      <td>0</td>\n",
       "      <td>0</td>\n",
       "      <td>0</td>\n",
       "      <td>0</td>\n",
       "      <td>0</td>\n",
       "      <td>0</td>\n",
       "      <td>0</td>\n",
       "      <td>0</td>\n",
       "      <td>0</td>\n",
       "      <td>0</td>\n",
       "      <td>...</td>\n",
       "      <td>0</td>\n",
       "      <td>0</td>\n",
       "      <td>0</td>\n",
       "      <td>0</td>\n",
       "      <td>0</td>\n",
       "      <td>0</td>\n",
       "      <td>0</td>\n",
       "      <td>0</td>\n",
       "      <td>0</td>\n",
       "      <td>0</td>\n",
       "    </tr>\n",
       "    <tr>\n",
       "      <th>19999</th>\n",
       "      <td>0</td>\n",
       "      <td>0</td>\n",
       "      <td>0</td>\n",
       "      <td>0</td>\n",
       "      <td>0</td>\n",
       "      <td>0</td>\n",
       "      <td>0</td>\n",
       "      <td>0</td>\n",
       "      <td>0</td>\n",
       "      <td>0</td>\n",
       "      <td>...</td>\n",
       "      <td>0</td>\n",
       "      <td>0</td>\n",
       "      <td>0</td>\n",
       "      <td>0</td>\n",
       "      <td>0</td>\n",
       "      <td>0</td>\n",
       "      <td>0</td>\n",
       "      <td>0</td>\n",
       "      <td>0</td>\n",
       "      <td>0</td>\n",
       "    </tr>\n",
       "    <tr>\n",
       "      <th>20000</th>\n",
       "      <td>0</td>\n",
       "      <td>0</td>\n",
       "      <td>0</td>\n",
       "      <td>0</td>\n",
       "      <td>0</td>\n",
       "      <td>0</td>\n",
       "      <td>0</td>\n",
       "      <td>0</td>\n",
       "      <td>0</td>\n",
       "      <td>0</td>\n",
       "      <td>...</td>\n",
       "      <td>0</td>\n",
       "      <td>0</td>\n",
       "      <td>0</td>\n",
       "      <td>0</td>\n",
       "      <td>0</td>\n",
       "      <td>0</td>\n",
       "      <td>0</td>\n",
       "      <td>0</td>\n",
       "      <td>0</td>\n",
       "      <td>0</td>\n",
       "    </tr>\n",
       "  </tbody>\n",
       "</table>\n",
       "<p>20001 rows × 784 columns</p>\n",
       "</div>"
      ],
      "text/plain": [
       "       1    2    3    4    5    6    7    8    9    10   ...  775  776  777  \\\n",
       "0        0    0    0    0    0    0    0    0    0    0  ...    0    0    0   \n",
       "1        0    0    0    0    0    0    0    0    0    0  ...    0    0    0   \n",
       "2        0    0    0    0    0    0    0    0    0    0  ...    0    0    0   \n",
       "3        0    0    0    0    0    0    0    0    0    0  ...    0    0    0   \n",
       "4        0    0    0    0    0    0    0    0    0    0  ...    0    0    0   \n",
       "...    ...  ...  ...  ...  ...  ...  ...  ...  ...  ...  ...  ...  ...  ...   \n",
       "19996    0    0    0    0    0    0    0    0    0    0  ...    0    0    0   \n",
       "19997    0    0    0    0    0    0    0    0    0    0  ...    0    0    0   \n",
       "19998    0    0    0    0    0    0    0    0    0    0  ...    0    0    0   \n",
       "19999    0    0    0    0    0    0    0    0    0    0  ...    0    0    0   \n",
       "20000    0    0    0    0    0    0    0    0    0    0  ...    0    0    0   \n",
       "\n",
       "       778  779  780  781  782  783  784  \n",
       "0        0    0    0    0    0    0    0  \n",
       "1        0    0    0    0    0    0    0  \n",
       "2        0    0    0    0    0    0    0  \n",
       "3        0    0    0    0    0    0    0  \n",
       "4        0    0    0    0    0    0    0  \n",
       "...    ...  ...  ...  ...  ...  ...  ...  \n",
       "19996    0    0    0    0    0    0    0  \n",
       "19997    0    0    0    0    0    0    0  \n",
       "19998    0    0    0    0    0    0    0  \n",
       "19999    0    0    0    0    0    0    0  \n",
       "20000    0    0    0    0    0    0    0  \n",
       "\n",
       "[20001 rows x 784 columns]"
      ]
     },
     "execution_count": 5,
     "metadata": {},
     "output_type": "execute_result"
    }
   ],
   "source": [
    "train.iloc[:,1:]"
   ]
  },
  {
   "cell_type": "markdown",
   "metadata": {},
   "source": [
    "#### train과 test를 Feature와 Target으로 분리하고 정규화하기"
   ]
  },
  {
   "cell_type": "code",
   "execution_count": 6,
   "metadata": {},
   "outputs": [
    {
     "name": "stdout",
     "output_type": "stream",
     "text": [
      "   0\n",
      "0  5\n",
      "1  0\n",
      "2  4\n",
      "3  1\n",
      "4  9\n",
      "   1    2    3    4    5    6    7    8    9    10   ...  775  776  777  778  \\\n",
      "0  0.0  0.0  0.0  0.0  0.0  0.0  0.0  0.0  0.0  0.0  ...  0.0  0.0  0.0  0.0   \n",
      "1  0.0  0.0  0.0  0.0  0.0  0.0  0.0  0.0  0.0  0.0  ...  0.0  0.0  0.0  0.0   \n",
      "2  0.0  0.0  0.0  0.0  0.0  0.0  0.0  0.0  0.0  0.0  ...  0.0  0.0  0.0  0.0   \n",
      "3  0.0  0.0  0.0  0.0  0.0  0.0  0.0  0.0  0.0  0.0  ...  0.0  0.0  0.0  0.0   \n",
      "4  0.0  0.0  0.0  0.0  0.0  0.0  0.0  0.0  0.0  0.0  ...  0.0  0.0  0.0  0.0   \n",
      "\n",
      "   779  780  781  782  783  784  \n",
      "0  0.0  0.0  0.0  0.0  0.0  0.0  \n",
      "1  0.0  0.0  0.0  0.0  0.0  0.0  \n",
      "2  0.0  0.0  0.0  0.0  0.0  0.0  \n",
      "3  0.0  0.0  0.0  0.0  0.0  0.0  \n",
      "4  0.0  0.0  0.0  0.0  0.0  0.0  \n",
      "\n",
      "[5 rows x 784 columns]\n",
      "********************\n",
      "0    7\n",
      "1    2\n",
      "2    1\n",
      "3    0\n",
      "4    4\n",
      "Name: 0, dtype: int64\n",
      "   1    2    3    4    5    6    7    8    9    10   ...  775  776  777  778  \\\n",
      "0  0.0  0.0  0.0  0.0  0.0  0.0  0.0  0.0  0.0  0.0  ...  0.0  0.0  0.0  0.0   \n",
      "1  0.0  0.0  0.0  0.0  0.0  0.0  0.0  0.0  0.0  0.0  ...  0.0  0.0  0.0  0.0   \n",
      "2  0.0  0.0  0.0  0.0  0.0  0.0  0.0  0.0  0.0  0.0  ...  0.0  0.0  0.0  0.0   \n",
      "3  0.0  0.0  0.0  0.0  0.0  0.0  0.0  0.0  0.0  0.0  ...  0.0  0.0  0.0  0.0   \n",
      "4  0.0  0.0  0.0  0.0  0.0  0.0  0.0  0.0  0.0  0.0  ...  0.0  0.0  0.0  0.0   \n",
      "\n",
      "   779  780  781  782  783  784  \n",
      "0  0.0  0.0  0.0  0.0  0.0  0.0  \n",
      "1  0.0  0.0  0.0  0.0  0.0  0.0  \n",
      "2  0.0  0.0  0.0  0.0  0.0  0.0  \n",
      "3  0.0  0.0  0.0  0.0  0.0  0.0  \n",
      "4  0.0  0.0  0.0  0.0  0.0  0.0  \n",
      "\n",
      "[5 rows x 784 columns]\n"
     ]
    }
   ],
   "source": [
    "# train Feature와 Target으로 분리\n",
    "train_label = train.loc[:, train.columns == 0]\n",
    "train_data = train.loc[:, train.columns != 0]\n",
    "\n",
    "# train data 정규화\n",
    "train_data = train_data / 255\n",
    "\n",
    "\n",
    "\n",
    "# test Feature와 Target으로 분리\n",
    "test_label = test[0]\n",
    "test_data = test.iloc[:,1:]\n",
    "\n",
    "# test data 정규화\n",
    "test_data = test_data / 255\n",
    "\n",
    "print(train_label[0:5])\n",
    "print(train_data[0:5])\n",
    "print('*' * 20)\n",
    "print(test_label[0:5])\n",
    "print(test_data[0:5])"
   ]
  },
  {
   "cell_type": "markdown",
   "metadata": {},
   "source": [
    "## Deep Learning Model 만들기"
   ]
  },
  {
   "cell_type": "code",
   "execution_count": 7,
   "metadata": {},
   "outputs": [],
   "source": [
    "from tensorflow import keras"
   ]
  },
  {
   "cell_type": "code",
   "execution_count": 11,
   "metadata": {},
   "outputs": [],
   "source": [
    "model = keras.Sequential()\n",
    "# 히든, input_shape=(784,) -> 입력층\n",
    "# 컬럼 갯수가 784 개\n",
    "model.add(keras.layers.Dense(512, activation='softmax', input_shape=(784,)))\n",
    "# 출력 ( 출력할 node갯수가 10종류)\n",
    "model.add(keras.layers.Dense(10, activation='softmax'))"
   ]
  },
  {
   "cell_type": "code",
   "execution_count": 12,
   "metadata": {},
   "outputs": [],
   "source": [
    "from pickletools import optimize\n",
    "from sklearn import metrics\n",
    "\n",
    "model.compile(\n",
    "    optimizer='adam', #optimize가 나오면 경사하강법이구나~\n",
    "    loss='sparse_categorical_crossentropy',\n",
    "    metrics=['accuracy']\n",
    ")"
   ]
  },
  {
   "cell_type": "code",
   "execution_count": 14,
   "metadata": {},
   "outputs": [
    {
     "name": "stdout",
     "output_type": "stream",
     "text": [
      "Epoch 1/50\n",
      "626/626 [==============================] - 1s 2ms/step - loss: 0.3420 - accuracy: 0.9125\n",
      "Epoch 2/50\n",
      "626/626 [==============================] - 1s 2ms/step - loss: 0.3227 - accuracy: 0.9183\n",
      "Epoch 3/50\n",
      "626/626 [==============================] - 1s 2ms/step - loss: 0.3063 - accuracy: 0.9234\n",
      "Epoch 4/50\n",
      "626/626 [==============================] - 1s 2ms/step - loss: 0.2918 - accuracy: 0.9276\n",
      "Epoch 5/50\n",
      "626/626 [==============================] - 1s 2ms/step - loss: 0.2787 - accuracy: 0.9314\n",
      "Epoch 6/50\n",
      "626/626 [==============================] - 1s 2ms/step - loss: 0.2669 - accuracy: 0.9339\n",
      "Epoch 7/50\n",
      "626/626 [==============================] - 1s 2ms/step - loss: 0.2566 - accuracy: 0.9359\n",
      "Epoch 8/50\n",
      "626/626 [==============================] - 1s 2ms/step - loss: 0.2470 - accuracy: 0.9383\n",
      "Epoch 9/50\n",
      "626/626 [==============================] - 1s 2ms/step - loss: 0.2379 - accuracy: 0.9407\n",
      "Epoch 10/50\n",
      "626/626 [==============================] - 1s 2ms/step - loss: 0.2295 - accuracy: 0.9428\n",
      "Epoch 11/50\n",
      "626/626 [==============================] - 1s 2ms/step - loss: 0.2235 - accuracy: 0.9434\n",
      "Epoch 12/50\n",
      "626/626 [==============================] - 1s 2ms/step - loss: 0.2152 - accuracy: 0.9461\n",
      "Epoch 13/50\n",
      "626/626 [==============================] - 1s 2ms/step - loss: 0.2098 - accuracy: 0.9472\n",
      "Epoch 14/50\n",
      "626/626 [==============================] - 1s 2ms/step - loss: 0.2027 - accuracy: 0.9494\n",
      "Epoch 15/50\n",
      "626/626 [==============================] - 1s 2ms/step - loss: 0.1962 - accuracy: 0.9514\n",
      "Epoch 16/50\n",
      "626/626 [==============================] - 1s 2ms/step - loss: 0.1918 - accuracy: 0.9521\n",
      "Epoch 17/50\n",
      "626/626 [==============================] - 1s 2ms/step - loss: 0.1863 - accuracy: 0.9550\n",
      "Epoch 18/50\n",
      "626/626 [==============================] - 1s 2ms/step - loss: 0.1802 - accuracy: 0.9563\n",
      "Epoch 19/50\n",
      "626/626 [==============================] - 1s 2ms/step - loss: 0.1753 - accuracy: 0.9577\n",
      "Epoch 20/50\n",
      "626/626 [==============================] - 1s 2ms/step - loss: 0.1711 - accuracy: 0.9575\n",
      "Epoch 21/50\n",
      "626/626 [==============================] - 1s 2ms/step - loss: 0.1665 - accuracy: 0.9590\n",
      "Epoch 22/50\n",
      "626/626 [==============================] - 1s 2ms/step - loss: 0.1631 - accuracy: 0.9594\n",
      "Epoch 23/50\n",
      "626/626 [==============================] - 1s 2ms/step - loss: 0.1612 - accuracy: 0.9595\n",
      "Epoch 24/50\n",
      "626/626 [==============================] - 1s 2ms/step - loss: 0.1559 - accuracy: 0.9619\n",
      "Epoch 25/50\n",
      "626/626 [==============================] - 1s 2ms/step - loss: 0.1546 - accuracy: 0.9616\n",
      "Epoch 26/50\n",
      "626/626 [==============================] - 1s 2ms/step - loss: 0.1505 - accuracy: 0.9631\n",
      "Epoch 27/50\n",
      "626/626 [==============================] - 1s 2ms/step - loss: 0.1473 - accuracy: 0.9636\n",
      "Epoch 28/50\n",
      "626/626 [==============================] - 1s 2ms/step - loss: 0.1441 - accuracy: 0.9640\n",
      "Epoch 29/50\n",
      "626/626 [==============================] - 1s 2ms/step - loss: 0.1430 - accuracy: 0.9634\n",
      "Epoch 30/50\n",
      "626/626 [==============================] - 1s 2ms/step - loss: 0.1409 - accuracy: 0.9652\n",
      "Epoch 31/50\n",
      "626/626 [==============================] - 1s 2ms/step - loss: 0.1381 - accuracy: 0.9657\n",
      "Epoch 32/50\n",
      "626/626 [==============================] - 1s 2ms/step - loss: 0.1360 - accuracy: 0.9660\n",
      "Epoch 33/50\n",
      "626/626 [==============================] - 1s 2ms/step - loss: 0.1350 - accuracy: 0.9673\n",
      "Epoch 34/50\n",
      "626/626 [==============================] - 1s 2ms/step - loss: 0.1321 - accuracy: 0.9688\n",
      "Epoch 35/50\n",
      "626/626 [==============================] - 1s 2ms/step - loss: 0.1296 - accuracy: 0.9679\n",
      "Epoch 36/50\n",
      "626/626 [==============================] - 1s 2ms/step - loss: 0.1280 - accuracy: 0.9692\n",
      "Epoch 37/50\n",
      "626/626 [==============================] - 1s 2ms/step - loss: 0.1265 - accuracy: 0.9683\n",
      "Epoch 38/50\n",
      "626/626 [==============================] - 1s 2ms/step - loss: 0.1261 - accuracy: 0.9697\n",
      "Epoch 39/50\n",
      "626/626 [==============================] - 1s 2ms/step - loss: 0.1224 - accuracy: 0.9699\n",
      "Epoch 40/50\n",
      "626/626 [==============================] - 1s 2ms/step - loss: 0.1208 - accuracy: 0.9700\n",
      "Epoch 41/50\n",
      "626/626 [==============================] - 1s 2ms/step - loss: 0.1189 - accuracy: 0.9707\n",
      "Epoch 42/50\n",
      "626/626 [==============================] - 1s 2ms/step - loss: 0.1187 - accuracy: 0.9706\n",
      "Epoch 43/50\n",
      "626/626 [==============================] - 1s 2ms/step - loss: 0.1161 - accuracy: 0.9716\n",
      "Epoch 44/50\n",
      "626/626 [==============================] - 1s 2ms/step - loss: 0.1148 - accuracy: 0.9726\n",
      "Epoch 45/50\n",
      "626/626 [==============================] - 1s 2ms/step - loss: 0.1123 - accuracy: 0.9742\n",
      "Epoch 46/50\n",
      "626/626 [==============================] - 1s 2ms/step - loss: 0.1131 - accuracy: 0.9719\n",
      "Epoch 47/50\n",
      "626/626 [==============================] - 1s 2ms/step - loss: 0.1106 - accuracy: 0.9742\n",
      "Epoch 48/50\n",
      "626/626 [==============================] - 1s 2ms/step - loss: 0.1091 - accuracy: 0.9729\n",
      "Epoch 49/50\n",
      "626/626 [==============================] - 1s 2ms/step - loss: 0.1073 - accuracy: 0.9747\n",
      "Epoch 50/50\n",
      "626/626 [==============================] - 1s 2ms/step - loss: 0.1063 - accuracy: 0.9750\n"
     ]
    },
    {
     "data": {
      "text/plain": [
       "<keras.callbacks.History at 0x2c449ef10>"
      ]
     },
     "execution_count": 14,
     "metadata": {},
     "output_type": "execute_result"
    }
   ],
   "source": [
    "# 데이터 훈련하기\n",
    "import numpy as np\n",
    "\n",
    "model.fit(\n",
    "    np.array(train_data),\n",
    "    np.array(train_label),\n",
    "    epochs=50\n",
    ")"
   ]
  },
  {
   "cell_type": "markdown",
   "metadata": {},
   "source": [
    "---\n",
    "## 테스트 데이터로 평가하기"
   ]
  },
  {
   "cell_type": "code",
   "execution_count": 15,
   "metadata": {},
   "outputs": [
    {
     "name": "stdout",
     "output_type": "stream",
     "text": [
      "32/32 [==============================] - 0s 1ms/step - loss: 0.3314 - accuracy: 0.9121\n",
      "loss : 0.33143237233161926\n",
      "accuracy : 0.9120879173278809\n"
     ]
    }
   ],
   "source": [
    "score = model.evaluate(test_data, test_label )\n",
    "print('loss :', score[0])\n",
    "print('accuracy :' , score[1])"
   ]
  },
  {
   "cell_type": "markdown",
   "metadata": {},
   "source": [
    "---\n",
    "## test_data로 predict로 해보기"
   ]
  },
  {
   "cell_type": "code",
   "execution_count": 19,
   "metadata": {},
   "outputs": [
    {
     "name": "stdout",
     "output_type": "stream",
     "text": [
      "32/32 [==============================] - 0s 956us/step\n",
      "test label : 0    7\n",
      "1    2\n",
      "2    1\n",
      "3    0\n",
      "4    4\n",
      "5    1\n",
      "6    4\n",
      "7    9\n",
      "8    5\n",
      "9    9\n",
      "Name: 0, dtype: int64\n",
      "pred : [7 2 1 0 4 1 4 9 6 9]\n"
     ]
    }
   ],
   "source": [
    "pred = model.predict(test_data)\n",
    "print(\"test label :\", test_label[:10])\n",
    "# 지금은 인덱스값이 정답값임\n",
    "print(\"pred :\", np.argmax(pred[:10], axis=1))"
   ]
  },
  {
   "cell_type": "code",
   "execution_count": 20,
   "metadata": {},
   "outputs": [
    {
     "data": {
      "text/plain": [
       "array([7])"
      ]
     },
     "execution_count": 20,
     "metadata": {},
     "output_type": "execute_result"
    }
   ],
   "source": [
    "# softmax기 때문에 첫번째 데이터가 10개 각각의 확률값이 나온다. 그중에 제일 높은수가 예측값으로 나오는거임\n",
    "pred[:1]\n",
    "\n",
    "# 이렇게 나오는걸 제일 높은 '인덱스값'을 뽑아서 보여주는 argmax를 사용\n",
    "np.argmax(pred[:1], axis=1) # 를 사용."
   ]
  },
  {
   "cell_type": "code",
   "execution_count": 22,
   "metadata": {},
   "outputs": [
    {
     "data": {
      "text/plain": [
       "1"
      ]
     },
     "execution_count": 22,
     "metadata": {},
     "output_type": "execute_result"
    }
   ],
   "source": [
    "# 제일 큰수가 4인데 인덱스로 1번째에 있으니까. 1이 나옴\n",
    "np.argmax(np.array([1,4,3,2]))"
   ]
  },
  {
   "cell_type": "markdown",
   "metadata": {},
   "source": [
    "---\n",
    "# 번외 : Image 만들기\n",
    "- 데이터가 없을땐 이렇게 만들어줘"
   ]
  },
  {
   "cell_type": "code",
   "execution_count": 23,
   "metadata": {},
   "outputs": [],
   "source": [
    "from PIL import Image"
   ]
  },
  {
   "cell_type": "code",
   "execution_count": 25,
   "metadata": {},
   "outputs": [
    {
     "data": {
      "text/plain": [
       "(20001, 784)"
      ]
     },
     "execution_count": 25,
     "metadata": {},
     "output_type": "execute_result"
    }
   ],
   "source": [
    "#0번의 정답을 제외한 데이터 만들기\n",
    "train1 = train.loc[:, train.columns != 0]\n",
    "train1.shape"
   ]
  },
  {
   "cell_type": "code",
   "execution_count": 26,
   "metadata": {},
   "outputs": [
    {
     "data": {
      "text/plain": [
       "(28, 28)"
      ]
     },
     "execution_count": 26,
     "metadata": {},
     "output_type": "execute_result"
    }
   ],
   "source": [
    "# train_data의 50번의 크기 조절하기\n",
    "abc = np.array(train1.iloc[50]).reshape(28, 28)\n",
    "abc.shape"
   ]
  },
  {
   "cell_type": "code",
   "execution_count": 27,
   "metadata": {},
   "outputs": [
    {
     "data": {
      "image/png": "[encoded data removed]",
      "text/plain": [
       "<PIL.Image.Image image mode=L size=28x28>"
      ]
     },
     "execution_count": 27,
     "metadata": {},
     "output_type": "execute_result"
    }
   ],
   "source": [
    "# Image 만들기\n",
    "image = Image.fromarray((abc).astype(np.uint8))\n",
    "image"
   ]
  },
  {
   "cell_type": "code",
   "execution_count": 30,
   "metadata": {},
   "outputs": [],
   "source": [
    "# image 저장하기\n",
    "image.save(\"../Data/mnist_test3.jpg\",\"JPEG\")"
   ]
  },
  {
   "cell_type": "markdown",
   "metadata": {},
   "source": [
    "---\n",
    "# 이미지를 불러서 Predict해보기"
   ]
  },
  {
   "cell_type": "code",
   "execution_count": 31,
   "metadata": {},
   "outputs": [
    {
     "data": {
      "image/png": "[encoded data removed]",
      "text/plain": [
       "<PIL.JpegImagePlugin.JpegImageFile image mode=L size=28x28>"
      ]
     },
     "execution_count": 31,
     "metadata": {},
     "output_type": "execute_result"
    }
   ],
   "source": [
    "# Image 불러오기\n",
    "img = Image.open(\"../Data/mnist_test3.jpg\")\n",
    "img"
   ]
  },
  {
   "cell_type": "code",
   "execution_count": 32,
   "metadata": {},
   "outputs": [
    {
     "data": {
      "image/png": "[encoded data removed]",
      "text/plain": [
       "<Figure size 432x288 with 1 Axes>"
      ]
     },
     "metadata": {
      "needs_background": "light"
     },
     "output_type": "display_data"
    }
   ],
   "source": [
    "import matplotlib.pyplot as plt\n",
    "plt.imshow(img)\n",
    "plt.show()"
   ]
  },
  {
   "cell_type": "code",
   "execution_count": 33,
   "metadata": {},
   "outputs": [
    {
     "data": {
      "text/plain": [
       "(28, 28)"
      ]
     },
     "execution_count": 33,
     "metadata": {},
     "output_type": "execute_result"
    }
   ],
   "source": [
    "# image를 numpy 배열로 변환\n",
    "imgArray = np.array(img)\n",
    "imgArray = imgArray / 255\n",
    "imgArray.shape"
   ]
  },
  {
   "cell_type": "code",
   "execution_count": 34,
   "metadata": {},
   "outputs": [
    {
     "data": {
      "text/plain": [
       "(784,)"
      ]
     },
     "execution_count": 34,
     "metadata": {},
     "output_type": "execute_result"
    }
   ],
   "source": [
    "# image를 1차원 배열로 변환\n",
    "imgArray2 = imgArray.reshape(-1)\n",
    "imgArray2.shape"
   ]
  },
  {
   "cell_type": "code",
   "execution_count": 35,
   "metadata": {},
   "outputs": [],
   "source": [
    "imgArray3 = imgArray2.tolist() # numpy 배열이 python 배열로 됨"
   ]
  },
  {
   "cell_type": "code",
   "execution_count": 38,
   "metadata": {},
   "outputs": [
    {
     "data": {
      "text/html": [
       "<div>\n",
       "<style scoped>\n",
       "    .dataframe tbody tr th:only-of-type {\n",
       "        vertical-align: middle;\n",
       "    }\n",
       "\n",
       "    .dataframe tbody tr th {\n",
       "        vertical-align: top;\n",
       "    }\n",
       "\n",
       "    .dataframe thead th {\n",
       "        text-align: right;\n",
       "    }\n",
       "</style>\n",
       "<table border=\"1\" class=\"dataframe\">\n",
       "  <thead>\n",
       "    <tr style=\"text-align: right;\">\n",
       "      <th></th>\n",
       "      <th>0</th>\n",
       "      <th>1</th>\n",
       "      <th>2</th>\n",
       "      <th>3</th>\n",
       "      <th>4</th>\n",
       "      <th>5</th>\n",
       "      <th>6</th>\n",
       "      <th>7</th>\n",
       "      <th>8</th>\n",
       "      <th>9</th>\n",
       "      <th>...</th>\n",
       "      <th>774</th>\n",
       "      <th>775</th>\n",
       "      <th>776</th>\n",
       "      <th>777</th>\n",
       "      <th>778</th>\n",
       "      <th>779</th>\n",
       "      <th>780</th>\n",
       "      <th>781</th>\n",
       "      <th>782</th>\n",
       "      <th>783</th>\n",
       "    </tr>\n",
       "  </thead>\n",
       "  <tbody>\n",
       "    <tr>\n",
       "      <th>0</th>\n",
       "      <td>0.0</td>\n",
       "      <td>0.0</td>\n",
       "      <td>0.0</td>\n",
       "      <td>0.0</td>\n",
       "      <td>0.0</td>\n",
       "      <td>0.0</td>\n",
       "      <td>0.0</td>\n",
       "      <td>0.0</td>\n",
       "      <td>0.011765</td>\n",
       "      <td>0.0</td>\n",
       "      <td>...</td>\n",
       "      <td>0.0</td>\n",
       "      <td>0.0</td>\n",
       "      <td>0.0</td>\n",
       "      <td>0.0</td>\n",
       "      <td>0.0</td>\n",
       "      <td>0.0</td>\n",
       "      <td>0.0</td>\n",
       "      <td>0.0</td>\n",
       "      <td>0.0</td>\n",
       "      <td>0.0</td>\n",
       "    </tr>\n",
       "  </tbody>\n",
       "</table>\n",
       "<p>1 rows × 784 columns</p>\n",
       "</div>"
      ],
      "text/plain": [
       "   0    1    2    3    4    5    6    7         8    9    ...  774  775  776  \\\n",
       "0  0.0  0.0  0.0  0.0  0.0  0.0  0.0  0.0  0.011765  0.0  ...  0.0  0.0  0.0   \n",
       "\n",
       "   777  778  779  780  781  782  783  \n",
       "0  0.0  0.0  0.0  0.0  0.0  0.0  0.0  \n",
       "\n",
       "[1 rows x 784 columns]"
      ]
     },
     "execution_count": 38,
     "metadata": {},
     "output_type": "execute_result"
    }
   ],
   "source": [
    "dfArray = pd.DataFrame(imgArray3)\n",
    "dfArray = dfArray.T\n",
    "dfArray"
   ]
  },
  {
   "cell_type": "markdown",
   "metadata": {},
   "source": [
    "> 아까 공부를 이렇게 시켜서 형태를 맞춰준거야"
   ]
  },
  {
   "cell_type": "code",
   "execution_count": 40,
   "metadata": {},
   "outputs": [
    {
     "name": "stdout",
     "output_type": "stream",
     "text": [
      "1/1 [==============================] - 0s 9ms/step\n"
     ]
    },
    {
     "data": {
      "text/plain": [
       "array([[1.2977621e-06, 4.1837618e-04, 6.6466490e-04, 9.9580634e-01,\n",
       "        3.8934053e-05, 5.3033873e-04, 2.9601888e-06, 4.1582840e-04,\n",
       "        1.6712048e-03, 4.5000721e-04]], dtype=float32)"
      ]
     },
     "execution_count": 40,
     "metadata": {},
     "output_type": "execute_result"
    }
   ],
   "source": [
    "model.predict(dfArray)"
   ]
  },
  {
   "cell_type": "code",
   "execution_count": 39,
   "metadata": {},
   "outputs": [
    {
     "name": "stdout",
     "output_type": "stream",
     "text": [
      "1/1 [==============================] - 0s 9ms/step\n",
      "예측값 : [3]\n"
     ]
    }
   ],
   "source": [
    "print(\"예측값 :\",np.argmax(model.predict(dfArray), axis=1))"
   ]
  }
 ],
 "metadata": {
  "kernelspec": {
   "display_name": "Python 3.9.13",
   "language": "python",
   "name": "python3"
  },
  "language_info": {
   "codemirror_mode": {
    "name": "ipython",
    "version": 3
   },
   "file_extension": ".py",
   "mimetype": "text/x-python",
   "name": "python",
   "nbconvert_exporter": "python",
   "pygments_lexer": "ipython3",
   "version": "3.9.13"
  },
  "orig_nbformat": 4,
  "vscode": {
   "interpreter": {
    "hash": "00c8100a7997e958d8100731b108691612e131425235a19f9419f6b3b0ff44b3"
   }
  }
 },
 "nbformat": 4,
 "nbformat_minor": 2
}
