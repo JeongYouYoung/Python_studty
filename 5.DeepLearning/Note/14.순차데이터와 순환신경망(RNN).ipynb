{
 "cells": [
  {
   "cell_type": "markdown",
   "metadata": {},
   "source": [
    "### 순차데이터\n",
    "- 텍스트 데이터 (ex : I am a boy) : 순서가 의미가 있다.\n",
    "- 시계열 데이터 (ex : 1일 10도, 2일 8도)"
   ]
  },
  {
   "cell_type": "markdown",
   "metadata": {},
   "source": [
    "---\n",
    "## 순환신경망 (RNN : Recurrent Neural Network)\n",
    "\n",
    "> 용어 중요!\n",
    "- IMDB (Internet Movie Data Base)\n",
    "- IMDB 구성 : Train Data(25000개중 긍정 12500개, 부정 12500개), Test Data(25000개중 긍정 12500개, 부정 12500개)\n",
    "- NLP : Natural Language Precessing (자연어 처리)\n",
    "- 말뭉치 : 하나의 데이터셋을 말뭉치라고 표현\n",
    "- 토큰 : 하나의 단어를 토큰이라고 표현\n",
    "- 어휘사전 : 번호로 구분된 유일한 단어들의 집단\n",
    "- 머신러닝이나 딥러닝에서는 데이터가 숫자로 구성되어 있어야 함으로 이런 단어들을 고유헌 번호로 할당하여 사용"
   ]
  },
  {
   "cell_type": "code",
   "execution_count": 1,
   "metadata": {},
   "outputs": [],
   "source": [
    "from tensorflow.keras.datasets import imdb\n",
    "(train_input, train_target), (test_input, test_target) = imdb.load_data(num_words=500) # 25000개의 단어중 500개 단어를 쓰겠다"
   ]
  },
  {
   "cell_type": "code",
   "execution_count": 2,
   "metadata": {},
   "outputs": [
    {
     "name": "stdout",
     "output_type": "stream",
     "text": [
      "(25000,) (25000,)\n"
     ]
    }
   ],
   "source": [
    "print(train_input.shape, test_input.shape)"
   ]
  },
  {
   "cell_type": "code",
   "execution_count": 3,
   "metadata": {},
   "outputs": [
    {
     "data": {
      "text/plain": [
       "218"
      ]
     },
     "execution_count": 3,
     "metadata": {},
     "output_type": "execute_result"
    }
   ],
   "source": [
    "# train의 첫번째 문장의 Token갯수\n",
    "len(train_input[0])"
   ]
  },
  {
   "cell_type": "code",
   "execution_count": 4,
   "metadata": {},
   "outputs": [
    {
     "data": {
      "text/plain": [
       "189"
      ]
     },
     "execution_count": 4,
     "metadata": {},
     "output_type": "execute_result"
    }
   ],
   "source": [
    "len(train_input[1])"
   ]
  },
  {
   "cell_type": "code",
   "execution_count": 5,
   "metadata": {},
   "outputs": [
    {
     "name": "stdout",
     "output_type": "stream",
     "text": [
      "[1, 14, 22, 16, 43, 2, 2, 2, 2, 65, 458, 2, 66, 2, 4, 173, 36, 256, 5, 25, 100, 43, 2, 112, 50, 2, 2, 9, 35, 480, 284, 5, 150, 4, 172, 112, 167, 2, 336, 385, 39, 4, 172, 2, 2, 17, 2, 38, 13, 447, 4, 192, 50, 16, 6, 147, 2, 19, 14, 22, 4, 2, 2, 469, 4, 22, 71, 87, 12, 16, 43, 2, 38, 76, 15, 13, 2, 4, 22, 17, 2, 17, 12, 16, 2, 18, 2, 5, 62, 386, 12, 8, 316, 8, 106, 5, 4, 2, 2, 16, 480, 66, 2, 33, 4, 130, 12, 16, 38, 2, 5, 25, 124, 51, 36, 135, 48, 25, 2, 33, 6, 22, 12, 215, 28, 77, 52, 5, 14, 407, 16, 82, 2, 8, 4, 107, 117, 2, 15, 256, 4, 2, 7, 2, 5, 2, 36, 71, 43, 2, 476, 26, 400, 317, 46, 7, 4, 2, 2, 13, 104, 88, 4, 381, 15, 297, 98, 32, 2, 56, 26, 141, 6, 194, 2, 18, 4, 226, 22, 21, 134, 476, 26, 480, 5, 144, 30, 2, 18, 51, 36, 28, 224, 92, 25, 104, 4, 226, 65, 16, 38, 2, 88, 12, 16, 283, 5, 16, 2, 113, 103, 32, 15, 16, 2, 19, 178, 32]\n"
     ]
    }
   ],
   "source": [
    "# 첫번째 댓글 출력\n",
    "print(train_input[0])"
   ]
  },
  {
   "cell_type": "markdown",
   "metadata": {},
   "source": [
    "- 샘플의 시작부분 토큰은 1을 사용한다.\n",
    "- 1 : 이제 시작이다.\n",
    "- 2는 선정한 단어갯수에 포함되지 않는 단어를 표현한다.(500개만 사용한다고 했기 떄문에 500개 안에 없는 단어)\n",
    "- train_input 자체는 numpy(크기가 같아야하는데)배열이나 댓글에 사용된 토큰수가 다르기때문에 numpy배열을 사용 못하고 python list를 사용한다."
   ]
  },
  {
   "cell_type": "code",
   "execution_count": 6,
   "metadata": {},
   "outputs": [
    {
     "name": "stdout",
     "output_type": "stream",
     "text": [
      "[1 0 0 1 0 0 1 0 1 0]\n"
     ]
    }
   ],
   "source": [
    "# train 의 traget을 출력\n",
    "print(train_target[:10])"
   ]
  },
  {
   "cell_type": "markdown",
   "metadata": {},
   "source": [
    "- 1 : 좋아요\n",
    "- 0 : 나빠요"
   ]
  },
  {
   "cell_type": "code",
   "execution_count": 7,
   "metadata": {},
   "outputs": [],
   "source": [
    "# 훈련세트 준비\n",
    "from sklearn.model_selection import train_test_split\n",
    "\n",
    "\n",
    "train_input, val_input, train_target, val_target = train_test_split(\n",
    "    train_input, train_target, test_size=0.2, random_state=42\n",
    ")"
   ]
  },
  {
   "cell_type": "code",
   "execution_count": 8,
   "metadata": {},
   "outputs": [
    {
     "name": "stdout",
     "output_type": "stream",
     "text": [
      "239.00925 178.0\n"
     ]
    }
   ],
   "source": [
    "# 각 리뷰마다 문장 길이를 시각화\n",
    "import numpy as np\n",
    "lengths = np.array([len(x) for x in train_input])\n",
    "print(np.mean(lengths), np.median(lengths))"
   ]
  },
  {
   "cell_type": "markdown",
   "metadata": {},
   "source": [
    "> 쏠림 현상 파악하기위해 확인하는 작업이며 mean과 median이 근처에 있으면 좋다"
   ]
  },
  {
   "cell_type": "code",
   "execution_count": 9,
   "metadata": {},
   "outputs": [
    {
     "data": {
      "image/png": "[encoded data removed]",
      "text/plain": [
       "<Figure size 432x288 with 1 Axes>"
      ]
     },
     "metadata": {
      "needs_background": "light"
     },
     "output_type": "display_data"
    }
   ],
   "source": [
    "import matplotlib.pyplot as plt\n",
    "plt.hist(lengths)\n",
    "plt.xlabel(\"length\")\n",
    "plt.ylabel('frequency')\n",
    "plt.show()"
   ]
  },
  {
   "cell_type": "markdown",
   "metadata": {},
   "source": [
    "### Sequence Padding\n",
    "- 전체 자릴수를 100으로 가정했을 경우 한분장에 3개 토큰만 있을 경우 나머지 97개는 비워지고 이를 0으로 채우는 과정"
   ]
  },
  {
   "cell_type": "code",
   "execution_count": 10,
   "metadata": {},
   "outputs": [],
   "source": [
    "from tensorflow.keras.preprocessing.sequence import pad_sequences\n",
    "\n",
    "train_seq = pad_sequences(train_input, maxlen=100) # 위의 차트에서 100개 부분이 제일 많은것 같아 100개의 토큰만 사용\n",
    "val_seq = pad_sequences(val_input,maxlen=100) # 검증데이터"
   ]
  },
  {
   "cell_type": "code",
   "execution_count": 11,
   "metadata": {},
   "outputs": [
    {
     "name": "stdout",
     "output_type": "stream",
     "text": [
      "(20000, 100)\n"
     ]
    }
   ],
   "source": [
    "# 크기 확인\n",
    "print(train_seq.shape)"
   ]
  },
  {
   "cell_type": "markdown",
   "metadata": {},
   "source": [
    "> 25000개의 훈련세트중 500개는 검증세트로 빠짐"
   ]
  },
  {
   "cell_type": "code",
   "execution_count": 12,
   "metadata": {},
   "outputs": [
    {
     "name": "stdout",
     "output_type": "stream",
     "text": [
      "[ 10   4  20   9   2 364 352   5  45   6   2   2  33 269   8   2 142   2\n",
      "   5   2  17  73  17 204   5   2  19  55   2   2  92  66 104  14  20  93\n",
      "  76   2 151  33   4  58  12 188   2 151  12 215  69 224 142  73 237   6\n",
      "   2   7   2   2 188   2 103  14  31  10  10 451   7   2   5   2  80  91\n",
      "   2  30   2  34  14  20 151  50  26 131  49   2  84  46  50  37  80  79\n",
      "   6   2  46   7  14  20  10  10 470 158]\n"
     ]
    }
   ],
   "source": [
    "# 첫번쨰 댓글 확인\n",
    "print(train_seq[0])"
   ]
  },
  {
   "cell_type": "code",
   "execution_count": 13,
   "metadata": {},
   "outputs": [
    {
     "name": "stdout",
     "output_type": "stream",
     "text": [
      "[6, 2, 46, 7, 14, 20, 10, 10, 470, 158]\n"
     ]
    }
   ],
   "source": [
    "# 원본의 첫번쨰 댓글의 마지막 10개만 출력\n",
    "print(train_input[0][-10:])"
   ]
  },
  {
   "cell_type": "code",
   "execution_count": 14,
   "metadata": {},
   "outputs": [
    {
     "name": "stdout",
     "output_type": "stream",
     "text": [
      "[  0   0   0   0   1   2 195  19  49   2   2 190   4   2 352   2 183  10\n",
      "  10  13  82  79   4   2  36  71 269   8   2  25  19  49   7   4   2   2\n",
      "   2   2   2  10  10  48  25  40   2  11   2   2  40   2   2   5   4   2\n",
      "   2  95  14 238  56 129   2  10  10  21   2  94 364 352   2   2  11 190\n",
      "  24 484   2   7  94 205 405  10  10  87   2  34  49   2   7   2   2   2\n",
      "   2   2 290   2  46  48  64  18   4   2]\n"
     ]
    }
   ],
   "source": [
    "print(train_seq[5])"
   ]
  },
  {
   "cell_type": "markdown",
   "metadata": {},
   "source": [
    "---\n",
    "# 순환신경망 모델 만들기"
   ]
  },
  {
   "cell_type": "code",
   "execution_count": 15,
   "metadata": {},
   "outputs": [],
   "source": [
    "import warnings\n",
    "from tensorflow import keras \n",
    "\n",
    "# GPU 사용 설정\n",
    "import os\n",
    "os.environ[\"TF_CPP_MIN_LOG_LEVEL\"] = '1'\n",
    "\n",
    "warnings.filterwarnings('ignore')"
   ]
  },
  {
   "cell_type": "code",
   "execution_count": 16,
   "metadata": {},
   "outputs": [],
   "source": [
    "from tensorflow import keras\n",
    "\n",
    "model = keras.Sequential()\n",
    "model.add(keras.layers.SimpleRNN(8, input_shape=(100, 500))) # 8 : 셀의갯수 , 500 : 원핫인코딩 을 단어갯수만큼 하겠다.\n",
    "model.add(keras.layers.Dense(1, activation='sigmoid')) # 긍정어 부정어 뽑는데 sigmoid 를 사용해서 1개만 있어도 됨."
   ]
  },
  {
   "cell_type": "code",
   "execution_count": 18,
   "metadata": {},
   "outputs": [
    {
     "name": "stdout",
     "output_type": "stream",
     "text": [
      "(20000, 100, 500)\n"
     ]
    }
   ],
   "source": [
    "# One hot encoding\n",
    "train_oh = keras.utils.to_categorical(train_seq)\n",
    "print(train_oh.shape)"
   ]
  },
  {
   "cell_type": "code",
   "execution_count": 19,
   "metadata": {},
   "outputs": [
    {
     "name": "stdout",
     "output_type": "stream",
     "text": [
      "1.0\n"
     ]
    }
   ],
   "source": [
    "# one hot encoding 확인하기 진짜 1이 하나밖에 없어?\n",
    "print(np.sum(train_oh[0][0]))"
   ]
  },
  {
   "cell_type": "code",
   "execution_count": 20,
   "metadata": {},
   "outputs": [],
   "source": [
    "val_oh = keras.utils.to_categorical(val_seq)"
   ]
  },
  {
   "cell_type": "code",
   "execution_count": 22,
   "metadata": {},
   "outputs": [
    {
     "name": "stdout",
     "output_type": "stream",
     "text": [
      "Model: \"sequential\"\n",
      "_________________________________________________________________\n",
      " Layer (type)                Output Shape              Param #   \n",
      "=================================================================\n",
      " simple_rnn (SimpleRNN)      (None, 8)                 4072      \n",
      "                                                                 \n",
      " dense (Dense)               (None, 1)                 9         \n",
      "                                                                 \n",
      "=================================================================\n",
      "Total params: 4,081\n",
      "Trainable params: 4,081\n",
      "Non-trainable params: 0\n",
      "_________________________________________________________________\n"
     ]
    }
   ],
   "source": [
    "model.summary()"
   ]
  },
  {
   "cell_type": "markdown",
   "metadata": {},
   "source": [
    "> Param 은 node + 8(절편) =9  \n",
    "> 500 * 8 + (8 * 8) + 8(절편) = 4072"
   ]
  },
  {
   "cell_type": "code",
   "execution_count": 25,
   "metadata": {},
   "outputs": [
    {
     "name": "stdout",
     "output_type": "stream",
     "text": [
      "Epoch 1/100\n"
     ]
    },
    {
     "name": "stderr",
     "output_type": "stream",
     "text": [
      "2022-07-22 11:26:49.265420: W tensorflow/core/platform/profile_utils/cpu_utils.cc:128] Failed to get CPU frequency: 0 Hz\n"
     ]
    },
    {
     "name": "stdout",
     "output_type": "stream",
     "text": [
      "313/313 [==============================] - 6s 17ms/step - loss: 0.6972 - accuracy: 0.5053 - val_loss: 0.6954 - val_accuracy: 0.5048\n",
      "Epoch 2/100\n",
      "313/313 [==============================] - 5s 16ms/step - loss: 0.6935 - accuracy: 0.5167 - val_loss: 0.6936 - val_accuracy: 0.5148\n",
      "Epoch 3/100\n",
      "313/313 [==============================] - 5s 17ms/step - loss: 0.6912 - accuracy: 0.5278 - val_loss: 0.6922 - val_accuracy: 0.5194\n",
      "Epoch 4/100\n",
      "313/313 [==============================] - 5s 16ms/step - loss: 0.6892 - accuracy: 0.5361 - val_loss: 0.6910 - val_accuracy: 0.5222\n",
      "Epoch 5/100\n",
      "313/313 [==============================] - 5s 16ms/step - loss: 0.6875 - accuracy: 0.5432 - val_loss: 0.6899 - val_accuracy: 0.5324\n",
      "Epoch 6/100\n",
      "313/313 [==============================] - 5s 16ms/step - loss: 0.6859 - accuracy: 0.5508 - val_loss: 0.6887 - val_accuracy: 0.5348\n",
      "Epoch 7/100\n",
      "313/313 [==============================] - 5s 16ms/step - loss: 0.6842 - accuracy: 0.5569 - val_loss: 0.6875 - val_accuracy: 0.5398\n",
      "Epoch 8/100\n",
      "313/313 [==============================] - 5s 16ms/step - loss: 0.6826 - accuracy: 0.5628 - val_loss: 0.6864 - val_accuracy: 0.5424\n",
      "Epoch 9/100\n",
      "313/313 [==============================] - 5s 16ms/step - loss: 0.6809 - accuracy: 0.5669 - val_loss: 0.6853 - val_accuracy: 0.5498\n",
      "Epoch 10/100\n",
      "313/313 [==============================] - 5s 16ms/step - loss: 0.6791 - accuracy: 0.5725 - val_loss: 0.6842 - val_accuracy: 0.5512\n",
      "Epoch 11/100\n",
      "313/313 [==============================] - 5s 16ms/step - loss: 0.6773 - accuracy: 0.5762 - val_loss: 0.6831 - val_accuracy: 0.5530\n",
      "Epoch 12/100\n",
      "313/313 [==============================] - 5s 16ms/step - loss: 0.6755 - accuracy: 0.5791 - val_loss: 0.6819 - val_accuracy: 0.5554\n",
      "Epoch 13/100\n",
      "313/313 [==============================] - 5s 16ms/step - loss: 0.6736 - accuracy: 0.5856 - val_loss: 0.6808 - val_accuracy: 0.5598\n",
      "Epoch 14/100\n",
      "313/313 [==============================] - 5s 16ms/step - loss: 0.6717 - accuracy: 0.5900 - val_loss: 0.6798 - val_accuracy: 0.5620\n",
      "Epoch 15/100\n",
      "313/313 [==============================] - 5s 16ms/step - loss: 0.6696 - accuracy: 0.5944 - val_loss: 0.6787 - val_accuracy: 0.5634\n",
      "Epoch 16/100\n",
      "313/313 [==============================] - 5s 16ms/step - loss: 0.6676 - accuracy: 0.5972 - val_loss: 0.6776 - val_accuracy: 0.5646\n",
      "Epoch 17/100\n",
      "313/313 [==============================] - 5s 16ms/step - loss: 0.6655 - accuracy: 0.6008 - val_loss: 0.6766 - val_accuracy: 0.5678\n",
      "Epoch 18/100\n",
      "313/313 [==============================] - 5s 16ms/step - loss: 0.6633 - accuracy: 0.6054 - val_loss: 0.6752 - val_accuracy: 0.5702\n",
      "Epoch 19/100\n",
      "313/313 [==============================] - 5s 16ms/step - loss: 0.6610 - accuracy: 0.6098 - val_loss: 0.6742 - val_accuracy: 0.5740\n",
      "Epoch 20/100\n",
      "313/313 [==============================] - 5s 16ms/step - loss: 0.6587 - accuracy: 0.6125 - val_loss: 0.6730 - val_accuracy: 0.5784\n",
      "Epoch 21/100\n",
      "313/313 [==============================] - 5s 16ms/step - loss: 0.6562 - accuracy: 0.6145 - val_loss: 0.6718 - val_accuracy: 0.5826\n",
      "Epoch 22/100\n",
      "313/313 [==============================] - 5s 16ms/step - loss: 0.6537 - accuracy: 0.6198 - val_loss: 0.6706 - val_accuracy: 0.5810\n",
      "Epoch 23/100\n",
      "313/313 [==============================] - 6s 18ms/step - loss: 0.6511 - accuracy: 0.6227 - val_loss: 0.6693 - val_accuracy: 0.5840\n",
      "Epoch 24/100\n",
      "313/313 [==============================] - 5s 17ms/step - loss: 0.6483 - accuracy: 0.6257 - val_loss: 0.6678 - val_accuracy: 0.5852\n",
      "Epoch 25/100\n",
      "313/313 [==============================] - 5s 16ms/step - loss: 0.6454 - accuracy: 0.6302 - val_loss: 0.6662 - val_accuracy: 0.5838\n",
      "Epoch 26/100\n",
      "313/313 [==============================] - 6s 18ms/step - loss: 0.6423 - accuracy: 0.6338 - val_loss: 0.6645 - val_accuracy: 0.5860\n",
      "Epoch 27/100\n",
      "313/313 [==============================] - 6s 18ms/step - loss: 0.6391 - accuracy: 0.6356 - val_loss: 0.6625 - val_accuracy: 0.5888\n",
      "Epoch 28/100\n",
      "313/313 [==============================] - 5s 16ms/step - loss: 0.6355 - accuracy: 0.6406 - val_loss: 0.6600 - val_accuracy: 0.5948\n",
      "Epoch 29/100\n",
      "313/313 [==============================] - 5s 16ms/step - loss: 0.6314 - accuracy: 0.6457 - val_loss: 0.6569 - val_accuracy: 0.5976\n",
      "Epoch 30/100\n",
      "313/313 [==============================] - 5s 17ms/step - loss: 0.6264 - accuracy: 0.6535 - val_loss: 0.6521 - val_accuracy: 0.6018\n",
      "Epoch 31/100\n",
      "313/313 [==============================] - 5s 16ms/step - loss: 0.6200 - accuracy: 0.6579 - val_loss: 0.6440 - val_accuracy: 0.6154\n",
      "Epoch 32/100\n",
      "313/313 [==============================] - 5s 16ms/step - loss: 0.6093 - accuracy: 0.6687 - val_loss: 0.6248 - val_accuracy: 0.6428\n",
      "Epoch 33/100\n",
      "313/313 [==============================] - 5s 16ms/step - loss: 0.5669 - accuracy: 0.7042 - val_loss: 0.5586 - val_accuracy: 0.7126\n",
      "Epoch 34/100\n",
      "313/313 [==============================] - 5s 17ms/step - loss: 0.5255 - accuracy: 0.7397 - val_loss: 0.5414 - val_accuracy: 0.7268\n",
      "Epoch 35/100\n",
      "313/313 [==============================] - 5s 17ms/step - loss: 0.5076 - accuracy: 0.7520 - val_loss: 0.5253 - val_accuracy: 0.7368\n",
      "Epoch 36/100\n",
      "313/313 [==============================] - 5s 17ms/step - loss: 0.4930 - accuracy: 0.7651 - val_loss: 0.5141 - val_accuracy: 0.7480\n",
      "Epoch 37/100\n",
      "313/313 [==============================] - 5s 17ms/step - loss: 0.4810 - accuracy: 0.7727 - val_loss: 0.5041 - val_accuracy: 0.7512\n",
      "Epoch 38/100\n",
      "313/313 [==============================] - 5s 17ms/step - loss: 0.4713 - accuracy: 0.7778 - val_loss: 0.5003 - val_accuracy: 0.7528\n",
      "Epoch 39/100\n",
      "313/313 [==============================] - 5s 16ms/step - loss: 0.4635 - accuracy: 0.7846 - val_loss: 0.4913 - val_accuracy: 0.7626\n",
      "Epoch 40/100\n",
      "313/313 [==============================] - 5s 16ms/step - loss: 0.4560 - accuracy: 0.7875 - val_loss: 0.4861 - val_accuracy: 0.7630\n",
      "Epoch 41/100\n",
      "313/313 [==============================] - 5s 16ms/step - loss: 0.4503 - accuracy: 0.7926 - val_loss: 0.4820 - val_accuracy: 0.7642\n",
      "Epoch 42/100\n",
      "313/313 [==============================] - 5s 16ms/step - loss: 0.4448 - accuracy: 0.7952 - val_loss: 0.4806 - val_accuracy: 0.7648\n",
      "Epoch 43/100\n",
      "313/313 [==============================] - 5s 17ms/step - loss: 0.4394 - accuracy: 0.8005 - val_loss: 0.4797 - val_accuracy: 0.7676\n",
      "Epoch 44/100\n",
      "313/313 [==============================] - 5s 16ms/step - loss: 0.4353 - accuracy: 0.8016 - val_loss: 0.4728 - val_accuracy: 0.7690\n",
      "Epoch 45/100\n",
      "313/313 [==============================] - 5s 17ms/step - loss: 0.4314 - accuracy: 0.8037 - val_loss: 0.4726 - val_accuracy: 0.7716\n",
      "Epoch 46/100\n",
      "313/313 [==============================] - 5s 16ms/step - loss: 0.4276 - accuracy: 0.8072 - val_loss: 0.4709 - val_accuracy: 0.7762\n",
      "Epoch 47/100\n",
      "313/313 [==============================] - 5s 16ms/step - loss: 0.4234 - accuracy: 0.8078 - val_loss: 0.4680 - val_accuracy: 0.7746\n",
      "Epoch 48/100\n",
      "313/313 [==============================] - 5s 17ms/step - loss: 0.4209 - accuracy: 0.8102 - val_loss: 0.4665 - val_accuracy: 0.7764\n",
      "Epoch 49/100\n",
      "313/313 [==============================] - 5s 17ms/step - loss: 0.4182 - accuracy: 0.8115 - val_loss: 0.4678 - val_accuracy: 0.7746\n",
      "Epoch 50/100\n",
      "313/313 [==============================] - 5s 16ms/step - loss: 0.4155 - accuracy: 0.8123 - val_loss: 0.4664 - val_accuracy: 0.7816\n",
      "Epoch 51/100\n",
      "313/313 [==============================] - 5s 16ms/step - loss: 0.4132 - accuracy: 0.8129 - val_loss: 0.4652 - val_accuracy: 0.7794\n",
      "Epoch 52/100\n",
      "313/313 [==============================] - 5s 16ms/step - loss: 0.4112 - accuracy: 0.8152 - val_loss: 0.4646 - val_accuracy: 0.7784\n",
      "Epoch 53/100\n",
      "313/313 [==============================] - 5s 17ms/step - loss: 0.4088 - accuracy: 0.8158 - val_loss: 0.4629 - val_accuracy: 0.7830\n",
      "Epoch 54/100\n",
      "313/313 [==============================] - 5s 16ms/step - loss: 0.4068 - accuracy: 0.8173 - val_loss: 0.4630 - val_accuracy: 0.7834\n",
      "Epoch 55/100\n",
      "313/313 [==============================] - 5s 17ms/step - loss: 0.4051 - accuracy: 0.8181 - val_loss: 0.4636 - val_accuracy: 0.7838\n",
      "Epoch 56/100\n",
      "313/313 [==============================] - 5s 16ms/step - loss: 0.4029 - accuracy: 0.8195 - val_loss: 0.4630 - val_accuracy: 0.7828\n"
     ]
    }
   ],
   "source": [
    "rmsprop = keras.optimizers.RMSprop(learning_rate=1e-4)\n",
    "model.compile(\n",
    "    optimizer=rmsprop, \n",
    "    loss='binary_crossentropy', # 2진분류\n",
    "    metrics ='accuracy'\n",
    "    ) \n",
    "\n",
    "checkpoint_cb = keras.callbacks.ModelCheckpoint(\"../Data/best-simplernn-model.h5\")\n",
    "early_stopping_cb = keras.callbacks.EarlyStopping(\n",
    "    patience = 3,\n",
    "    restore_best_weights = True\n",
    ")\n",
    "\n",
    "history = model.fit(\n",
    "    train_oh,\n",
    "    train_target,\n",
    "    epochs=100, # RNN에서 제일 작은게 100임.\n",
    "    batch_size = 64,  # mini batch 경사하강법 (64(8*8 <- 순환하는 갯수)개씩 가져오겠다.)\n",
    "    validation_data = (val_oh, val_target),\n",
    "    callbacks = [checkpoint_cb, early_stopping_cb]\n",
    ")"
   ]
  },
  {
   "cell_type": "code",
   "execution_count": 26,
   "metadata": {},
   "outputs": [
    {
     "data": {
      "text/plain": [
       "dict_keys(['loss', 'accuracy', 'val_loss', 'val_accuracy'])"
      ]
     },
     "execution_count": 26,
     "metadata": {},
     "output_type": "execute_result"
    }
   ],
   "source": [
    "history.history.keys()"
   ]
  },
  {
   "cell_type": "code",
   "execution_count": 27,
   "metadata": {},
   "outputs": [
    {
     "data": {
      "image/png": "[encoded data removed]",
      "text/plain": [
       "<Figure size 432x288 with 1 Axes>"
      ]
     },
     "metadata": {
      "needs_background": "light"
     },
     "output_type": "display_data"
    }
   ],
   "source": [
    "# 시각화 해보기\n",
    "import matplotlib.pyplot as plt\n",
    "\n",
    "plt.plot(history.history['loss'])\n",
    "plt.plot(history.history['val_loss'])\n",
    "plt.xlabel('epoch')\n",
    "plt.ylabel('loss')\n",
    "plt.legend(['train','val'])\n",
    "plt.show()"
   ]
  },
  {
   "cell_type": "code",
   "execution_count": 28,
   "metadata": {},
   "outputs": [
    {
     "data": {
      "image/png": "[encoded data removed]",
      "text/plain": [
       "<Figure size 432x288 with 1 Axes>"
      ]
     },
     "metadata": {
      "needs_background": "light"
     },
     "output_type": "display_data"
    }
   ],
   "source": [
    "# 시각화 해보기\n",
    "import matplotlib.pyplot as plt\n",
    "\n",
    "plt.plot(history.history['accuracy'])\n",
    "plt.plot(history.history['val_accuracy'])\n",
    "plt.xlabel('epoch')\n",
    "plt.ylabel('accuracy')\n",
    "plt.legend(['train','val'])\n",
    "plt.show()"
   ]
  },
  {
   "cell_type": "code",
   "execution_count": 29,
   "metadata": {},
   "outputs": [
    {
     "name": "stdout",
     "output_type": "stream",
     "text": [
      "157/157 [==============================] - 1s 4ms/step - loss: 0.4629 - accuracy: 0.7830\n"
     ]
    },
    {
     "data": {
      "text/plain": [
       "[0.46294012665748596, 0.7829999923706055]"
      ]
     },
     "execution_count": 29,
     "metadata": {},
     "output_type": "execute_result"
    }
   ],
   "source": [
    "model.evaluate(val_oh, val_target)"
   ]
  },
  {
   "cell_type": "markdown",
   "metadata": {},
   "source": [
    "---\n",
    "## LSTM(Long Short Term Memory) 신경망 모델 구성하기\n",
    "- 순환신경망의 셀로 이전 타임스템의 샘플을 기억하고 있음(문장을 알게됨)"
   ]
  },
  {
   "cell_type": "code",
   "execution_count": 33,
   "metadata": {},
   "outputs": [
    {
     "name": "stdout",
     "output_type": "stream",
     "text": [
      "Model: \"sequential_2\"\n",
      "_________________________________________________________________\n",
      " Layer (type)                Output Shape              Param #   \n",
      "=================================================================\n",
      " embedding_1 (Embedding)     (None, 100, 16)           8000      \n",
      "                                                                 \n",
      " lstm_1 (LSTM)               (None, 8)                 800       \n",
      "                                                                 \n",
      " dense_1 (Dense)             (None, 1)                 9         \n",
      "                                                                 \n",
      "=================================================================\n",
      "Total params: 8,809\n",
      "Trainable params: 8,809\n",
      "Non-trainable params: 0\n",
      "_________________________________________________________________\n"
     ]
    }
   ],
   "source": [
    "model = keras.Sequential()\n",
    "\n",
    "model.add(keras.layers.Embedding(500, 16, input_length=100)) #Embedding : one hot encoding\n",
    "model.add(keras.layers.LSTM(8)) # 8개의 셀을 사용한다\n",
    "model.add(keras.layers.Dense(1, activation='sigmoid'))\n",
    "model.summary()"
   ]
  },
  {
   "cell_type": "code",
   "execution_count": 34,
   "metadata": {},
   "outputs": [
    {
     "name": "stdout",
     "output_type": "stream",
     "text": [
      "Epoch 1/100\n",
      "313/313 [==============================] - 5s 14ms/step - loss: 0.6912 - accuracy: 0.5861 - val_loss: 0.6884 - val_accuracy: 0.6220\n",
      "Epoch 2/100\n",
      "313/313 [==============================] - 4s 14ms/step - loss: 0.6670 - accuracy: 0.6205 - val_loss: 0.6396 - val_accuracy: 0.7010\n",
      "Epoch 3/100\n",
      "313/313 [==============================] - 4s 14ms/step - loss: 0.6199 - accuracy: 0.7187 - val_loss: 0.6150 - val_accuracy: 0.7206\n",
      "Epoch 4/100\n",
      "313/313 [==============================] - 4s 14ms/step - loss: 0.6004 - accuracy: 0.7376 - val_loss: 0.6007 - val_accuracy: 0.7402\n",
      "Epoch 5/100\n",
      "313/313 [==============================] - 4s 14ms/step - loss: 0.5860 - accuracy: 0.7473 - val_loss: 0.5892 - val_accuracy: 0.7368\n",
      "Epoch 6/100\n",
      "313/313 [==============================] - 4s 14ms/step - loss: 0.5724 - accuracy: 0.7574 - val_loss: 0.5782 - val_accuracy: 0.7538\n",
      "Epoch 7/100\n",
      "313/313 [==============================] - 4s 14ms/step - loss: 0.5609 - accuracy: 0.7624 - val_loss: 0.5672 - val_accuracy: 0.7548\n",
      "Epoch 8/100\n",
      "313/313 [==============================] - 4s 13ms/step - loss: 0.5504 - accuracy: 0.7692 - val_loss: 0.5587 - val_accuracy: 0.7556\n",
      "Epoch 9/100\n",
      "313/313 [==============================] - 4s 12ms/step - loss: 0.5402 - accuracy: 0.7721 - val_loss: 0.5537 - val_accuracy: 0.7444\n",
      "Epoch 10/100\n",
      "313/313 [==============================] - 4s 13ms/step - loss: 0.5301 - accuracy: 0.7754 - val_loss: 0.5443 - val_accuracy: 0.7590\n",
      "Epoch 11/100\n",
      "313/313 [==============================] - 4s 13ms/step - loss: 0.5207 - accuracy: 0.7781 - val_loss: 0.5327 - val_accuracy: 0.7606\n",
      "Epoch 12/100\n",
      "313/313 [==============================] - 4s 13ms/step - loss: 0.5109 - accuracy: 0.7816 - val_loss: 0.5219 - val_accuracy: 0.7644\n",
      "Epoch 13/100\n",
      "313/313 [==============================] - 4s 13ms/step - loss: 0.5005 - accuracy: 0.7853 - val_loss: 0.5109 - val_accuracy: 0.7680\n",
      "Epoch 14/100\n",
      "313/313 [==============================] - 4s 13ms/step - loss: 0.4900 - accuracy: 0.7865 - val_loss: 0.4999 - val_accuracy: 0.7746\n",
      "Epoch 15/100\n",
      "313/313 [==============================] - 4s 13ms/step - loss: 0.4788 - accuracy: 0.7904 - val_loss: 0.4887 - val_accuracy: 0.7796\n",
      "Epoch 16/100\n",
      "313/313 [==============================] - 4s 13ms/step - loss: 0.4686 - accuracy: 0.7936 - val_loss: 0.4892 - val_accuracy: 0.7730\n",
      "Epoch 17/100\n",
      "313/313 [==============================] - 4s 13ms/step - loss: 0.4600 - accuracy: 0.7985 - val_loss: 0.4717 - val_accuracy: 0.7840\n",
      "Epoch 18/100\n",
      "313/313 [==============================] - 4s 13ms/step - loss: 0.4527 - accuracy: 0.7995 - val_loss: 0.4652 - val_accuracy: 0.7872\n",
      "Epoch 19/100\n",
      "313/313 [==============================] - 4s 13ms/step - loss: 0.4466 - accuracy: 0.8038 - val_loss: 0.4612 - val_accuracy: 0.7884\n",
      "Epoch 20/100\n",
      "313/313 [==============================] - 4s 13ms/step - loss: 0.4414 - accuracy: 0.8054 - val_loss: 0.4561 - val_accuracy: 0.7890\n",
      "Epoch 21/100\n",
      "313/313 [==============================] - 4s 13ms/step - loss: 0.4374 - accuracy: 0.8057 - val_loss: 0.4531 - val_accuracy: 0.7938\n",
      "Epoch 22/100\n",
      "313/313 [==============================] - 4s 13ms/step - loss: 0.4339 - accuracy: 0.8080 - val_loss: 0.4520 - val_accuracy: 0.7910\n",
      "Epoch 23/100\n",
      "313/313 [==============================] - 4s 13ms/step - loss: 0.4305 - accuracy: 0.8104 - val_loss: 0.4487 - val_accuracy: 0.7934\n",
      "Epoch 24/100\n",
      "313/313 [==============================] - 4s 13ms/step - loss: 0.4278 - accuracy: 0.8108 - val_loss: 0.4457 - val_accuracy: 0.7992\n",
      "Epoch 25/100\n",
      "313/313 [==============================] - 4s 13ms/step - loss: 0.4254 - accuracy: 0.8124 - val_loss: 0.4441 - val_accuracy: 0.7982\n",
      "Epoch 26/100\n",
      "313/313 [==============================] - 4s 13ms/step - loss: 0.4231 - accuracy: 0.8116 - val_loss: 0.4429 - val_accuracy: 0.8006\n",
      "Epoch 27/100\n",
      "313/313 [==============================] - 4s 13ms/step - loss: 0.4208 - accuracy: 0.8127 - val_loss: 0.4474 - val_accuracy: 0.7902\n",
      "Epoch 28/100\n",
      "313/313 [==============================] - 4s 13ms/step - loss: 0.4192 - accuracy: 0.8128 - val_loss: 0.4415 - val_accuracy: 0.8016\n",
      "Epoch 29/100\n",
      "313/313 [==============================] - 4s 13ms/step - loss: 0.4178 - accuracy: 0.8147 - val_loss: 0.4410 - val_accuracy: 0.8002\n",
      "Epoch 30/100\n",
      "313/313 [==============================] - 4s 13ms/step - loss: 0.4162 - accuracy: 0.8127 - val_loss: 0.4372 - val_accuracy: 0.7998\n",
      "Epoch 31/100\n",
      "313/313 [==============================] - 4s 13ms/step - loss: 0.4154 - accuracy: 0.8144 - val_loss: 0.4358 - val_accuracy: 0.7986\n",
      "Epoch 32/100\n",
      "313/313 [==============================] - 4s 13ms/step - loss: 0.4137 - accuracy: 0.8145 - val_loss: 0.4378 - val_accuracy: 0.7940\n",
      "Epoch 33/100\n",
      "313/313 [==============================] - 4s 13ms/step - loss: 0.4124 - accuracy: 0.8163 - val_loss: 0.4343 - val_accuracy: 0.8006\n",
      "Epoch 34/100\n",
      "313/313 [==============================] - 4s 13ms/step - loss: 0.4119 - accuracy: 0.8146 - val_loss: 0.4336 - val_accuracy: 0.8006\n",
      "Epoch 35/100\n",
      "313/313 [==============================] - 4s 13ms/step - loss: 0.4106 - accuracy: 0.8161 - val_loss: 0.4340 - val_accuracy: 0.7992\n",
      "Epoch 36/100\n",
      "313/313 [==============================] - 4s 13ms/step - loss: 0.4098 - accuracy: 0.8163 - val_loss: 0.4349 - val_accuracy: 0.8012\n",
      "Epoch 37/100\n",
      "313/313 [==============================] - 4s 13ms/step - loss: 0.4085 - accuracy: 0.8148 - val_loss: 0.4333 - val_accuracy: 0.7980\n",
      "Epoch 38/100\n",
      "313/313 [==============================] - 4s 13ms/step - loss: 0.4077 - accuracy: 0.8174 - val_loss: 0.4320 - val_accuracy: 0.8014\n",
      "Epoch 39/100\n",
      "313/313 [==============================] - 4s 13ms/step - loss: 0.4069 - accuracy: 0.8171 - val_loss: 0.4335 - val_accuracy: 0.7968\n",
      "Epoch 40/100\n",
      "313/313 [==============================] - 4s 13ms/step - loss: 0.4061 - accuracy: 0.8185 - val_loss: 0.4340 - val_accuracy: 0.8018\n",
      "Epoch 41/100\n",
      "313/313 [==============================] - 4s 13ms/step - loss: 0.4054 - accuracy: 0.8184 - val_loss: 0.4313 - val_accuracy: 0.8016\n",
      "Epoch 42/100\n",
      "313/313 [==============================] - 4s 13ms/step - loss: 0.4046 - accuracy: 0.8177 - val_loss: 0.4319 - val_accuracy: 0.7998\n",
      "Epoch 43/100\n",
      "313/313 [==============================] - 4s 13ms/step - loss: 0.4036 - accuracy: 0.8181 - val_loss: 0.4347 - val_accuracy: 0.8022\n",
      "Epoch 44/100\n",
      "313/313 [==============================] - 4s 13ms/step - loss: 0.4032 - accuracy: 0.8181 - val_loss: 0.4309 - val_accuracy: 0.8008\n",
      "Epoch 45/100\n",
      "313/313 [==============================] - 4s 13ms/step - loss: 0.4028 - accuracy: 0.8183 - val_loss: 0.4303 - val_accuracy: 0.8036\n",
      "Epoch 46/100\n",
      "313/313 [==============================] - 4s 13ms/step - loss: 0.4018 - accuracy: 0.8184 - val_loss: 0.4331 - val_accuracy: 0.8038\n",
      "Epoch 47/100\n",
      "313/313 [==============================] - 4s 13ms/step - loss: 0.4011 - accuracy: 0.8181 - val_loss: 0.4308 - val_accuracy: 0.8004\n",
      "Epoch 48/100\n",
      "313/313 [==============================] - 4s 13ms/step - loss: 0.4005 - accuracy: 0.8206 - val_loss: 0.4321 - val_accuracy: 0.7980\n"
     ]
    }
   ],
   "source": [
    "# 훈련하기\n",
    "\n",
    "rmsprop = keras.optimizers.RMSprop(learning_rate=1e-4)\n",
    "model.compile(\n",
    "    optimizer=rmsprop, \n",
    "    loss='binary_crossentropy', # 2진분류\n",
    "    metrics ='accuracy'\n",
    "    ) \n",
    "\n",
    "checkpoint_cb = keras.callbacks.ModelCheckpoint(\"../Data/best-lstm-model.h5\")\n",
    "early_stopping_cb = keras.callbacks.EarlyStopping(\n",
    "    patience = 3,\n",
    "    restore_best_weights = True #\n",
    ")\n",
    "\n",
    "history = model.fit(\n",
    "    train_seq, #Embedding이 들어가있기 때문에 one-hot-encoding\n",
    "    train_target,\n",
    "    epochs=100, # RNN에서 제일 작은게 100임.\n",
    "    batch_size = 64,  # mini batch 경사하강법 (64(8*8 <- 순환하는 갯수)개씩 가져오겠다.)\n",
    "    validation_data = (val_seq, val_target),\n",
    "    callbacks = [checkpoint_cb, early_stopping_cb]\n",
    ")"
   ]
  },
  {
   "cell_type": "code",
   "execution_count": 35,
   "metadata": {},
   "outputs": [
    {
     "data": {
      "image/png": "[encoded data removed]",
      "text/plain": [
       "<Figure size 432x288 with 1 Axes>"
      ]
     },
     "metadata": {
      "needs_background": "light"
     },
     "output_type": "display_data"
    }
   ],
   "source": [
    "# 시각화 해보기\n",
    "plt.plot(history.history['loss'])\n",
    "plt.plot(history.history['val_loss'])\n",
    "plt.xlabel('epoch')\n",
    "plt.ylabel('loss')\n",
    "plt.legend(['train','val'])\n",
    "plt.show()"
   ]
  },
  {
   "cell_type": "markdown",
   "metadata": {},
   "source": [
    "> 과대적합이네"
   ]
  },
  {
   "cell_type": "code",
   "execution_count": 37,
   "metadata": {},
   "outputs": [
    {
     "name": "stdout",
     "output_type": "stream",
     "text": [
      "157/157 [==============================] - 0s 2ms/step - loss: 0.4303 - accuracy: 0.8036\n"
     ]
    },
    {
     "data": {
      "text/plain": [
       "[0.4303184449672699, 0.803600013256073]"
      ]
     },
     "execution_count": 37,
     "metadata": {},
     "output_type": "execute_result"
    }
   ],
   "source": [
    "model.evaluate(val_seq, val_target)"
   ]
  },
  {
   "cell_type": "markdown",
   "metadata": {},
   "source": [
    "---\n",
    "## 순환층에 드롭아웃 적용하기\n",
    "- 과대적합 줄이기"
   ]
  },
  {
   "cell_type": "code",
   "execution_count": 38,
   "metadata": {},
   "outputs": [
    {
     "name": "stdout",
     "output_type": "stream",
     "text": [
      "Model: \"sequential_3\"\n",
      "_________________________________________________________________\n",
      " Layer (type)                Output Shape              Param #   \n",
      "=================================================================\n",
      " embedding_2 (Embedding)     (None, 100, 16)           8000      \n",
      "                                                                 \n",
      " lstm_2 (LSTM)               (None, 8)                 800       \n",
      "                                                                 \n",
      " dense_2 (Dense)             (None, 1)                 9         \n",
      "                                                                 \n",
      "=================================================================\n",
      "Total params: 8,809\n",
      "Trainable params: 8,809\n",
      "Non-trainable params: 0\n",
      "_________________________________________________________________\n"
     ]
    }
   ],
   "source": [
    "model = keras.Sequential()\n",
    "\n",
    "model.add(keras.layers.Embedding(500, 16, input_length=100)) #Embedding : one hot encoding\n",
    "model.add(keras.layers.LSTM(8, dropout=0.3)) # 8개의 셀을 사용한다, 드롭아웃 0.3 넣기\n",
    "model.add(keras.layers.Dense(1, activation='sigmoid'))\n",
    "\n",
    "model.summary()"
   ]
  },
  {
   "cell_type": "code",
   "execution_count": 39,
   "metadata": {},
   "outputs": [
    {
     "name": "stdout",
     "output_type": "stream",
     "text": [
      "Epoch 1/100\n",
      "313/313 [==============================] - 6s 15ms/step - loss: 0.6926 - accuracy: 0.5238 - val_loss: 0.6919 - val_accuracy: 0.5786\n",
      "Epoch 2/100\n",
      "313/313 [==============================] - 4s 13ms/step - loss: 0.6903 - accuracy: 0.5970 - val_loss: 0.6883 - val_accuracy: 0.6322\n",
      "Epoch 3/100\n",
      "313/313 [==============================] - 4s 13ms/step - loss: 0.6817 - accuracy: 0.6625 - val_loss: 0.6710 - val_accuracy: 0.6876\n",
      "Epoch 4/100\n",
      "313/313 [==============================] - 4s 13ms/step - loss: 0.6374 - accuracy: 0.7075 - val_loss: 0.6143 - val_accuracy: 0.7022\n",
      "Epoch 5/100\n",
      "313/313 [==============================] - 4s 13ms/step - loss: 0.6013 - accuracy: 0.7125 - val_loss: 0.5907 - val_accuracy: 0.7202\n",
      "Epoch 6/100\n",
      "313/313 [==============================] - 4s 13ms/step - loss: 0.5796 - accuracy: 0.7295 - val_loss: 0.5706 - val_accuracy: 0.7320\n",
      "Epoch 7/100\n",
      "313/313 [==============================] - 4s 13ms/step - loss: 0.5598 - accuracy: 0.7425 - val_loss: 0.5483 - val_accuracy: 0.7510\n",
      "Epoch 8/100\n",
      "313/313 [==============================] - 4s 13ms/step - loss: 0.5376 - accuracy: 0.7576 - val_loss: 0.5264 - val_accuracy: 0.7618\n",
      "Epoch 9/100\n",
      "313/313 [==============================] - 4s 13ms/step - loss: 0.5156 - accuracy: 0.7663 - val_loss: 0.5042 - val_accuracy: 0.7774\n",
      "Epoch 10/100\n",
      "313/313 [==============================] - 4s 13ms/step - loss: 0.4975 - accuracy: 0.7755 - val_loss: 0.4867 - val_accuracy: 0.7798\n",
      "Epoch 11/100\n",
      "313/313 [==============================] - 4s 13ms/step - loss: 0.4832 - accuracy: 0.7818 - val_loss: 0.4765 - val_accuracy: 0.7814\n",
      "Epoch 12/100\n",
      "313/313 [==============================] - 4s 13ms/step - loss: 0.4717 - accuracy: 0.7854 - val_loss: 0.4686 - val_accuracy: 0.7856\n",
      "Epoch 13/100\n",
      "313/313 [==============================] - 4s 13ms/step - loss: 0.4640 - accuracy: 0.7911 - val_loss: 0.4631 - val_accuracy: 0.7868\n",
      "Epoch 14/100\n",
      "313/313 [==============================] - 4s 13ms/step - loss: 0.4588 - accuracy: 0.7931 - val_loss: 0.4592 - val_accuracy: 0.7896\n",
      "Epoch 15/100\n",
      "313/313 [==============================] - 4s 13ms/step - loss: 0.4533 - accuracy: 0.7940 - val_loss: 0.4574 - val_accuracy: 0.7926\n",
      "Epoch 16/100\n",
      "313/313 [==============================] - 4s 13ms/step - loss: 0.4495 - accuracy: 0.7950 - val_loss: 0.4524 - val_accuracy: 0.7932\n",
      "Epoch 17/100\n",
      "313/313 [==============================] - 4s 13ms/step - loss: 0.4454 - accuracy: 0.8004 - val_loss: 0.4484 - val_accuracy: 0.7936\n",
      "Epoch 18/100\n",
      "313/313 [==============================] - 4s 13ms/step - loss: 0.4425 - accuracy: 0.8018 - val_loss: 0.4466 - val_accuracy: 0.7936\n",
      "Epoch 19/100\n",
      "313/313 [==============================] - 4s 13ms/step - loss: 0.4385 - accuracy: 0.8027 - val_loss: 0.4486 - val_accuracy: 0.7978\n",
      "Epoch 20/100\n",
      "313/313 [==============================] - 4s 13ms/step - loss: 0.4358 - accuracy: 0.8012 - val_loss: 0.4452 - val_accuracy: 0.7966\n",
      "Epoch 21/100\n",
      "313/313 [==============================] - 4s 13ms/step - loss: 0.4347 - accuracy: 0.8041 - val_loss: 0.4465 - val_accuracy: 0.8006\n",
      "Epoch 22/100\n",
      "313/313 [==============================] - 4s 13ms/step - loss: 0.4309 - accuracy: 0.8047 - val_loss: 0.4395 - val_accuracy: 0.7990\n",
      "Epoch 23/100\n",
      "313/313 [==============================] - 4s 13ms/step - loss: 0.4290 - accuracy: 0.8051 - val_loss: 0.4384 - val_accuracy: 0.7962\n",
      "Epoch 24/100\n",
      "313/313 [==============================] - 4s 13ms/step - loss: 0.4275 - accuracy: 0.8047 - val_loss: 0.4366 - val_accuracy: 0.8012\n",
      "Epoch 25/100\n",
      "313/313 [==============================] - 4s 13ms/step - loss: 0.4237 - accuracy: 0.8117 - val_loss: 0.4358 - val_accuracy: 0.7982\n",
      "Epoch 26/100\n",
      "313/313 [==============================] - 4s 13ms/step - loss: 0.4234 - accuracy: 0.8070 - val_loss: 0.4363 - val_accuracy: 0.7964\n",
      "Epoch 27/100\n",
      "313/313 [==============================] - 4s 13ms/step - loss: 0.4222 - accuracy: 0.8086 - val_loss: 0.4347 - val_accuracy: 0.8010\n",
      "Epoch 28/100\n",
      "313/313 [==============================] - 4s 13ms/step - loss: 0.4192 - accuracy: 0.8081 - val_loss: 0.4335 - val_accuracy: 0.8020\n",
      "Epoch 29/100\n",
      "313/313 [==============================] - 4s 13ms/step - loss: 0.4183 - accuracy: 0.8089 - val_loss: 0.4321 - val_accuracy: 0.8018\n",
      "Epoch 30/100\n",
      "313/313 [==============================] - 4s 13ms/step - loss: 0.4175 - accuracy: 0.8101 - val_loss: 0.4331 - val_accuracy: 0.8018\n",
      "Epoch 31/100\n",
      "313/313 [==============================] - 4s 13ms/step - loss: 0.4147 - accuracy: 0.8108 - val_loss: 0.4330 - val_accuracy: 0.7998\n",
      "Epoch 32/100\n",
      "313/313 [==============================] - 4s 13ms/step - loss: 0.4145 - accuracy: 0.8119 - val_loss: 0.4329 - val_accuracy: 0.7966\n"
     ]
    }
   ],
   "source": [
    "# 훈련하기\n",
    "\n",
    "rmsprop = keras.optimizers.RMSprop(learning_rate=1e-4)\n",
    "model.compile(\n",
    "    optimizer=rmsprop, \n",
    "    loss='binary_crossentropy', # 2진분류\n",
    "    metrics ='accuracy'\n",
    "    ) \n",
    "\n",
    "checkpoint_cb = keras.callbacks.ModelCheckpoint(\"../Data/best-lstm-dropout-model.h5\")\n",
    "early_stopping_cb = keras.callbacks.EarlyStopping(\n",
    "    patience = 3,\n",
    "    restore_best_weights = True #\n",
    ")\n",
    "\n",
    "history = model.fit(\n",
    "    train_seq, #Embedding이 들어가있기 때문에 one-hot-encoding\n",
    "    train_target,\n",
    "    epochs=100, # RNN에서 제일 작은게 100임.\n",
    "    batch_size = 64,  # mini batch 경사하강법 (64(8*8 <- 순환하는 갯수)개씩 가져오겠다.)\n",
    "    validation_data = (val_seq, val_target),\n",
    "    callbacks = [checkpoint_cb, early_stopping_cb]\n",
    ")"
   ]
  },
  {
   "cell_type": "code",
   "execution_count": 40,
   "metadata": {},
   "outputs": [
    {
     "data": {
      "image/png": "[encoded data removed]",
      "text/plain": [
       "<Figure size 432x288 with 1 Axes>"
      ]
     },
     "metadata": {
      "needs_background": "light"
     },
     "output_type": "display_data"
    }
   ],
   "source": [
    "# 시각화 해보기\n",
    "plt.plot(history.history['loss'])\n",
    "plt.plot(history.history['val_loss'])\n",
    "plt.xlabel('epoch')\n",
    "plt.ylabel('loss')\n",
    "plt.legend(['train','val'])\n",
    "plt.show()"
   ]
  },
  {
   "cell_type": "code",
   "execution_count": 41,
   "metadata": {},
   "outputs": [
    {
     "name": "stdout",
     "output_type": "stream",
     "text": [
      "157/157 [==============================] - 0s 2ms/step - loss: 0.4321 - accuracy: 0.8018\n"
     ]
    },
    {
     "data": {
      "text/plain": [
       "[0.43208131194114685, 0.801800012588501]"
      ]
     },
     "execution_count": 41,
     "metadata": {},
     "output_type": "execute_result"
    }
   ],
   "source": [
    "model.evaluate(val_seq, val_target)"
   ]
  },
  {
   "cell_type": "markdown",
   "metadata": {},
   "source": [
    "---\n",
    "# 2개 층을 연결하기\n",
    "- 모든 타입스텝의 은닉상태를 출력하려면 return_sequences=True 로 하여야한다."
   ]
  },
  {
   "cell_type": "code",
   "execution_count": 42,
   "metadata": {},
   "outputs": [
    {
     "name": "stdout",
     "output_type": "stream",
     "text": [
      "Model: \"sequential_4\"\n",
      "_________________________________________________________________\n",
      " Layer (type)                Output Shape              Param #   \n",
      "=================================================================\n",
      " embedding_3 (Embedding)     (None, 100, 16)           8000      \n",
      "                                                                 \n",
      " lstm_3 (LSTM)               (None, 100, 8)            800       \n",
      "                                                                 \n",
      " lstm_4 (LSTM)               (None, 8)                 544       \n",
      "                                                                 \n",
      " dense_3 (Dense)             (None, 1)                 9         \n",
      "                                                                 \n",
      "=================================================================\n",
      "Total params: 9,353\n",
      "Trainable params: 9,353\n",
      "Non-trainable params: 0\n",
      "_________________________________________________________________\n"
     ]
    }
   ],
   "source": [
    "model = keras.Sequential()\n",
    "\n",
    "model.add(keras.layers.Embedding(500, 16, input_length=100)) #Embedding : one hot encoding\n",
    "model.add(keras.layers.LSTM(8, dropout=0.3, return_sequences=True)) # 여기서 끝난 데이터를 넘겨줘야하기때문에 return_sequences=True 꼭 넣기!\n",
    "model.add(keras.layers.LSTM(8, dropout=0.3)) # 모든 타입스텝의 은닉상태를 출력하려면 return_sequences=True 로 하여야한다.\n",
    "model.add(keras.layers.Dense(1, activation='sigmoid'))\n",
    "\n",
    "model.summary()"
   ]
  },
  {
   "cell_type": "code",
   "execution_count": 43,
   "metadata": {},
   "outputs": [
    {
     "name": "stdout",
     "output_type": "stream",
     "text": [
      "Epoch 1/100\n",
      "313/313 [==============================] - 10s 25ms/step - loss: 0.6923 - accuracy: 0.5383 - val_loss: 0.6914 - val_accuracy: 0.5556\n",
      "Epoch 2/100\n",
      "313/313 [==============================] - 8s 24ms/step - loss: 0.6880 - accuracy: 0.6061 - val_loss: 0.6830 - val_accuracy: 0.6638\n",
      "Epoch 3/100\n",
      "313/313 [==============================] - 8s 24ms/step - loss: 0.6623 - accuracy: 0.6755 - val_loss: 0.6225 - val_accuracy: 0.7146\n",
      "Epoch 4/100\n",
      "313/313 [==============================] - 8s 24ms/step - loss: 0.5810 - accuracy: 0.7204 - val_loss: 0.5554 - val_accuracy: 0.7288\n",
      "Epoch 5/100\n",
      "313/313 [==============================] - 8s 24ms/step - loss: 0.5446 - accuracy: 0.7340 - val_loss: 0.5272 - val_accuracy: 0.7474\n",
      "Epoch 6/100\n",
      "313/313 [==============================] - 8s 24ms/step - loss: 0.5233 - accuracy: 0.7490 - val_loss: 0.5076 - val_accuracy: 0.7576\n",
      "Epoch 7/100\n",
      "313/313 [==============================] - 8s 24ms/step - loss: 0.5041 - accuracy: 0.7632 - val_loss: 0.4965 - val_accuracy: 0.7598\n",
      "Epoch 8/100\n",
      "313/313 [==============================] - 8s 24ms/step - loss: 0.4920 - accuracy: 0.7680 - val_loss: 0.4836 - val_accuracy: 0.7736\n",
      "Epoch 9/100\n",
      "313/313 [==============================] - 8s 25ms/step - loss: 0.4832 - accuracy: 0.7734 - val_loss: 0.4746 - val_accuracy: 0.7764\n",
      "Epoch 10/100\n",
      "313/313 [==============================] - 8s 25ms/step - loss: 0.4742 - accuracy: 0.7799 - val_loss: 0.4714 - val_accuracy: 0.7822\n",
      "Epoch 11/100\n",
      "313/313 [==============================] - 8s 25ms/step - loss: 0.4682 - accuracy: 0.7805 - val_loss: 0.4642 - val_accuracy: 0.7804\n",
      "Epoch 12/100\n",
      "313/313 [==============================] - 8s 25ms/step - loss: 0.4613 - accuracy: 0.7846 - val_loss: 0.4605 - val_accuracy: 0.7834\n",
      "Epoch 13/100\n",
      "313/313 [==============================] - 8s 25ms/step - loss: 0.4585 - accuracy: 0.7841 - val_loss: 0.4608 - val_accuracy: 0.7814\n",
      "Epoch 14/100\n",
      "313/313 [==============================] - 8s 25ms/step - loss: 0.4561 - accuracy: 0.7891 - val_loss: 0.4572 - val_accuracy: 0.7872\n",
      "Epoch 15/100\n",
      "313/313 [==============================] - 8s 25ms/step - loss: 0.4540 - accuracy: 0.7873 - val_loss: 0.4576 - val_accuracy: 0.7840\n",
      "Epoch 16/100\n",
      "313/313 [==============================] - 8s 25ms/step - loss: 0.4493 - accuracy: 0.7946 - val_loss: 0.4538 - val_accuracy: 0.7862\n",
      "Epoch 17/100\n",
      "313/313 [==============================] - 8s 25ms/step - loss: 0.4491 - accuracy: 0.7924 - val_loss: 0.4533 - val_accuracy: 0.7878\n",
      "Epoch 18/100\n",
      "313/313 [==============================] - 8s 25ms/step - loss: 0.4462 - accuracy: 0.7930 - val_loss: 0.4505 - val_accuracy: 0.7860\n",
      "Epoch 19/100\n",
      "313/313 [==============================] - 8s 25ms/step - loss: 0.4460 - accuracy: 0.7925 - val_loss: 0.4496 - val_accuracy: 0.7886\n",
      "Epoch 20/100\n",
      "313/313 [==============================] - 8s 25ms/step - loss: 0.4441 - accuracy: 0.7928 - val_loss: 0.4502 - val_accuracy: 0.7890\n",
      "Epoch 21/100\n",
      "313/313 [==============================] - 8s 25ms/step - loss: 0.4429 - accuracy: 0.7970 - val_loss: 0.4494 - val_accuracy: 0.7890\n",
      "Epoch 22/100\n",
      "313/313 [==============================] - 8s 25ms/step - loss: 0.4405 - accuracy: 0.7976 - val_loss: 0.4469 - val_accuracy: 0.7914\n",
      "Epoch 23/100\n",
      "313/313 [==============================] - 8s 25ms/step - loss: 0.4399 - accuracy: 0.7979 - val_loss: 0.4482 - val_accuracy: 0.7908\n",
      "Epoch 24/100\n",
      "313/313 [==============================] - 8s 25ms/step - loss: 0.4401 - accuracy: 0.7961 - val_loss: 0.4468 - val_accuracy: 0.7902\n",
      "Epoch 25/100\n",
      "313/313 [==============================] - 8s 25ms/step - loss: 0.4395 - accuracy: 0.7961 - val_loss: 0.4459 - val_accuracy: 0.7928\n",
      "Epoch 26/100\n",
      "313/313 [==============================] - 8s 25ms/step - loss: 0.4381 - accuracy: 0.7975 - val_loss: 0.4453 - val_accuracy: 0.7950\n",
      "Epoch 27/100\n",
      "313/313 [==============================] - 8s 25ms/step - loss: 0.4361 - accuracy: 0.7994 - val_loss: 0.4453 - val_accuracy: 0.7938\n",
      "Epoch 28/100\n",
      "313/313 [==============================] - 8s 25ms/step - loss: 0.4367 - accuracy: 0.8000 - val_loss: 0.4445 - val_accuracy: 0.7924\n",
      "Epoch 29/100\n",
      "313/313 [==============================] - 8s 25ms/step - loss: 0.4346 - accuracy: 0.8000 - val_loss: 0.4432 - val_accuracy: 0.7936\n",
      "Epoch 30/100\n",
      "313/313 [==============================] - 8s 25ms/step - loss: 0.4343 - accuracy: 0.8013 - val_loss: 0.4426 - val_accuracy: 0.7952\n",
      "Epoch 31/100\n",
      "313/313 [==============================] - 8s 25ms/step - loss: 0.4310 - accuracy: 0.8026 - val_loss: 0.4429 - val_accuracy: 0.7954\n",
      "Epoch 32/100\n",
      "313/313 [==============================] - 8s 25ms/step - loss: 0.4304 - accuracy: 0.8033 - val_loss: 0.4421 - val_accuracy: 0.7956\n",
      "Epoch 33/100\n",
      "313/313 [==============================] - 8s 25ms/step - loss: 0.4305 - accuracy: 0.8019 - val_loss: 0.4465 - val_accuracy: 0.7928\n",
      "Epoch 34/100\n",
      "313/313 [==============================] - 8s 25ms/step - loss: 0.4288 - accuracy: 0.8020 - val_loss: 0.4403 - val_accuracy: 0.7940\n",
      "Epoch 35/100\n",
      "313/313 [==============================] - 8s 25ms/step - loss: 0.4292 - accuracy: 0.8023 - val_loss: 0.4400 - val_accuracy: 0.7964\n",
      "Epoch 36/100\n",
      "313/313 [==============================] - 8s 25ms/step - loss: 0.4262 - accuracy: 0.8040 - val_loss: 0.4392 - val_accuracy: 0.7978\n",
      "Epoch 37/100\n",
      "313/313 [==============================] - 8s 25ms/step - loss: 0.4270 - accuracy: 0.8044 - val_loss: 0.4385 - val_accuracy: 0.7954\n",
      "Epoch 38/100\n",
      "313/313 [==============================] - 8s 25ms/step - loss: 0.4247 - accuracy: 0.8048 - val_loss: 0.4383 - val_accuracy: 0.7968\n",
      "Epoch 39/100\n",
      "313/313 [==============================] - 8s 25ms/step - loss: 0.4245 - accuracy: 0.8062 - val_loss: 0.4409 - val_accuracy: 0.7978\n",
      "Epoch 40/100\n",
      "313/313 [==============================] - 8s 25ms/step - loss: 0.4216 - accuracy: 0.8056 - val_loss: 0.4382 - val_accuracy: 0.7980\n",
      "Epoch 41/100\n",
      "313/313 [==============================] - 8s 25ms/step - loss: 0.4227 - accuracy: 0.8055 - val_loss: 0.4364 - val_accuracy: 0.7972\n",
      "Epoch 42/100\n",
      "313/313 [==============================] - 8s 25ms/step - loss: 0.4208 - accuracy: 0.8084 - val_loss: 0.4357 - val_accuracy: 0.7994\n",
      "Epoch 43/100\n",
      "313/313 [==============================] - 8s 25ms/step - loss: 0.4204 - accuracy: 0.8064 - val_loss: 0.4350 - val_accuracy: 0.7998\n",
      "Epoch 44/100\n",
      "313/313 [==============================] - 8s 25ms/step - loss: 0.4197 - accuracy: 0.8084 - val_loss: 0.4339 - val_accuracy: 0.8012\n",
      "Epoch 45/100\n",
      "313/313 [==============================] - 8s 25ms/step - loss: 0.4194 - accuracy: 0.8089 - val_loss: 0.4412 - val_accuracy: 0.7934\n",
      "Epoch 46/100\n",
      "313/313 [==============================] - 8s 25ms/step - loss: 0.4174 - accuracy: 0.8099 - val_loss: 0.4336 - val_accuracy: 0.8002\n",
      "Epoch 47/100\n",
      "313/313 [==============================] - 8s 25ms/step - loss: 0.4185 - accuracy: 0.8087 - val_loss: 0.4333 - val_accuracy: 0.8020\n",
      "Epoch 48/100\n",
      "313/313 [==============================] - 8s 25ms/step - loss: 0.4168 - accuracy: 0.8091 - val_loss: 0.4326 - val_accuracy: 0.8028\n",
      "Epoch 49/100\n",
      "313/313 [==============================] - 8s 25ms/step - loss: 0.4161 - accuracy: 0.8073 - val_loss: 0.4325 - val_accuracy: 0.8012\n",
      "Epoch 50/100\n",
      "313/313 [==============================] - 8s 25ms/step - loss: 0.4153 - accuracy: 0.8080 - val_loss: 0.4320 - val_accuracy: 0.8024\n",
      "Epoch 51/100\n",
      "313/313 [==============================] - 8s 25ms/step - loss: 0.4145 - accuracy: 0.8087 - val_loss: 0.4315 - val_accuracy: 0.8018\n",
      "Epoch 52/100\n",
      "313/313 [==============================] - 8s 25ms/step - loss: 0.4148 - accuracy: 0.8093 - val_loss: 0.4340 - val_accuracy: 0.8024\n",
      "Epoch 53/100\n",
      "313/313 [==============================] - 147s 471ms/step - loss: 0.4125 - accuracy: 0.8116 - val_loss: 0.4386 - val_accuracy: 0.7958\n",
      "Epoch 54/100\n",
      "313/313 [==============================] - 8s 25ms/step - loss: 0.4120 - accuracy: 0.8102 - val_loss: 0.4322 - val_accuracy: 0.8008\n"
     ]
    }
   ],
   "source": [
    "# 훈련하기\n",
    "\n",
    "rmsprop = keras.optimizers.RMSprop(learning_rate=1e-4)\n",
    "model.compile(\n",
    "    optimizer=rmsprop, \n",
    "    loss='binary_crossentropy', # 2진분류\n",
    "    metrics ='accuracy'\n",
    "    ) \n",
    "\n",
    "checkpoint_cb = keras.callbacks.ModelCheckpoint(\"../Data/best-2lstm-model.h5\")\n",
    "early_stopping_cb = keras.callbacks.EarlyStopping(\n",
    "    patience = 3,\n",
    "    restore_best_weights = True #\n",
    ")\n",
    "\n",
    "history = model.fit(\n",
    "    train_seq, #Embedding이 들어가있기 때문에 one-hot-encoding\n",
    "    train_target,\n",
    "    epochs=100, # RNN에서 제일 작은게 100임.\n",
    "    batch_size = 64,  # mini batch 경사하강법 (64(8*8 <- 순환하는 갯수)개씩 가져오겠다.)\n",
    "    validation_data = (val_seq, val_target),\n",
    "    callbacks = [checkpoint_cb, early_stopping_cb]\n",
    ")"
   ]
  },
  {
   "cell_type": "code",
   "execution_count": 44,
   "metadata": {},
   "outputs": [
    {
     "data": {
      "image/png": "[encoded data removed]",
      "text/plain": [
       "<Figure size 432x288 with 1 Axes>"
      ]
     },
     "metadata": {
      "needs_background": "light"
     },
     "output_type": "display_data"
    }
   ],
   "source": [
    "# 시각화 해보기\n",
    "plt.plot(history.history['loss'])\n",
    "plt.plot(history.history['val_loss'])\n",
    "plt.xlabel('epoch')\n",
    "plt.ylabel('loss')\n",
    "plt.legend(['train','val'])\n",
    "plt.show()"
   ]
  },
  {
   "cell_type": "markdown",
   "metadata": {},
   "source": [
    "---\n",
    "## GRU(Gated Recurrent Unit) 신경망\n",
    "- LSTM의 간소화 버전\n",
    "- 기억하는 횟수를 정해준다"
   ]
  },
  {
   "cell_type": "code",
   "execution_count": 45,
   "metadata": {},
   "outputs": [
    {
     "name": "stdout",
     "output_type": "stream",
     "text": [
      "Model: \"sequential_5\"\n",
      "_________________________________________________________________\n",
      " Layer (type)                Output Shape              Param #   \n",
      "=================================================================\n",
      " embedding_4 (Embedding)     (None, 100, 16)           8000      \n",
      "                                                                 \n",
      " gru (GRU)                   (None, 8)                 624       \n",
      "                                                                 \n",
      " dense_4 (Dense)             (None, 1)                 9         \n",
      "                                                                 \n",
      "=================================================================\n",
      "Total params: 8,633\n",
      "Trainable params: 8,633\n",
      "Non-trainable params: 0\n",
      "_________________________________________________________________\n"
     ]
    }
   ],
   "source": [
    "model = keras.Sequential()\n",
    "\n",
    "model.add(keras.layers.Embedding(500, 16, input_length=100)) #Embedding : one hot encoding\n",
    "model.add(keras.layers.GRU(8)) # 자동으로 드롭아웃을 해줌\n",
    "model.add(keras.layers.Dense(1, activation='sigmoid'))\n",
    "\n",
    "model.summary()"
   ]
  },
  {
   "cell_type": "code",
   "execution_count": 46,
   "metadata": {},
   "outputs": [
    {
     "name": "stdout",
     "output_type": "stream",
     "text": [
      "Epoch 1/100\n",
      "313/313 [==============================] - 6s 14ms/step - loss: 0.6924 - accuracy: 0.5359 - val_loss: 0.6918 - val_accuracy: 0.5588\n",
      "Epoch 2/100\n",
      "313/313 [==============================] - 4s 14ms/step - loss: 0.6908 - accuracy: 0.5742 - val_loss: 0.6900 - val_accuracy: 0.5814\n",
      "Epoch 3/100\n",
      "313/313 [==============================] - 4s 14ms/step - loss: 0.6882 - accuracy: 0.5953 - val_loss: 0.6872 - val_accuracy: 0.5914\n",
      "Epoch 4/100\n",
      "313/313 [==============================] - 4s 14ms/step - loss: 0.6840 - accuracy: 0.6104 - val_loss: 0.6825 - val_accuracy: 0.5978\n",
      "Epoch 5/100\n",
      "313/313 [==============================] - 4s 14ms/step - loss: 0.6774 - accuracy: 0.6202 - val_loss: 0.6752 - val_accuracy: 0.6084\n",
      "Epoch 6/100\n",
      "313/313 [==============================] - 4s 14ms/step - loss: 0.6672 - accuracy: 0.6345 - val_loss: 0.6638 - val_accuracy: 0.6202\n",
      "Epoch 7/100\n",
      "313/313 [==============================] - 4s 14ms/step - loss: 0.6512 - accuracy: 0.6489 - val_loss: 0.6456 - val_accuracy: 0.6442\n",
      "Epoch 8/100\n",
      "313/313 [==============================] - 4s 14ms/step - loss: 0.6250 - accuracy: 0.6719 - val_loss: 0.6145 - val_accuracy: 0.6744\n",
      "Epoch 9/100\n",
      "313/313 [==============================] - 4s 14ms/step - loss: 0.5785 - accuracy: 0.7053 - val_loss: 0.5596 - val_accuracy: 0.7198\n",
      "Epoch 10/100\n",
      "313/313 [==============================] - 4s 14ms/step - loss: 0.5304 - accuracy: 0.7411 - val_loss: 0.5304 - val_accuracy: 0.7424\n",
      "Epoch 11/100\n",
      "313/313 [==============================] - 4s 14ms/step - loss: 0.5115 - accuracy: 0.7537 - val_loss: 0.5173 - val_accuracy: 0.7526\n",
      "Epoch 12/100\n",
      "313/313 [==============================] - 4s 14ms/step - loss: 0.4985 - accuracy: 0.7644 - val_loss: 0.5068 - val_accuracy: 0.7574\n",
      "Epoch 13/100\n",
      "313/313 [==============================] - 4s 14ms/step - loss: 0.4877 - accuracy: 0.7707 - val_loss: 0.4977 - val_accuracy: 0.7654\n",
      "Epoch 14/100\n",
      "313/313 [==============================] - 5s 15ms/step - loss: 0.4786 - accuracy: 0.7777 - val_loss: 0.4900 - val_accuracy: 0.7680\n",
      "Epoch 15/100\n",
      "313/313 [==============================] - 5s 15ms/step - loss: 0.4712 - accuracy: 0.7829 - val_loss: 0.4847 - val_accuracy: 0.7720\n",
      "Epoch 16/100\n",
      "313/313 [==============================] - 4s 14ms/step - loss: 0.4643 - accuracy: 0.7862 - val_loss: 0.4787 - val_accuracy: 0.7740\n",
      "Epoch 17/100\n",
      "313/313 [==============================] - 4s 14ms/step - loss: 0.4585 - accuracy: 0.7911 - val_loss: 0.4739 - val_accuracy: 0.7804\n",
      "Epoch 18/100\n",
      "313/313 [==============================] - 4s 14ms/step - loss: 0.4534 - accuracy: 0.7940 - val_loss: 0.4701 - val_accuracy: 0.7798\n",
      "Epoch 19/100\n",
      "313/313 [==============================] - 4s 14ms/step - loss: 0.4493 - accuracy: 0.7966 - val_loss: 0.4666 - val_accuracy: 0.7824\n",
      "Epoch 20/100\n",
      "313/313 [==============================] - 4s 14ms/step - loss: 0.4450 - accuracy: 0.7997 - val_loss: 0.4635 - val_accuracy: 0.7838\n",
      "Epoch 21/100\n",
      "313/313 [==============================] - 4s 14ms/step - loss: 0.4419 - accuracy: 0.8015 - val_loss: 0.4611 - val_accuracy: 0.7818\n",
      "Epoch 22/100\n",
      "313/313 [==============================] - 4s 14ms/step - loss: 0.4386 - accuracy: 0.8041 - val_loss: 0.4601 - val_accuracy: 0.7830\n",
      "Epoch 23/100\n",
      "313/313 [==============================] - 4s 14ms/step - loss: 0.4361 - accuracy: 0.8061 - val_loss: 0.4571 - val_accuracy: 0.7866\n",
      "Epoch 24/100\n",
      "313/313 [==============================] - 4s 14ms/step - loss: 0.4338 - accuracy: 0.8071 - val_loss: 0.4574 - val_accuracy: 0.7886\n",
      "Epoch 25/100\n",
      "313/313 [==============================] - 5s 14ms/step - loss: 0.4318 - accuracy: 0.8079 - val_loss: 0.4549 - val_accuracy: 0.7892\n",
      "Epoch 26/100\n",
      "313/313 [==============================] - 4s 14ms/step - loss: 0.4303 - accuracy: 0.8083 - val_loss: 0.4537 - val_accuracy: 0.7900\n",
      "Epoch 27/100\n",
      "313/313 [==============================] - 4s 14ms/step - loss: 0.4276 - accuracy: 0.8094 - val_loss: 0.4539 - val_accuracy: 0.7904\n",
      "Epoch 28/100\n",
      "313/313 [==============================] - 5s 14ms/step - loss: 0.4270 - accuracy: 0.8090 - val_loss: 0.4522 - val_accuracy: 0.7914\n",
      "Epoch 29/100\n",
      "313/313 [==============================] - 4s 14ms/step - loss: 0.4254 - accuracy: 0.8107 - val_loss: 0.4526 - val_accuracy: 0.7882\n",
      "Epoch 30/100\n",
      "313/313 [==============================] - 4s 14ms/step - loss: 0.4244 - accuracy: 0.8122 - val_loss: 0.4505 - val_accuracy: 0.7884\n",
      "Epoch 31/100\n",
      "313/313 [==============================] - 5s 14ms/step - loss: 0.4230 - accuracy: 0.8130 - val_loss: 0.4503 - val_accuracy: 0.7906\n",
      "Epoch 32/100\n",
      "313/313 [==============================] - 4s 14ms/step - loss: 0.4218 - accuracy: 0.8129 - val_loss: 0.4489 - val_accuracy: 0.7892\n",
      "Epoch 33/100\n",
      "313/313 [==============================] - 4s 14ms/step - loss: 0.4209 - accuracy: 0.8150 - val_loss: 0.4508 - val_accuracy: 0.7886\n",
      "Epoch 34/100\n",
      "313/313 [==============================] - 4s 14ms/step - loss: 0.4203 - accuracy: 0.8148 - val_loss: 0.4501 - val_accuracy: 0.7928\n",
      "Epoch 35/100\n",
      "313/313 [==============================] - 4s 14ms/step - loss: 0.4196 - accuracy: 0.8141 - val_loss: 0.4468 - val_accuracy: 0.7922\n",
      "Epoch 36/100\n",
      "313/313 [==============================] - 4s 14ms/step - loss: 0.4185 - accuracy: 0.8147 - val_loss: 0.4502 - val_accuracy: 0.7872\n",
      "Epoch 37/100\n",
      "313/313 [==============================] - 4s 14ms/step - loss: 0.4182 - accuracy: 0.8159 - val_loss: 0.4471 - val_accuracy: 0.7912\n",
      "Epoch 38/100\n",
      "313/313 [==============================] - 4s 14ms/step - loss: 0.4170 - accuracy: 0.8162 - val_loss: 0.4459 - val_accuracy: 0.7904\n",
      "Epoch 39/100\n",
      "313/313 [==============================] - 4s 14ms/step - loss: 0.4166 - accuracy: 0.8152 - val_loss: 0.4454 - val_accuracy: 0.7912\n",
      "Epoch 40/100\n",
      "313/313 [==============================] - 5s 14ms/step - loss: 0.4163 - accuracy: 0.8156 - val_loss: 0.4451 - val_accuracy: 0.7908\n",
      "Epoch 41/100\n",
      "313/313 [==============================] - 4s 14ms/step - loss: 0.4154 - accuracy: 0.8173 - val_loss: 0.4452 - val_accuracy: 0.7940\n",
      "Epoch 42/100\n",
      "313/313 [==============================] - 5s 14ms/step - loss: 0.4151 - accuracy: 0.8166 - val_loss: 0.4452 - val_accuracy: 0.7918\n",
      "Epoch 43/100\n",
      "313/313 [==============================] - 5s 14ms/step - loss: 0.4149 - accuracy: 0.8164 - val_loss: 0.4430 - val_accuracy: 0.7936\n",
      "Epoch 44/100\n",
      "313/313 [==============================] - 5s 14ms/step - loss: 0.4142 - accuracy: 0.8156 - val_loss: 0.4423 - val_accuracy: 0.7918\n",
      "Epoch 45/100\n",
      "313/313 [==============================] - 4s 14ms/step - loss: 0.4139 - accuracy: 0.8175 - val_loss: 0.4422 - val_accuracy: 0.7942\n",
      "Epoch 46/100\n",
      "313/313 [==============================] - 5s 14ms/step - loss: 0.4137 - accuracy: 0.8163 - val_loss: 0.4412 - val_accuracy: 0.7952\n",
      "Epoch 47/100\n",
      "313/313 [==============================] - 5s 14ms/step - loss: 0.4129 - accuracy: 0.8173 - val_loss: 0.4423 - val_accuracy: 0.7938\n",
      "Epoch 48/100\n",
      "313/313 [==============================] - 4s 14ms/step - loss: 0.4130 - accuracy: 0.8169 - val_loss: 0.4407 - val_accuracy: 0.7952\n",
      "Epoch 49/100\n",
      "313/313 [==============================] - 5s 15ms/step - loss: 0.4125 - accuracy: 0.8160 - val_loss: 0.4472 - val_accuracy: 0.7920\n",
      "Epoch 50/100\n",
      "313/313 [==============================] - 4s 14ms/step - loss: 0.4123 - accuracy: 0.8181 - val_loss: 0.4400 - val_accuracy: 0.7958\n",
      "Epoch 51/100\n",
      "313/313 [==============================] - 5s 14ms/step - loss: 0.4118 - accuracy: 0.8175 - val_loss: 0.4391 - val_accuracy: 0.7970\n",
      "Epoch 52/100\n",
      "313/313 [==============================] - 5s 14ms/step - loss: 0.4116 - accuracy: 0.8170 - val_loss: 0.4400 - val_accuracy: 0.7986\n",
      "Epoch 53/100\n",
      "313/313 [==============================] - 5s 14ms/step - loss: 0.4110 - accuracy: 0.8184 - val_loss: 0.4388 - val_accuracy: 0.7972\n",
      "Epoch 54/100\n",
      "313/313 [==============================] - 5s 14ms/step - loss: 0.4110 - accuracy: 0.8169 - val_loss: 0.4384 - val_accuracy: 0.7998\n",
      "Epoch 55/100\n",
      "313/313 [==============================] - 5s 14ms/step - loss: 0.4103 - accuracy: 0.8156 - val_loss: 0.4384 - val_accuracy: 0.7980\n",
      "Epoch 56/100\n",
      "313/313 [==============================] - 5s 14ms/step - loss: 0.4099 - accuracy: 0.8159 - val_loss: 0.4380 - val_accuracy: 0.7994\n",
      "Epoch 57/100\n",
      "313/313 [==============================] - 5s 14ms/step - loss: 0.4100 - accuracy: 0.8167 - val_loss: 0.4378 - val_accuracy: 0.7994\n",
      "Epoch 58/100\n",
      "313/313 [==============================] - 5s 14ms/step - loss: 0.4095 - accuracy: 0.8178 - val_loss: 0.4385 - val_accuracy: 0.7978\n",
      "Epoch 59/100\n",
      "313/313 [==============================] - 4s 14ms/step - loss: 0.4089 - accuracy: 0.8180 - val_loss: 0.4363 - val_accuracy: 0.8012\n",
      "Epoch 60/100\n",
      "313/313 [==============================] - 5s 14ms/step - loss: 0.4090 - accuracy: 0.8164 - val_loss: 0.4357 - val_accuracy: 0.7994\n",
      "Epoch 61/100\n",
      "313/313 [==============================] - 5s 14ms/step - loss: 0.4089 - accuracy: 0.8170 - val_loss: 0.4360 - val_accuracy: 0.8014\n",
      "Epoch 62/100\n",
      "313/313 [==============================] - 5s 14ms/step - loss: 0.4086 - accuracy: 0.8167 - val_loss: 0.4356 - val_accuracy: 0.8014\n",
      "Epoch 63/100\n",
      "313/313 [==============================] - 5s 14ms/step - loss: 0.4081 - accuracy: 0.8177 - val_loss: 0.4369 - val_accuracy: 0.8010\n",
      "Epoch 64/100\n",
      "313/313 [==============================] - 5s 14ms/step - loss: 0.4080 - accuracy: 0.8183 - val_loss: 0.4345 - val_accuracy: 0.8006\n",
      "Epoch 65/100\n",
      "313/313 [==============================] - 4s 14ms/step - loss: 0.4080 - accuracy: 0.8168 - val_loss: 0.4370 - val_accuracy: 0.7974\n",
      "Epoch 66/100\n",
      "313/313 [==============================] - 5s 14ms/step - loss: 0.4075 - accuracy: 0.8176 - val_loss: 0.4351 - val_accuracy: 0.8006\n",
      "Epoch 67/100\n",
      "313/313 [==============================] - 5s 14ms/step - loss: 0.4073 - accuracy: 0.8171 - val_loss: 0.4360 - val_accuracy: 0.7988\n"
     ]
    }
   ],
   "source": [
    "# 훈련하기\n",
    "\n",
    "rmsprop = keras.optimizers.RMSprop(learning_rate=1e-4)\n",
    "model.compile(\n",
    "    optimizer=rmsprop, \n",
    "    loss='binary_crossentropy', # 2진분류\n",
    "    metrics ='accuracy'\n",
    "    ) \n",
    "\n",
    "checkpoint_cb = keras.callbacks.ModelCheckpoint(\"../Data/best-gru-model.h5\")\n",
    "early_stopping_cb = keras.callbacks.EarlyStopping(\n",
    "    patience = 3,\n",
    "    restore_best_weights = True #\n",
    ")\n",
    "\n",
    "history = model.fit(\n",
    "    train_seq, #Embedding이 들어가있기 때문에 one-hot-encoding\n",
    "    train_target,\n",
    "    epochs=100, # RNN에서 제일 작은게 100임.\n",
    "    batch_size = 64,  # mini batch 경사하강법 (64(8*8 <- 순환하는 갯수)개씩 가져오겠다.)\n",
    "    validation_data = (val_seq, val_target),\n",
    "    callbacks = [checkpoint_cb, early_stopping_cb]\n",
    ")"
   ]
  },
  {
   "cell_type": "code",
   "execution_count": 47,
   "metadata": {},
   "outputs": [
    {
     "data": {
      "image/png": "[encoded data removed]",
      "text/plain": [
       "<Figure size 432x288 with 1 Axes>"
      ]
     },
     "metadata": {
      "needs_background": "light"
     },
     "output_type": "display_data"
    }
   ],
   "source": [
    "# 시각화 해보기\n",
    "plt.plot(history.history['loss'])\n",
    "plt.plot(history.history['val_loss'])\n",
    "plt.xlabel('epoch')\n",
    "plt.ylabel('loss')\n",
    "plt.legend(['train','val'])\n",
    "plt.show()"
   ]
  },
  {
   "cell_type": "code",
   "execution_count": 48,
   "metadata": {},
   "outputs": [
    {
     "name": "stdout",
     "output_type": "stream",
     "text": [
      "157/157 [==============================] - 0s 2ms/step - loss: 0.4345 - accuracy: 0.8006\n"
     ]
    },
    {
     "data": {
      "text/plain": [
       "[0.434482604265213, 0.800599992275238]"
      ]
     },
     "execution_count": 48,
     "metadata": {},
     "output_type": "execute_result"
    }
   ],
   "source": [
    "model.evaluate(val_seq, val_target)"
   ]
  }
 ],
 "metadata": {
  "kernelspec": {
   "display_name": "Python 3.9.13",
   "language": "python",
   "name": "python3"
  },
  "language_info": {
   "codemirror_mode": {
    "name": "ipython",
    "version": 3
   },
   "file_extension": ".py",
   "mimetype": "text/x-python",
   "name": "python",
   "nbconvert_exporter": "python",
   "pygments_lexer": "ipython3",
   "version": "3.9.13"
  },
  "orig_nbformat": 4,
  "vscode": {
   "interpreter": {
    "hash": "00c8100a7997e958d8100731b108691612e131425235a19f9419f6b3b0ff44b3"
   }
  }
 },
 "nbformat": 4,
 "nbformat_minor": 2
}
