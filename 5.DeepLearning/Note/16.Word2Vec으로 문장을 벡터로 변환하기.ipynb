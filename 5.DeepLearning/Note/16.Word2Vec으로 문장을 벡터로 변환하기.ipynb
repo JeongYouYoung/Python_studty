{
 "cells": [
  {
   "cell_type": "markdown",
   "metadata": {},
   "source": [
    "# Ward2Vec\n",
    "- 문장 내부의 단어를 벡터로 변환하는 도구\n",
    "- 단어의 연결을 기반으로 단어의 연관성을 벡터로 생성\n",
    "- RNN이랑은 틀린방식\n",
    "- 이를 활용하면 단어간의 유사도를 파악하여 단어의 의미를 파악 가능하다.\n",
    "- 특히 한국어에서 많이 사용\n",
    "- 단어의 의미를 선형으로 계산 가능.   \n",
    "예) 아빠 - 남자 + 여자 = 엄마 , 왕자 - 남성 + 여성 = 공주 \n",
    "- 여기에서 로봇채팅이 나온거임."
   ]
  },
  {
   "cell_type": "markdown",
   "metadata": {},
   "source": [
    "### Gensim 설치\n",
    "- Word2Vec를 구현하는 도구중 실행속도가 빠름"
   ]
  },
  {
   "cell_type": "markdown",
   "metadata": {},
   "source": [
    "### 허균의 홍길동전"
   ]
  },
  {
   "cell_type": "code",
   "execution_count": 1,
   "metadata": {},
   "outputs": [],
   "source": [
    "# !pip install konlpy"
   ]
  },
  {
   "cell_type": "code",
   "execution_count": 2,
   "metadata": {},
   "outputs": [],
   "source": [
    "# !pip install gensim"
   ]
  },
  {
   "cell_type": "code",
   "execution_count": 2,
   "metadata": {},
   "outputs": [],
   "source": [
    "from konlpy.tag import Okt\n",
    "from gensim.models import word2vec"
   ]
  },
  {
   "cell_type": "code",
   "execution_count": 5,
   "metadata": {},
   "outputs": [],
   "source": [
    "file = open(\"../Data/홍길동전.txt\", 'r')\n",
    "text = str(file.readlines())\n",
    "# text"
   ]
  },
  {
   "cell_type": "code",
   "execution_count": 12,
   "metadata": {},
   "outputs": [],
   "source": [
    "# 텍스를 한 줄씩 처리하기\n",
    "twitter = Okt()\n",
    "results = []\n",
    "lines = text.split(\"\\n\")\n",
    "for line in lines:\n",
    "    # 형태소 분석하기\n",
    "    malist = twitter.pos(line,norm=True,stem=True) # 단어의 기본형 사용\n",
    "    r = []\n",
    "    for word in malist:\n",
    "        # 어미, 조사, 구두점 등은 대상에서 제외\n",
    "        if not word[1] in [\"Josa\",\"Eomi\",\"Punctuation\"]:\n",
    "            if word[0] != \"n\":\n",
    "                r.append(word[0]) # word[0] : data\n",
    "    rl = (\" \".join(r).strip())\n",
    "    results.append(rl)\n",
    "    # print(rl)"
   ]
  },
  {
   "cell_type": "code",
   "execution_count": 7,
   "metadata": {},
   "outputs": [],
   "source": [
    "# 파일로 출력하기 \n",
    "wakati_file = \"../Data/홍길동전.wakati\"\n",
    "with open(wakati_file, 'w', encoding = 'utf-8') as fp:\n",
    "    fp.write(\"\\n\".join(results))"
   ]
  },
  {
   "cell_type": "code",
   "execution_count": 8,
   "metadata": {},
   "outputs": [
    {
     "name": "stdout",
     "output_type": "stream",
     "text": [
      "OK\n"
     ]
    }
   ],
   "source": [
    "# word2vec 모델 만들기 \n",
    "data = word2vec.LineSentence(wakati_file)\n",
    "model = word2vec.Word2Vec(data, window = 10, hs = 1, min_count=2, sg = 1) \n",
    "# hs = 1 (숫자, 특수문자 제외)\n",
    "# sg = 1 (skip gram, 문법 체크 제외)\n",
    "model.save(\"../Data/홍길동전.model\")\n",
    "print(\"OK\")"
   ]
  },
  {
   "cell_type": "code",
   "execution_count": 9,
   "metadata": {},
   "outputs": [],
   "source": [
    "# 모델 사용하기 \n",
    "model = word2vec.Word2Vec.load(\"../Data/홍길동전.model\")"
   ]
  },
  {
   "cell_type": "code",
   "execution_count": 10,
   "metadata": {},
   "outputs": [
    {
     "data": {
      "text/plain": [
       "[('재물', 0.949138343334198),\n",
       " ('놈', 0.940064013004303),\n",
       " ('도적', 0.9196517467498779),\n",
       " ('수령', 0.9179301857948303),\n",
       " ('앗', 0.9166228771209717),\n",
       " ('곡식', 0.9151845574378967),\n",
       " ('불쌍하다', 0.907372772693634),\n",
       " ('취하', 0.9025781154632568),\n",
       " ('넉넉하다', 0.8986300826072693),\n",
       " ('불의', 0.8985934257507324)]"
      ]
     },
     "execution_count": 10,
     "metadata": {},
     "output_type": "execute_result"
    }
   ],
   "source": [
    "# 가장 의미 비슷한 단어 찾기 \n",
    "model.wv.most_similar(positive = ['백성'])"
   ]
  },
  {
   "cell_type": "code",
   "execution_count": 11,
   "metadata": {},
   "outputs": [
    {
     "data": {
      "text/plain": [
       "[('부인', -0.27256086468696594),\n",
       " ('대감', -0.33682015538215637),\n",
       " ('말', -0.4113878607749939),\n",
       " ('들다', -0.48818403482437134),\n",
       " ('대하', -0.4961871802806854),\n",
       " ('내', -0.5140997767448425),\n",
       " ('새', -0.5150015354156494),\n",
       " ('들어가다', -0.519146740436554),\n",
       " ('무슨', -0.5414847731590271),\n",
       " ('알', -0.5451776385307312)]"
      ]
     },
     "execution_count": 11,
     "metadata": {},
     "output_type": "execute_result"
    }
   ],
   "source": [
    "model.wv.most_similar(negative=['백성'])"
   ]
  },
  {
   "cell_type": "markdown",
   "metadata": {},
   "source": [
    "---\n",
    " ## 위키피디아 한국어 버전을 사용하기"
   ]
  },
  {
   "cell_type": "markdown",
   "metadata": {},
   "source": [
    "\n",
    "위키디피아 데이터 다운로드 : https://dumps.wikimedia.org/kowiki/latest/ 에서 kowiki-latest-pages-articles.xml.bz2를 다운  \n",
    "bzip2 -d kowiki-latest-pages-articles.xml.bz  \n",
    "sudo gem install wp2txt  \n",
    "wp2txt --input-file ./kowiki-latest-pages-articles.xml (약 20분 소요)  \n",
    "cat kowiki-latest-pages-articles-* > wiki.txt  "
   ]
  },
  {
   "cell_type": "code",
   "execution_count": null,
   "metadata": {},
   "outputs": [],
   "source": [
    "import codecs\n",
    "from bs4 import BeautifulSoup\n",
    "from konlpy.tag import Okt\n",
    "from gensim.models import word2vec\n",
    "\n",
    "# 파일 열기\n",
    "readFp = codecs.open(\"../../wiki/wiki.txt\", \"r\", encoding=\"utf-8\")\n",
    "wakati_file = \"../../wiki/wiki.wakati\"\n",
    "writeFp = open(wakati_file, \"w\", encoding=\"utf-8\")\n",
    "\n",
    "# 형태소 분석 -\n",
    "twitter = Okt()\n",
    "i = 0\n",
    "\n",
    "# 텍스트를 한 줄씩 처리하기\n",
    "while True:\n",
    "    line = readFp.readline()\n",
    "    if not line: break\n",
    "    if i % 20000 == 0:\n",
    "        print(\"current - \" + str(i))\n",
    "    i += 1\n",
    "    # 형태소 분석\n",
    "    malist = twitter.pos(line, norm=True, stem=True)\n",
    "    # 필요한 어구만 대상으로 하기\n",
    "    r = []\n",
    "    for word in malist:\n",
    "        # 어미/조사/구두점 등은 대상에서 제외 \n",
    "        if not word[1] in [\"Josa\", \"Eomi\", \"Punctuation\"]:\n",
    "            writeFp.write(word[0] + \" \")\n",
    "writeFp.close()"
   ]
  },
  {
   "cell_type": "code",
   "execution_count": null,
   "metadata": {},
   "outputs": [],
   "source": [
    "from gensim.models import word2vec\n",
    "data = word2vec.Text8Corpus(\"../../wiki/wiki.wakati\")\n",
    "model = word2vec.Word2Vec(data)\n",
    "model.save(\"../../wiki/wiki.model\")\n",
    "print(\"ok\")"
   ]
  },
  {
   "cell_type": "markdown",
   "metadata": {},
   "source": [
    "---\n",
    "위 과정은 오래걸림."
   ]
  },
  {
   "cell_type": "code",
   "execution_count": null,
   "metadata": {},
   "outputs": [],
   "source": [
    "# 사용하기 \n",
    "from gensim.models import word2vec\n",
    "model2 = word2vec.Word2Vec.load(\"../Data/wiki/wiki.model\")"
   ]
  },
  {
   "cell_type": "code",
   "execution_count": 14,
   "metadata": {},
   "outputs": [
    {
     "data": {
      "text/plain": [
       "[('Perl', 0.9049678444862366),\n",
       " ('Java', 0.8980178833007812),\n",
       " ('JavaScript', 0.885010838508606),\n",
       " ('Tcl', 0.8817355036735535),\n",
       " ('Lisp', 0.862151563167572),\n",
       " ('자바스크립트', 0.8619224429130554),\n",
       " ('js', 0.8576772809028625),\n",
       " ('Qt', 0.8527214527130127),\n",
       " ('JSP', 0.8512636423110962),\n",
       " ('OpenGL', 0.8508063554763794)]"
      ]
     },
     "execution_count": 14,
     "metadata": {},
     "output_type": "execute_result"
    }
   ],
   "source": [
    "model2.wv.most_similar(positive=['Python',\"파이썬\"])"
   ]
  },
  {
   "cell_type": "code",
   "execution_count": 15,
   "metadata": {},
   "outputs": [
    {
     "data": {
      "text/plain": [
       "('엄마', 0.8462279438972473)"
      ]
     },
     "execution_count": 15,
     "metadata": {},
     "output_type": "execute_result"
    }
   ],
   "source": [
    "model2.wv.most_similar(positive=['아빠',\"여성\"], negative=['남성'])[0]"
   ]
  },
  {
   "cell_type": "code",
   "execution_count": 16,
   "metadata": {},
   "outputs": [
    {
     "data": {
      "text/plain": [
       "[('공주', 0.6534191966056824),\n",
       " ('왕', 0.6481793522834778),\n",
       " ('여왕', 0.6432251334190369),\n",
       " ('왕녀', 0.6313380599021912),\n",
       " ('왕비', 0.6241751313209534)]"
      ]
     },
     "execution_count": 16,
     "metadata": {},
     "output_type": "execute_result"
    }
   ],
   "source": [
    "model2.wv.most_similar(positive=['왕자',\"여성\"], negative=['남성'])[0:5]"
   ]
  },
  {
   "cell_type": "code",
   "execution_count": 17,
   "metadata": {},
   "outputs": [
    {
     "data": {
      "text/plain": [
       "[('커피숍', 0.657056987285614),\n",
       " ('랜선', 0.642453134059906),\n",
       " ('청담동', 0.6393517851829529),\n",
       " ('횟집', 0.636467456817627),\n",
       " ('홍대', 0.6354712247848511),\n",
       " ('인사동', 0.6221076846122742),\n",
       " ('먹방', 0.6165238618850708),\n",
       " ('주점', 0.6155254244804382),\n",
       " ('장보기', 0.6106765270233154),\n",
       " ('한식당', 0.6068207621574402)]"
      ]
     },
     "execution_count": 17,
     "metadata": {},
     "output_type": "execute_result"
    }
   ],
   "source": [
    "model2.wv.most_similar(positive=['강남',\"맛집\"])"
   ]
  },
  {
   "cell_type": "code",
   "execution_count": null,
   "metadata": {},
   "outputs": [],
   "source": []
  }
 ],
 "metadata": {
  "kernelspec": {
   "display_name": "Python 3.7.13 ('python2')",
   "language": "python",
   "name": "python3"
  },
  "language_info": {
   "codemirror_mode": {
    "name": "ipython",
    "version": 3
   },
   "file_extension": ".py",
   "mimetype": "text/x-python",
   "name": "python",
   "nbconvert_exporter": "python",
   "pygments_lexer": "ipython3",
   "version": "3.7.13"
  },
  "orig_nbformat": 4,
  "vscode": {
   "interpreter": {
    "hash": "32a6e990c54b8aedea55d9f644f5b71e71549db4552cfafb8e4d9a3d07f10878"
   }
  }
 },
 "nbformat": 4,
 "nbformat_minor": 2
}
