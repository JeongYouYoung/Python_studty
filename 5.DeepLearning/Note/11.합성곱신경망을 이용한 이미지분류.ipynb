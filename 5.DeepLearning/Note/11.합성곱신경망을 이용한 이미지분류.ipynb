{
 "cells": [
  {
   "cell_type": "code",
   "execution_count": 1,
   "metadata": {},
   "outputs": [],
   "source": [
    "import warnings\n",
    "warnings.filterwarnings('ignore')"
   ]
  },
  {
   "cell_type": "markdown",
   "metadata": {},
   "source": [
    "## 패션 MNIST 데이터 불러오기"
   ]
  },
  {
   "cell_type": "code",
   "execution_count": 2,
   "metadata": {},
   "outputs": [],
   "source": [
    "# 데이터 불러오기\n",
    "from tensorflow import keras\n",
    "from sklearn.model_selection import train_test_split\n",
    "(train_input, train_target), (test_input, test_target) = keras.datasets.fashion_mnist.load_data()\n",
    "\n",
    "train_scaled = train_input.reshape(-1, 28, 28, 1) / 255.0\n",
    "\n",
    "train_scaled, val_scaled, train_target, val_target = train_test_split(\n",
    "    train_scaled, train_target, test_size=0.2, random_state=42\n",
    ")"
   ]
  },
  {
   "cell_type": "markdown",
   "metadata": {},
   "source": [
    "- keras에서 입력데이터가 3차원으로 구성되어 있을 것이라고 가정하고 있으므로 차원을 추가해서 Channel차원으로 1을 추가하였음.\n",
    "- train set을 train 과 valid로 구분\n",
    "\n",
    "- <img src=\"../Data/차원추가.png\"  width=\"200\" height=\"100\"> "
   ]
  },
  {
   "cell_type": "markdown",
   "metadata": {},
   "source": [
    "# 함성곱 신경망 만들기"
   ]
  },
  {
   "cell_type": "code",
   "execution_count": 3,
   "metadata": {},
   "outputs": [],
   "source": [
    "model = keras.Sequential()"
   ]
  },
  {
   "cell_type": "code",
   "execution_count": 4,
   "metadata": {},
   "outputs": [],
   "source": [
    "model.add(\n",
    "    keras.layers.Conv2D(\n",
    "        32,\n",
    "        kernel_size = 3,\n",
    "        activation = 'relu',\n",
    "        padding = 'same',\n",
    "        input_shape = (28, 28, 1)\n",
    "    )\n",
    ")"
   ]
  },
  {
   "cell_type": "code",
   "execution_count": 5,
   "metadata": {},
   "outputs": [],
   "source": [
    "model.add(keras.layers.MaxPool2D(2))"
   ]
  },
  {
   "cell_type": "code",
   "execution_count": 6,
   "metadata": {},
   "outputs": [],
   "source": [
    "model.add(\n",
    "    keras.layers.Conv2D(\n",
    "        64, # 필터의 갯수\n",
    "        kernel_size=3,\n",
    "        activation = 'relu',\n",
    "        padding = 'same'\n",
    "    )\n",
    ")"
   ]
  },
  {
   "cell_type": "code",
   "execution_count": 7,
   "metadata": {},
   "outputs": [],
   "source": [
    "model.add(keras.layers.MaxPool2D(2)) # 2는 2x2"
   ]
  },
  {
   "cell_type": "code",
   "execution_count": 8,
   "metadata": {},
   "outputs": [],
   "source": [
    "# 딥러닝 모델 만들기\n",
    "model.add(keras.layers.Flatten()) # 1차원으로 쫙바뀌고\n",
    "model.add(keras.layers.Dense(100, activation='relu'))\n",
    "model.add(keras.layers.Dropout(0.4))\n",
    "model.add(keras.layers.Dense(10, activation='softmax')) # 마지막 레이어 => 출력층\n"
   ]
  },
  {
   "cell_type": "code",
   "execution_count": 9,
   "metadata": {},
   "outputs": [
    {
     "name": "stdout",
     "output_type": "stream",
     "text": [
      "Model: \"sequential\"\n",
      "_________________________________________________________________\n",
      " Layer (type)                Output Shape              Param #   \n",
      "=================================================================\n",
      " conv2d (Conv2D)             (None, 28, 28, 32)        320       \n",
      "                                                                 \n",
      " max_pooling2d (MaxPooling2D  (None, 14, 14, 32)       0         \n",
      " )                                                               \n",
      "                                                                 \n",
      " conv2d_1 (Conv2D)           (None, 14, 14, 64)        18496     \n",
      "                                                                 \n",
      " max_pooling2d_1 (MaxPooling  (None, 7, 7, 64)         0         \n",
      " 2D)                                                             \n",
      "                                                                 \n",
      " flatten (Flatten)           (None, 3136)              0         \n",
      "                                                                 \n",
      " dense (Dense)               (None, 100)               313700    \n",
      "                                                                 \n",
      " dropout (Dropout)           (None, 100)               0         \n",
      "                                                                 \n",
      " dense_1 (Dense)             (None, 10)                1010      \n",
      "                                                                 \n",
      "=================================================================\n",
      "Total params: 333,526\n",
      "Trainable params: 333,526\n",
      "Non-trainable params: 0\n",
      "_________________________________________________________________\n"
     ]
    }
   ],
   "source": [
    "model.summary()"
   ]
  },
  {
   "cell_type": "markdown",
   "metadata": {},
   "source": [
    "### Model Compile과 훈련"
   ]
  },
  {
   "cell_type": "code",
   "execution_count": 13,
   "metadata": {},
   "outputs": [
    {
     "name": "stdout",
     "output_type": "stream",
     "text": [
      "Epoch 1/50\n",
      "1500/1500 [==============================] - 13s 8ms/step - loss: 0.5324 - accuracy: 0.8077 - val_loss: 0.3453 - val_accuracy: 0.8713\n",
      "Epoch 2/50\n",
      "1500/1500 [==============================] - 13s 8ms/step - loss: 0.3525 - accuracy: 0.8720 - val_loss: 0.2869 - val_accuracy: 0.8929\n",
      "Epoch 3/50\n",
      "1500/1500 [==============================] - 13s 8ms/step - loss: 0.3046 - accuracy: 0.8904 - val_loss: 0.2545 - val_accuracy: 0.9033\n",
      "Epoch 4/50\n",
      "1500/1500 [==============================] - 13s 9ms/step - loss: 0.2718 - accuracy: 0.9006 - val_loss: 0.2577 - val_accuracy: 0.9045\n",
      "Epoch 5/50\n",
      "1500/1500 [==============================] - 13s 9ms/step - loss: 0.2456 - accuracy: 0.9112 - val_loss: 0.2508 - val_accuracy: 0.9080\n",
      "Epoch 6/50\n",
      "1500/1500 [==============================] - 13s 9ms/step - loss: 0.2238 - accuracy: 0.9174 - val_loss: 0.2298 - val_accuracy: 0.9158\n",
      "Epoch 7/50\n",
      "1500/1500 [==============================] - 13s 9ms/step - loss: 0.2055 - accuracy: 0.9241 - val_loss: 0.2211 - val_accuracy: 0.9179\n",
      "Epoch 8/50\n",
      "1500/1500 [==============================] - 13s 9ms/step - loss: 0.1897 - accuracy: 0.9293 - val_loss: 0.2234 - val_accuracy: 0.9204\n",
      "Epoch 9/50\n",
      "1500/1500 [==============================] - 14s 9ms/step - loss: 0.1757 - accuracy: 0.9342 - val_loss: 0.2254 - val_accuracy: 0.9199\n"
     ]
    }
   ],
   "source": [
    "model.compile(\n",
    "    optimizer = 'adam',\n",
    "    loss='sparse_categorical_crossentropy',\n",
    "    metrics = 'accuracy'\n",
    ")\n",
    "\n",
    "checkpoint_cb = keras.callbacks.ModelCheckpoint(\"../Data/best-cnn-model.h5\")\n",
    "early_stopping_cb = keras.callbacks.EarlyStopping(patience=2, restore_best_weights=True)\n",
    "\n",
    "history = model.fit(\n",
    "            train_scaled, \n",
    "            train_target,\n",
    "            epochs=50, \n",
    "            validation_data=(val_scaled, val_target),\n",
    "            callbacks=[checkpoint_cb, early_stopping_cb]\n",
    "        )"
   ]
  },
  {
   "cell_type": "code",
   "execution_count": 15,
   "metadata": {},
   "outputs": [
    {
     "data": {
      "image/png": "[encoded data removed]",
      "text/plain": [
       "<Figure size 432x288 with 1 Axes>"
      ]
     },
     "metadata": {
      "needs_background": "light"
     },
     "output_type": "display_data"
    }
   ],
   "source": [
    "# 시각화 해보기\n",
    "import matplotlib.pyplot as plt\n",
    "\n",
    "plt.plot(history.history['loss'])\n",
    "plt.plot(history.history['val_loss'])\n",
    "plt.xlabel('epoch')\n",
    "plt.ylabel('loss')\n",
    "plt.legend(['train','val'])\n",
    "plt.show()"
   ]
  },
  {
   "cell_type": "code",
   "execution_count": 16,
   "metadata": {},
   "outputs": [
    {
     "name": "stdout",
     "output_type": "stream",
     "text": [
      "375/375 [==============================] - 1s 3ms/step - loss: 0.2211 - accuracy: 0.9179\n"
     ]
    },
    {
     "data": {
      "text/plain": [
       "[0.22109179198741913, 0.9179166555404663]"
      ]
     },
     "execution_count": 16,
     "metadata": {},
     "output_type": "execute_result"
    }
   ],
   "source": [
    "model.evaluate(val_scaled, val_target)"
   ]
  },
  {
   "cell_type": "code",
   "execution_count": 18,
   "metadata": {},
   "outputs": [
    {
     "data": {
      "image/png": "[encoded data removed]",
      "text/plain": [
       "<Figure size 432x288 with 1 Axes>"
      ]
     },
     "metadata": {
      "needs_background": "light"
     },
     "output_type": "display_data"
    }
   ],
   "source": [
    "# 이미지 확인해보기\n",
    "plt.imshow(val_scaled[0].reshape(28,28), cmap='gray_r')\n",
    "plt.show()"
   ]
  },
  {
   "cell_type": "code",
   "execution_count": 19,
   "metadata": {},
   "outputs": [
    {
     "name": "stdout",
     "output_type": "stream",
     "text": [
      "1/1 [==============================] - 0s 49ms/step\n",
      "[[2.5155224e-17 2.8716907e-23 1.0692621e-19 1.0205316e-17 5.0628210e-18\n",
      "  1.4001426e-16 1.9316042e-17 2.5552238e-17 1.0000000e+00 8.5587887e-20]]\n"
     ]
    }
   ],
   "source": [
    "pred = model.predict(val_scaled[0:1])\n",
    "print(pred)"
   ]
  },
  {
   "cell_type": "code",
   "execution_count": 22,
   "metadata": {},
   "outputs": [],
   "source": [
    "# 계단함수\n",
    "import numpy as np\n",
    "classes = ['티셔츠','바지','스웨터','드레스','코트','샌들','셔츠','스니커스','가방','앵글부츠']"
   ]
  },
  {
   "cell_type": "code",
   "execution_count": 23,
   "metadata": {},
   "outputs": [
    {
     "name": "stdout",
     "output_type": "stream",
     "text": [
      "가방\n"
     ]
    }
   ],
   "source": [
    "print(classes[np.argmax(pred)])"
   ]
  },
  {
   "cell_type": "markdown",
   "metadata": {},
   "source": [
    "### 시험데이터를 확인하기(일반화 성능 체크)"
   ]
  },
  {
   "cell_type": "code",
   "execution_count": 24,
   "metadata": {},
   "outputs": [],
   "source": [
    "teat_scaled = test_input.reshape(-1, 28, 28, 1) / 255.0"
   ]
  },
  {
   "cell_type": "code",
   "execution_count": 25,
   "metadata": {},
   "outputs": [
    {
     "name": "stdout",
     "output_type": "stream",
     "text": [
      "313/313 [==============================] - 1s 3ms/step - loss: 0.2425 - accuracy: 0.9119\n"
     ]
    },
    {
     "data": {
      "text/plain": [
       "[0.24251674115657806, 0.911899983882904]"
      ]
     },
     "execution_count": 25,
     "metadata": {},
     "output_type": "execute_result"
    }
   ],
   "source": [
    "model.evaluate(teat_scaled, test_target)"
   ]
  }
 ],
 "metadata": {
  "kernelspec": {
   "display_name": "Python 3.9.13",
   "language": "python",
   "name": "python3"
  },
  "language_info": {
   "codemirror_mode": {
    "name": "ipython",
    "version": 3
   },
   "file_extension": ".py",
   "mimetype": "text/x-python",
   "name": "python",
   "nbconvert_exporter": "python",
   "pygments_lexer": "ipython3",
   "version": "3.9.13"
  },
  "orig_nbformat": 4,
  "vscode": {
   "interpreter": {
    "hash": "00c8100a7997e958d8100731b108691612e131425235a19f9419f6b3b0ff44b3"
   }
  }
 },
 "nbformat": 4,
 "nbformat_minor": 2
}
