{
 "cells": [
  {
   "cell_type": "markdown",
   "metadata": {},
   "source": [
    "제일 많이 물어보는 부분이래.."
   ]
  },
  {
   "cell_type": "markdown",
   "metadata": {},
   "source": [
    "## CNN(Convolution Neural Network)에서 본 심층신경망(다층 퍼셉트론)의 단점\n",
    "- 입력값으로 고규 이미지 생김새 정보를 알 수 없다. 2차원 배열로 자료를 1차원으로 변경하여 작업이 시작된다.\n",
    "- 심층신경망은 픽셀 하나하나의 변화에 상당히 민감하다.(이게 데이터 값이니까..) 이미지 생김새를 사용할 수 없으므로 한두개의 픽셀이 모델 예측에 영향을 끼친다.\n",
    "- 픽셀 한두개의 정보에도 민감하게 반응하기위해 상당히 많은 변수를 모델안에 가지고 있다. 이로인해 학습시간이 오래걸리고 잘못하면 과대적합이 발생한다."
   ]
  },
  {
   "cell_type": "markdown",
   "metadata": {},
   "source": [
    "<img src=\"../Data/CNN전체이미지.png\"  width=\"600\" height=\"300\">  \n",
    "  \n",
    "<img src=\"../Data/CNN2차원.png\"  width=\"600\" height=\"300\">  \n",
    "\n",
    "> 필터는 1개야  \n",
    "> 출력한 z값이 특성맵  \n",
    "> w가 활성화 함수중 Relu임."
   ]
  },
  {
   "cell_type": "markdown",
   "metadata": {},
   "source": [
    "## 합성곱 신경망(CNN : Convolution Neural Network)의 구성요소\n",
    "- 밀집층(dense)\n",
    "\n",
    "#### 1차원 합성곱\n",
    "- 합성곡 신경망은 노드의 가중치 갯수가 전체 갯수가 아니고 정하여 사용함.(3,5개 : 가중치가 3개 혹은 5개, 3을 제일 많이 사용)\n",
    "- 입력층을 아래로 한칸 이동하여 위에어 계산한 '동일한 가중치'와 절편을 사용한다.\n",
    "- 밀집층 보다 가중치의 갯수가 훨씬 작다.\n",
    "- 예 : 10개의 입력이 있으면 출력은 8개만 만들어짐\n",
    "- 3개씩 있는 것을 필터라고 하며 필터의 커널은 3이다.\n",
    "\n",
    "\n",
    "#### 2차원 합성곱\n",
    "- 이미지의 크기는 4x4\n",
    "- 필터의 커널은 3x3이고 각 입력층에 곱해지는 Weight와 Bias는 동일하다.(합성곱)\n",
    "- 데이터는 16개 이고 발생하는 출력의 갯수는 2x2개 이다.\n",
    "\n",
    "\n",
    "#### 특성맵\n",
    "- 특성맵을 활성화 출력이라고도 한다. 이유는 커널과 특성맵 사이에 활성화 함수(AF : Relu)가 들어가기 때문이다.\n",
    "- 그러나 CNN에서는 특성맵 이라고 불리운다.\n",
    "- 2차원으로 구성된 입력층을 그대로 특성맵도 2차원으로 출력한다.(차원은 안바뀐다.)  "
   ]
  },
  {
   "cell_type": "markdown",
   "metadata": {},
   "source": [
    "<img src=\"../Data/CNN여러차원.png\"  width=\"600\" height=\"300\">  \n",
    "\n",
    "> 필터가 증가하게 되면 차원이 늘어나고 특성을 더 잘 찾을 수 있음\n",
    "\n",
    "<img src=\"../Data/CNN패딩.png\"  width=\"600\" height=\"300\">  "
   ]
  },
  {
   "cell_type": "markdown",
   "metadata": {},
   "source": [
    "#### 여러개의 필터\n",
    "- 필터가 여러개 이므로 모든 가중치와 절편이 달라야 한다.\n",
    "- 특성맵의 구성은 가로x세로x필터의갯수로 3차원이 생성됨\n",
    "\n",
    "keras.layers.Conv2d(10, kernel_size=(3,3), activation='relu') <- 10 : 필터갯수\n",
    "\n",
    "#### Padding\n",
    "- 입력값과 동일한 크기를 구하는 방법으로는 same 패딩이 있으며, valid는 Padding이 없이 구하는 방법이다.\n",
    "* keras.layers.Conv2d(10, kernel_size=(3,3), activation='relu', padding='same')\n",
    "\n",
    "##### Stride\n",
    "- 필터의 이동을 한칸씩이 아닌 여러칸으로 이동할 경우, 이 이동하는 크기를 stride라고 함.(인물보다는 배경사진, 이미지가 거의 안변할때)\n",
    "- 아주 특수한경우를 뺴고는 stride는 1을 초과하여 사용하지 않는다.\n",
    "* keras.layers.Conv2d(10, kernel_size=(3,3), activation='relu', padding='same', stride = 1)   \n",
    "\n",
    "\n",
    "#### Pooling층\n",
    "- 특성맵의 다음단계로 차원축소를 하는 필터\n",
    "- 최대(max)풀링과 평균(mean)풀링 2종류가 있다.    \n",
    "     \n",
    "최대풀링의 경우    \n",
    "- 풀링의 경우 계산하는 픽셀의 값이 겹치치 않는다.(겹치면 max의 의미가 없어.)\n",
    "- 풀링은 가중치가 없으며 풀링의 결과도 특성맵이라고 한다.\n"
   ]
  }
 ],
 "metadata": {
  "kernelspec": {
   "display_name": "Python 3.9.13",
   "language": "python",
   "name": "python3"
  },
  "language_info": {
   "codemirror_mode": {
    "name": "ipython",
    "version": 3
   },
   "file_extension": ".py",
   "mimetype": "text/x-python",
   "name": "python",
   "nbconvert_exporter": "python",
   "pygments_lexer": "ipython3",
   "version": "3.9.13"
  },
  "orig_nbformat": 4,
  "vscode": {
   "interpreter": {
    "hash": "00c8100a7997e958d8100731b108691612e131425235a19f9419f6b3b0ff44b3"
   }
  }
 },
 "nbformat": 4,
 "nbformat_minor": 2
}
