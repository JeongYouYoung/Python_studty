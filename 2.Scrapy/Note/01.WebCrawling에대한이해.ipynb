{
 "cells": [
  {
   "cell_type": "markdown",
   "metadata": {},
   "source": [
    "# Web Crawling 이란?\n",
    "- Web Scrapy이라고도 하며 Compuert software 기술로 각종 웹 사이트들에서 윈하는 정보를 추출하는 것을 의미  \n",
    "- 선행학습 : Python기초, HTML, CSS, JavaScript구조 및 Tag"
   ]
  },
  {
   "cell_type": "markdown",
   "metadata": {},
   "source": [
    "# Web Crawling기법  \n",
    "- HTML Page를 가져와서 HTML/CSS등을 parsing하고 필요한 데이터만 추출하는 기법.  \n",
    "- Open API(Rest API)를 제공하는 서비스에 Open API를 호출해서 받은 데이터중 필요한 데이터만 추출하는 기법  \n",
    "- Web Browser 를 Programming 으로 조작해서 필요한 데이터만 추출하는 기법  "
   ]
  },
  {
   "cell_type": "markdown",
   "metadata": {},
   "source": [
    "# Web Crawling의 합법 여부 판단\n",
    "- Site명 뒤에 /robots.txt를 실행하여 허용범위 확인.  \n",
    "- 없으면 다 가져올수 있다.\n",
    "- Naver : User-agent: *  \n",
    "- Naver : Disallow: /  \n",
    "- Naver : Allow : /$    \n",
    "- Job Korea vs 사람인. 싸워서 Job Korea가 이김.\n",
    "- 야놀자 vs 여기어때.\n"
   ]
  }
 ],
 "metadata": {
  "language_info": {
   "name": "python"
  },
  "orig_nbformat": 4
 },
 "nbformat": 4,
 "nbformat_minor": 2
}
