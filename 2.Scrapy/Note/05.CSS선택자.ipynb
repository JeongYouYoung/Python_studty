{
 "cells": [
  {
   "cell_type": "markdown",
   "metadata": {},
   "source": [
    "검색 키워드가 있을때는 또 얘기가달라짐\n",
    "검색 키워드가 한글일땐 더더 얘기가 달라짐."
   ]
  },
  {
   "cell_type": "code",
   "execution_count": 2,
   "metadata": {},
   "outputs": [
    {
     "name": "stdout",
     "output_type": "stream",
     "text": [
      "https%3A//ko.wikisource.org/wiki/%EC%A0%80%EC%9E%90%3A%EC%9C%A4%EB%8F%99%EC%A3%BC\n"
     ]
    }
   ],
   "source": [
    "from urllib import parse\n",
    "\n",
    "# 한글부분이 '%EC%A0%80%EC%9E%90%3A%EC%9C%A4%EB%8F%99%EC%A3%BC' 로 바뀜\n",
    "url = \"https://ko.wikisource.org/wiki/저자:윤동주\"\n",
    "url = parse.quote(url)\n",
    "\n",
    "print(url)"
   ]
  },
  {
   "cell_type": "markdown",
   "metadata": {},
   "source": [
    "## url 한글 검색하기"
   ]
  },
  {
   "cell_type": "code",
   "execution_count": 3,
   "metadata": {},
   "outputs": [
    {
     "name": "stdout",
     "output_type": "stream",
     "text": [
      "https://ko.wikisource.org/wiki/%EC%A0%80%EC%9E%90:%EC%9C%A4%EB%8F%99%EC%A3%BC\n"
     ]
    }
   ],
   "source": [
    "# url 한글 검색하기\n",
    "# 한글 검색 하려면 무조건 parsing 하는거 알아야함!\n",
    "from bs4 import BeautifulStoneSoup\n",
    "import urllib.request as req\n",
    "from urllib import parse\n",
    "\n",
    "auth = \"저자\"\n",
    "name = \"윤동주\"\n",
    "\n",
    "url = \"https://ko.wikisource.org/wiki/\"\n",
    "url = url + parse.quote(auth) + \":\" + parse.quote(name)\n",
    "print(url)"
   ]
  },
  {
   "cell_type": "code",
   "execution_count": 16,
   "metadata": {},
   "outputs": [],
   "source": [
    "\n",
    "# Library\n",
    "from bs4 import BeautifulSoup\n",
    "import urllib.request as req\n",
    "\n",
    "# Site 한글 검색 Address\n",
    "url = \"https://ko.wikisource.org/wiki/\"\n",
    "url = url + parse.quote(auth) + \":\" + parse.quote(name)\n",
    "\n",
    "# urlOpen\n",
    "res = req.urlopen(url)\n",
    "\n",
    "# BeautifulSoup(한테 일시켜) 으로 분석하기 html의 parsing 하는 방법으로 공부를 해라!\n",
    "soup = BeautifulSoup(res, \"html.parser\")\n",
    "#print(soup)\n"
   ]
  },
  {
   "cell_type": "markdown",
   "metadata": {},
   "source": [
    "## 하늘과 바람과 별과 시(증보판) 에서 (증보판)을 제외한 윤동주 시 제목 출력하기"
   ]
  },
  {
   "cell_type": "code",
   "execution_count": 55,
   "metadata": {},
   "outputs": [
    {
     "name": "stdout",
     "output_type": "stream",
     "text": [
      "<a href=\"/wiki/%ED%95%98%EB%8A%98%EA%B3%BC_%EB%B0%94%EB%9E%8C%EA%B3%BC_%EB%B3%84%EA%B3%BC_%EC%8B%9C\" title=\"하늘과 바람과 별과 시\">하늘과 바람과 별과 시</a>\n",
      "하늘과 바람과 별과 시\n",
      "====================\n",
      "- 하늘과 바람과 별과 시\n",
      "- 서시\n",
      "- 자화상\n",
      "- 소년\n",
      "- 눈 오는 지도\n",
      "- 돌아와 보는 밤\n",
      "- 병원\n",
      "- 새로운 길\n",
      "- 간판 없는 거리\n",
      "- 태초의 아침\n",
      "- 또 태초의 아침\n",
      "- 새벽이 올 때까지\n",
      "- 무서운 시간\n",
      "- 십자가\n",
      "- 바람이 불어\n",
      "- 슬픈 족속\n",
      "- 눈감고 간다\n",
      "- 또 다른 고향\n",
      "- 길\n",
      "- 별 헤는 밤\n",
      "- 흰 그림자\n",
      "- 사랑스런 추억\n",
      "- 흐르는 거리\n",
      "- 쉽게 씌어진 시\n",
      "- 봄\n",
      "- 참회록\n",
      "- 간(肝)\n",
      "- 위로\n",
      "- 팔복\n",
      "- 못자는밤\n",
      "- 달같이\n",
      "- 고추밭\n",
      "- 아우의 인상화\n",
      "- 사랑의 전당\n",
      "- 이적\n",
      "- 비오는 밤\n",
      "- 산골물\n",
      "- 유언\n",
      "- 창\n",
      "- 바다\n",
      "- 비로봉\n",
      "- 산협의 오후\n",
      "- 명상\n",
      "- 소낙비\n",
      "- 한난계\n",
      "- 풍경\n",
      "- 달밤\n",
      "- 장\n",
      "- 밤\n",
      "- 황혼이 바다가 되어\n",
      "- 아침\n",
      "- 빨래\n",
      "- 꿈은 깨어지고\n",
      "- 산림\n",
      "- 이런날\n",
      "- 산상\n",
      "- 양지쪽\n",
      "- 닭\n",
      "- 가슴 1\n",
      "- 가슴 2\n",
      "- 비둘기\n",
      "- 황혼\n",
      "- 남쪽 하늘\n",
      "- 창공\n",
      "- 거리에서\n",
      "- 삶과 죽음\n",
      "- 초한대\n",
      "- 산울림\n",
      "- 해바라기 얼굴\n",
      "- 귀뚜라미와 나와\n",
      "- 애기의 새벽\n",
      "- 햇빛·바람\n",
      "- 반디불\n",
      "- 둘 다\n",
      "- 거짓부리\n",
      "- 눈\n",
      "- 참새\n",
      "- 버선본\n",
      "- 편지\n",
      "- 봄\n",
      "- 무얼 먹구 사나\n",
      "- 굴뚝\n",
      "- 햇비\n",
      "- 빗자루\n",
      "- 기왓장 내외\n",
      "- 오줌싸개 지도\n",
      "- 병아리\n",
      "- 조개껍질\n",
      "- 겨울\n",
      "- 트루게네프의 언덕\n",
      "- 달을 쏘다\n",
      "- 별똥 떨어진 데\n",
      "- 화원에 꽃이 핀다\n",
      "- 종시\n"
     ]
    }
   ],
   "source": [
    "# 비교하기 =========================================================================\n",
    "#mw-content-text > div.mw-parser-output > ul:nth-child(6) > li > b > a\n",
    "#mw-content-text > div.mw-parser-output > ul:nth-child(6) > li > ul > li:nth-child(1) > a\n",
    "#mw-content-text > div.mw-parser-output > ul:nth-child(6) > li > ul > li:nth-child(2) > a\n",
    "# 하늘과 바람과 별과시 는 볼드처리가 되어있어서 b가 들어가있어.\n",
    "# 서시를 보면 a(후손) 가 둘이 같아\n",
    "\n",
    "# 불러오기 ==========================================================================\n",
    "# [] 값이 나오면 맨뒤에 값부터 불러오기!\n",
    "\n",
    "a_list = soup.select(\"#mw-content-text > div.mw-parser-output > ul> li a\")\n",
    "\n",
    "# list타입이니까 리스트 볼수 있어 끝 확인할때 사용!\n",
    "print(a_list[0])\n",
    "\n",
    "# 안에 있던 title 값을 가져올 수 있어\n",
    "# 딕셔너리 라서 Key값을 불러서 가져온거야.\n",
    "print(a_list[0]['title'])\n",
    "\n",
    "# 출력하기 ===========================================================================\n",
    "print(\"====================\")\n",
    "# 증보판 (필요 없는 데이터) 제거하고 출력하기\n",
    "for a in a_list:\n",
    "    name = a.string\n",
    "    # 증보판이면 밑으로 내려가지말고 위로 올라가라!\n",
    "    if name == \"증보판\":\n",
    "        continue\n",
    "    print(\"-\",name)\n"
   ]
  }
 ],
 "metadata": {
  "kernelspec": {
   "display_name": "Python 3.8.9 64-bit",
   "language": "python",
   "name": "python3"
  },
  "language_info": {
   "codemirror_mode": {
    "name": "ipython",
    "version": 3
   },
   "file_extension": ".py",
   "mimetype": "text/x-python",
   "name": "python",
   "nbconvert_exporter": "python",
   "pygments_lexer": "ipython3",
   "version": "3.8.9"
  },
  "orig_nbformat": 4,
  "vscode": {
   "interpreter": {
    "hash": "31f2aee4e71d21fbe5cf8b01ff0e069b9275f58929596ceb00d14d90e3e16cd6"
   }
  }
 },
 "nbformat": 4,
 "nbformat_minor": 2
}
