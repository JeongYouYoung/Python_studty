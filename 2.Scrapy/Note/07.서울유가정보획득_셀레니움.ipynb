{
 "cells": [
  {
   "cell_type": "markdown",
   "metadata": {},
   "source": [
    "# Selenum을 제일 많이 사용!\n",
    "\n",
    "- 퍼포먼스적으로는 가장 느림(강사님은 이거 잘 안쓰심)"
   ]
  },
  {
   "cell_type": "markdown",
   "metadata": {},
   "source": [
    "## 서울시 구별 주유소 유가 정보 획득\n",
    "\n",
    "- http://www.opinet.co.kr/searRgSelect.do"
   ]
  },
  {
   "cell_type": "code",
   "execution_count": 60,
   "metadata": {},
   "outputs": [],
   "source": [
    "# Selenium 설치\n",
    "#  !pip install selenium\n",
    "# 한번 설치하면 주석으로 닫아주기!"
   ]
  },
  {
   "cell_type": "code",
   "execution_count": 61,
   "metadata": {},
   "outputs": [],
   "source": [
    "# Web Driver 설치하기\n",
    "# !pip install webdriver-manager\n",
    "# 한번 설치하면 주석으로 닫아주기!"
   ]
  },
  {
   "cell_type": "code",
   "execution_count": 73,
   "metadata": {},
   "outputs": [],
   "source": [
    "from selenium import webdriver\n",
    "from selenium.webdriver.chrome.service import Service\n",
    "from webdriver_manager.chrome import ChromeDriverManager\n",
    "from selenium.webdriver.common.by import By"
   ]
  },
  {
   "cell_type": "code",
   "execution_count": 74,
   "metadata": {},
   "outputs": [
    {
     "name": "stdout",
     "output_type": "stream",
     "text": [
      "\n"
     ]
    },
    {
     "name": "stderr",
     "output_type": "stream",
     "text": [
      "[WDM] - ====== WebDriver manager ======\n",
      "[WDM] - Current google-chrome version is 103.0.5060\n",
      "[WDM] - Get LATEST chromedriver version for 103.0.5060 google-chrome\n",
      "[WDM] - Driver [/Users/uyoung/.wdm/drivers/chromedriver/mac64/103.0.5060.53/chromedriver] found in cache\n"
     ]
    }
   ],
   "source": [
    "# Chrome Brower와 Chrome Driver Version 확인하기\n",
    "\n",
    "chrome_option = webdriver.ChromeOptions()\n",
    "driver = webdriver.Chrome(service=Service(ChromeDriverManager().install()),options=chrome_option)\n",
    "driver.get(\"http://www.opinet.co.kr/searRgSelect.do\")\n",
    "# 코드 입력 끝나서 주유소 사이트 나오면 \n",
    "# http://www.opinet.co.kr/searRgSelect.do 입력해서 들어감\n",
    "# Chrome이 자동화된 테스트 소프트웨어에 의해 제어되고 있습니다. 라는 문구가 떠있으면 잘된거임!\n",
    "# xls파일 다운 받을수가 있다."
   ]
  },
  {
   "cell_type": "code",
   "execution_count": 66,
   "metadata": {},
   "outputs": [
    {
     "data": {
      "text/plain": [
       "True"
      ]
     },
     "execution_count": 66,
     "metadata": {},
     "output_type": "execute_result"
    }
   ],
   "source": [
    "# 현재 화면 Capture 하기\n",
    "driver.save_screenshot(\"../Data/001.png\")"
   ]
  },
  {
   "cell_type": "markdown",
   "metadata": {},
   "source": [
    "---\n",
    "## 서울시 유가 정보 획득을 위한 Test"
   ]
  },
  {
   "cell_type": "code",
   "execution_count": 76,
   "metadata": {},
   "outputs": [
    {
     "name": "stdout",
     "output_type": "stream",
     "text": [
      "<selenium.webdriver.remote.webelement.WebElement (session=\"c28d8f02f15f07ffa1c2310d5a944f40\", element=\"b9218cbe-8e6f-4486-8434-4cbeb04f8e7e\")>\n"
     ]
    },
    {
     "data": {
      "text/plain": [
       "['강남구',\n",
       " '강동구',\n",
       " '강북구',\n",
       " '강서구',\n",
       " '관악구',\n",
       " '광진구',\n",
       " '구로구',\n",
       " '금천구',\n",
       " '노원구',\n",
       " '도봉구',\n",
       " '동대문구',\n",
       " '동작구',\n",
       " '마포구',\n",
       " '서대문구',\n",
       " '서초구',\n",
       " '성동구',\n",
       " '성북구',\n",
       " '송파구',\n",
       " '양천구',\n",
       " '영등포구',\n",
       " '용산구',\n",
       " '은평구',\n",
       " '종로구',\n",
       " '중구',\n",
       " '중랑구']"
      ]
     },
     "execution_count": 76,
     "metadata": {},
     "output_type": "execute_result"
    }
   ],
   "source": [
    "# 자치구명 가져오기\n",
    "# 개발자 도구에서 > copy > xPath 로 가져오기!\n",
    "# //*[@id=\"SIGUNGU_NM0\"]\n",
    "\n",
    "\n",
    "gu_list_raw = driver.find_element(By.XPATH, '//*[@id=\"SIGUNGU_NM0\"]')\n",
    "print(gu_list_raw)\n",
    "gu_list = gu_list_raw.find_elements(By.TAG_NAME,'option')\n",
    "# print(gu_list)\n",
    "\n",
    "gu_names = [option.get_attribute('value') for option in gu_list]\n",
    "gu_names\n",
    "\n",
    "gu_names.remove('')\n",
    "gu_names"
   ]
  },
  {
   "cell_type": "code",
   "execution_count": 75,
   "metadata": {},
   "outputs": [
    {
     "name": "stdout",
     "output_type": "stream",
     "text": [
      "//*[@id=\"searRgSelect\"]/span\n"
     ]
    }
   ],
   "source": [
    "# 조회버튼 click -> click 하는 명령어\n",
    "# //*[@id=\"searRgSelect\"]/span\n",
    "# //*[@id=\"searRgSelect\"]/span\n",
    "\n",
    "xpath = '//*[@id=\"searRgSelect\"]/span'\n",
    "print(xpath)\n",
    "element_sel_gu = driver.find_element(By.XPATH, xpath).click()"
   ]
  },
  {
   "cell_type": "code",
   "execution_count": 69,
   "metadata": {},
   "outputs": [],
   "source": [
    "# 엑셀 저장 버튼 click\n",
    "# //*[@id=\"glopopd_excel\"]/span\n",
    "\n",
    "xpath = '//*[@id=\"glopopd_excel\"]/span'\n",
    "element_sel_excel = driver.find_element(By.XPATH, xpath).click()"
   ]
  },
  {
   "cell_type": "markdown",
   "metadata": {},
   "source": [
    "---\n",
    "# 데이터 수집"
   ]
  },
  {
   "cell_type": "code",
   "execution_count": 70,
   "metadata": {},
   "outputs": [],
   "source": [
    "# 화면에 그림을 그리는 시간이 필요하므로 이를 delay시키자!\n",
    "\n",
    "import time\n",
    "for gu in gu_names:\n",
    "    # 구를 선택하는 부분.\n",
    "    element = driver.find_element(By.XPATH, '//*[@id=\"SIGUNGU_NM0\"]') \n",
    "    # 해당 위치를 선택해라\n",
    "    element.send_keys(gu)\n",
    "    #조금 쉬자\n",
    "    time.sleep(2)\n",
    "\n",
    "    # 구를 선택후 조회!\n",
    "    xpath = '//*[@id=\"searRgSelect\"]/span'\n",
    "    element_sel_gu = driver.find_element(By.XPATH, xpath).click() \n",
    "\n",
    "    # 화면 나오는동안 조금 쉬자\n",
    "    time.sleep(1)\n",
    "    # # 엑셀 다운로드\n",
    "    # xpath = '//*[@id=\"glopopd_excel\"]/span'\n",
    "    # element_sel_excel = driver.find_element(By.XPATH, xpath).click()\n",
    "\n",
    "    time.sleep(1)"
   ]
  }
 ],
 "metadata": {
  "kernelspec": {
   "display_name": "Python 3.9.7 ('base')",
   "language": "python",
   "name": "python3"
  },
  "language_info": {
   "codemirror_mode": {
    "name": "ipython",
    "version": 3
   },
   "file_extension": ".py",
   "mimetype": "text/x-python",
   "name": "python",
   "nbconvert_exporter": "python",
   "pygments_lexer": "ipython3",
   "version": "3.9.7"
  },
  "orig_nbformat": 4,
  "vscode": {
   "interpreter": {
    "hash": "40d3a090f54c6569ab1632332b64b2c03c39dcf918b08424e98f38b5ae0af88f"
   }
  }
 },
 "nbformat": 4,
 "nbformat_minor": 2
}
