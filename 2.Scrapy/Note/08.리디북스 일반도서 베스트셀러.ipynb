{
 "cells": [
  {
   "cell_type": "markdown",
   "metadata": {},
   "source": [
    "# 리디북스 일반도서 베스트 셀러\n",
    "## 작업순서 잘알기!\n",
    " - https://ridibooks.com/bestsellers/general?order=monthly&page=1  \n",
    " - https://ridibooks.com/robots.txt   <-  확인해보니 제목가져오는건 아무 상관이 없구나!  \n",
    " - 페이지 처리는 get방식이구나~ for문돌려서 페이지넘기면 되겠구나!\n",
    " - 책위에 별표시 붙어있는책이름 원씽 밑에도 있어. 중복데이터를 가져오면 다꼬이기 때문에 저거 처리를 해야겠구나!  \n",
    " - selector로 안되면 바로 tag로 넘어가야함"
   ]
  },
  {
   "cell_type": "code",
   "execution_count": 1,
   "metadata": {},
   "outputs": [
    {
     "data": {
      "text/plain": [
       "[<span class=\"title_text js_highlight_helper hidden\">          \n",
       "                         원씽\n",
       "             </span>]"
      ]
     },
     "execution_count": 1,
     "metadata": {},
     "output_type": "execute_result"
    }
   ],
   "source": [
    "# improt를 쓸때 어디에 뭐쓰는지 알아야 나중에 빅데이터 다룰때 퍼포먼스 영향이 커진다.\n",
    "# 너무 다 불러오면 느려져\n",
    "from bs4 import BeautifulSoup\n",
    "import urllib.request as req\n",
    "\n",
    "url = \"https://ridibooks.com/bestsellers/general?order=monthly&page=1\"\n",
    "res = req.urlopen(url)\n",
    "soup = BeautifulSoup(res, \"html.parser\")\n",
    "\n",
    "#내가 가져온게 자바스크립트인지 아닌지를 확인하는 단계!(자바 스크립트 실행전단계에서 확인)========================\n",
    "#내가 가져온게 있으면 자바스크립트 쓴게 아님(찾는게 없으면 자바스크립트)\n",
    "# print(soup)\n",
    "\n",
    "soup.select(\"#page_best > div.book_macro_wrapper.js_book_macro_wrapper > div.book_macro_110.book_macro_portrait.book_macro_column_6.recommended_book > div.book_metadata_wrapper > h3 > a > span\")"
   ]
  },
  {
   "cell_type": "markdown",
   "metadata": {},
   "source": [
    "> copy seletor로 가져오니 class 이름이 보임"
   ]
  },
  {
   "cell_type": "markdown",
   "metadata": {},
   "source": [
    "# selector를 간단하게 사용하기!"
   ]
  },
  {
   "cell_type": "code",
   "execution_count": 27,
   "metadata": {},
   "outputs": [],
   "source": [
    "# improt를 쓸때 어디에 뭐쓰는지 알아야 나중에 빅데이터 다룰때 퍼포먼스 영향이 커진다.\n",
    "# 너무 다 불러오면 느려져\n",
    "from bs4 import BeautifulSoup\n",
    "import urllib.request as req\n",
    "\n",
    "url = \"https://ridibooks.com/bestsellers/general?order=monthly&page=1\"\n",
    "res = req.urlopen(url)\n",
    "soup = BeautifulSoup(res, \"html.parser\")\n",
    "\n",
    "#내가 가져온게 자바스크립트인지 아닌지를 확인하는 단계!(자바 스크립트 실행전단계에서 확인)========================\n",
    "#내가 가져온게 있으면 자바스크립트 쓴게 아님(찾는게 없으면 자바스크립트)\n",
    "# print(soup)\n",
    "\n",
    "scraping_lists = soup.select(\".title_text\")\n",
    "#print(scraping_lists)"
   ]
  },
  {
   "cell_type": "markdown",
   "metadata": {},
   "source": [
    "### 책권수 확인하기"
   ]
  },
  {
   "cell_type": "code",
   "execution_count": 28,
   "metadata": {},
   "outputs": [
    {
     "data": {
      "text/plain": [
       "31"
      ]
     },
     "execution_count": 28,
     "metadata": {},
     "output_type": "execute_result"
    }
   ],
   "source": [
    "len(scraping_lists)"
   ]
  },
  {
   "cell_type": "markdown",
   "metadata": {},
   "source": [
    "> 별표 붙은 책때문에 31권을 가져왔음"
   ]
  },
  {
   "cell_type": "markdown",
   "metadata": {},
   "source": [
    "### 첫번째  책을 제거후 List를 재구성하기"
   ]
  },
  {
   "cell_type": "code",
   "execution_count": 29,
   "metadata": {},
   "outputs": [
    {
     "name": "stdout",
     "output_type": "stream",
     "text": [
      "<span class=\"title_text js_highlight_helper hidden\">          \n",
      "                        역행자\n",
      "            </span>\n"
     ]
    }
   ],
   "source": [
    "scraping_lists = scraping_lists[1:]\n",
    "len(scraping_lists)\n",
    "print(scraping_lists[0])"
   ]
  },
  {
   "cell_type": "code",
   "execution_count": 5,
   "metadata": {},
   "outputs": [
    {
     "name": "stdout",
     "output_type": "stream",
     "text": [
      "['역행자', '작별인사', '인플레이션에서 살아남기', '변화하는 세계 질서', '피스타운', '악마의 계약서는 만기 되지 않는다', '내가 틀릴 수도 있습니다', '불편한 편의점', '개정판 | 하얀 늑대들', '최재천의 공부', '잠시 동안 빛은 이곳에', '친밀한 이방인', '사이후이, 싸이파이', '심해어', '물고기는 존재하지 않는다', '도파민네이션', '멘탈을 바꿔야 인생이 바뀐다', '구글 엔지니어는 이렇게 일한다', '플라스틱 세대', '덫', '나의 투자는 새벽 4시에 시작된다', '레스토랑 안의 낯선 자들', '원씽', '버드나무', '브라질에 비가 내리면 스타벅스 주식을 사라', '모든 것은 기본에서 시작한다', '부자 아빠 가난한 아빠 20주년 특별 기념판', '밝은 밤', '나를 단단하게 만드는 심리학', '특별한 아이, 특별한 엄마']\n"
     ]
    }
   ],
   "source": [
    "book_lists = []\n",
    "for book_list in scraping_lists:\n",
    "    book_lists.append(book_list.string.strip())\n",
    "    \n",
    "print(book_lists)"
   ]
  },
  {
   "cell_type": "markdown",
   "metadata": {},
   "source": [
    "# DataFrame 만들기"
   ]
  },
  {
   "cell_type": "code",
   "execution_count": 6,
   "metadata": {},
   "outputs": [],
   "source": [
    "# Rank List 만들기\n",
    "rank = list(range(1,31))"
   ]
  },
  {
   "cell_type": "markdown",
   "metadata": {},
   "source": [
    "## 처음부터 여러데이터 넣어서 만들기"
   ]
  },
  {
   "cell_type": "code",
   "execution_count": 31,
   "metadata": {},
   "outputs": [],
   "source": [
    "data = []\n",
    "\n",
    "for i,j in zip(rank, book_lists):\n",
    "    data.append([i, j])"
   ]
  },
  {
   "cell_type": "code",
   "execution_count": 8,
   "metadata": {},
   "outputs": [
    {
     "data": {
      "text/plain": [
       "[[1, '역행자'], [2, '작별인사'], [3, '인플레이션에서 살아남기'], [4, '변화하는 세계 질서'], [5, '피스타운']]"
      ]
     },
     "execution_count": 8,
     "metadata": {},
     "output_type": "execute_result"
    }
   ],
   "source": [
    "# 데이터가 2차원 배열로 만들어져있음. (컬럼이 두개라)\n",
    "data[:5]"
   ]
  },
  {
   "cell_type": "code",
   "execution_count": 9,
   "metadata": {},
   "outputs": [
    {
     "data": {
      "text/html": [
       "<div>\n",
       "<style scoped>\n",
       "    .dataframe tbody tr th:only-of-type {\n",
       "        vertical-align: middle;\n",
       "    }\n",
       "\n",
       "    .dataframe tbody tr th {\n",
       "        vertical-align: top;\n",
       "    }\n",
       "\n",
       "    .dataframe thead tr th {\n",
       "        text-align: left;\n",
       "    }\n",
       "</style>\n",
       "<table border=\"1\" class=\"dataframe\">\n",
       "  <thead>\n",
       "    <tr>\n",
       "      <th></th>\n",
       "      <th>Rank</th>\n",
       "      <th>bookTitle</th>\n",
       "    </tr>\n",
       "  </thead>\n",
       "  <tbody>\n",
       "    <tr>\n",
       "      <th>0</th>\n",
       "      <td>1</td>\n",
       "      <td>역행자</td>\n",
       "    </tr>\n",
       "    <tr>\n",
       "      <th>1</th>\n",
       "      <td>2</td>\n",
       "      <td>작별인사</td>\n",
       "    </tr>\n",
       "    <tr>\n",
       "      <th>2</th>\n",
       "      <td>3</td>\n",
       "      <td>인플레이션에서 살아남기</td>\n",
       "    </tr>\n",
       "    <tr>\n",
       "      <th>3</th>\n",
       "      <td>4</td>\n",
       "      <td>변화하는 세계 질서</td>\n",
       "    </tr>\n",
       "    <tr>\n",
       "      <th>4</th>\n",
       "      <td>5</td>\n",
       "      <td>피스타운</td>\n",
       "    </tr>\n",
       "  </tbody>\n",
       "</table>\n",
       "</div>"
      ],
      "text/plain": [
       "  Rank     bookTitle\n",
       "0    1           역행자\n",
       "1    2          작별인사\n",
       "2    3  인플레이션에서 살아남기\n",
       "3    4    변화하는 세계 질서\n",
       "4    5          피스타운"
      ]
     },
     "execution_count": 9,
     "metadata": {},
     "output_type": "execute_result"
    }
   ],
   "source": [
    "# 데이터 프레임 만들때 필요\n",
    "import pandas as pd\n",
    "page1 = pd.DataFrame(data=data, columns=[['Rank', 'bookTitle']])\n",
    "# 데이터 프레임이니까 헤드 쓸수 있다.\n",
    "page1.head()"
   ]
  },
  {
   "cell_type": "code",
   "execution_count": 10,
   "metadata": {},
   "outputs": [],
   "source": [
    "# csv 로 저장\n",
    "page1.to_csv(\"../Data/ridi_page1.csv\", index=False)\n",
    "ridibooks = pd.read_csv(\"../Data/ridi_page1.csv\").head()"
   ]
  },
  {
   "cell_type": "markdown",
   "metadata": {},
   "source": [
    "---\n",
    "# 작품 소개 가져오기\n",
    "\n",
    "## 1page의 도서명과 hyperlink를 통한 작품 소개 내용 가져오기"
   ]
  },
  {
   "cell_type": "markdown",
   "metadata": {},
   "source": [
    "### Hyper link 정보 가져오기"
   ]
  },
  {
   "cell_type": "code",
   "execution_count": 34,
   "metadata": {},
   "outputs": [
    {
     "name": "stdout",
     "output_type": "stream",
     "text": [
      "[<a class=\"title_link\" data-track-params=\"\" data-track-type=\"\" href=\"/books/4271000014?_rdt_sid=bestseller&amp;_rdt_idx=1\">\n",
      "<span class=\"title_text js_highlight_helper hidden\">          \n",
      "                        작별인사\n",
      "            </span>\n",
      "</a>, <a class=\"title_link\" data-track-params=\"\" data-track-type=\"\" href=\"/books/4139000033?_rdt_sid=bestseller&amp;_rdt_idx=2\">\n",
      "<span class=\"title_text js_highlight_helper hidden\">          \n",
      "                        인플레이션에서 살아남기\n",
      "            </span>\n",
      "</a>, <a class=\"title_link\" data-track-params=\"\" data-track-type=\"\" href=\"/books/1890000285?_rdt_sid=bestseller&amp;_rdt_idx=3\">\n",
      "<span class=\"title_text js_highlight_helper hidden\">          \n",
      "                        변화하는 세계 질서\n",
      "            </span>\n",
      "</a>, <a class=\"title_link\" data-track-params=\"\" data-track-type=\"\" href=\"/books/4575000003?_rdt_sid=bestseller&amp;_rdt_idx=4\">\n",
      "<span class=\"title_text js_highlight_helper hidden\">          \n",
      "                        피스타운\n",
      "            </span>\n",
      "</a>]\n"
     ]
    }
   ],
   "source": [
    "# improt를 쓸때 어디에 뭐쓰는지 알아야 나중에 빅데이터 다룰때 퍼포먼스 영향이 커진다.\n",
    "# 너무 다 불러오면 느려져\n",
    "from bs4 import BeautifulSoup\n",
    "import urllib.request as req\n",
    "\n",
    "url = \"https://ridibooks.com/bestsellers/general?order=monthly&page=1\"\n",
    "res = req.urlopen(url)\n",
    "soup = BeautifulSoup(res, \"html.parser\")\n",
    "\n",
    "##page_best > div.book_macro_wrapper.js_book_macro_wrapper > div:nth-child(3) > div.book_metadata_wrapper > h3 > a\n",
    "hf_list = soup.select(\".title_link\")\n",
    "hf_list = hf_list[1:]\n",
    "print(hf_list[1:5])"
   ]
  },
  {
   "cell_type": "code",
   "execution_count": 12,
   "metadata": {},
   "outputs": [
    {
     "name": "stdout",
     "output_type": "stream",
     "text": [
      "/books/606002388?_rdt_sid=bestseller&_rdt_idx=0\n",
      "/books/4271000014?_rdt_sid=bestseller&_rdt_idx=1\n",
      "/books/4139000033?_rdt_sid=bestseller&_rdt_idx=2\n",
      "/books/1890000285?_rdt_sid=bestseller&_rdt_idx=3\n",
      "/books/4575000003?_rdt_sid=bestseller&_rdt_idx=4\n",
      "/books/1648000475?_rdt_sid=bestseller&_rdt_idx=5\n",
      "/books/4803001974?_rdt_sid=bestseller&_rdt_idx=6\n",
      "/books/2177000101?_rdt_sid=bestseller&_rdt_idx=7\n",
      "/books/1176000018?_rdt_sid=bestseller&_rdt_idx=8\n",
      "/books/1546000953?_rdt_sid=bestseller&_rdt_idx=9\n",
      "/books/4578000004?_rdt_sid=bestseller&_rdt_idx=10\n",
      "/books/371001540?_rdt_sid=bestseller&_rdt_idx=11\n",
      "/books/4926000001?_rdt_sid=bestseller&_rdt_idx=12\n",
      "/books/4912000001?_rdt_sid=bestseller&_rdt_idx=13\n",
      "/books/1508006000?_rdt_sid=bestseller&_rdt_idx=14\n",
      "/books/745000210?_rdt_sid=bestseller&_rdt_idx=15\n",
      "/books/4239000039?_rdt_sid=bestseller&_rdt_idx=16\n",
      "/books/443001038?_rdt_sid=bestseller&_rdt_idx=17\n",
      "/books/4647000003?_rdt_sid=bestseller&_rdt_idx=18\n",
      "/books/4909000001?_rdt_sid=bestseller&_rdt_idx=19\n",
      "/books/606002383?_rdt_sid=bestseller&_rdt_idx=20\n",
      "/books/4927000001?_rdt_sid=bestseller&_rdt_idx=21\n",
      "/books/1468000044?_rdt_sid=bestseller&_rdt_idx=22\n",
      "/books/4910000001?_rdt_sid=bestseller&_rdt_idx=23\n",
      "/books/2596000037?_rdt_sid=bestseller&_rdt_idx=24\n",
      "/books/2337000035?_rdt_sid=bestseller&_rdt_idx=25\n",
      "/books/682000717?_rdt_sid=bestseller&_rdt_idx=26\n",
      "/books/371002440?_rdt_sid=bestseller&_rdt_idx=27\n",
      "/books/4698000005?_rdt_sid=bestseller&_rdt_idx=28\n",
      "/books/2353000127?_rdt_sid=bestseller&_rdt_idx=29\n"
     ]
    }
   ],
   "source": [
    "hyper_lists = []\n",
    "for span in hf_list:\n",
    "    hyper_lists = span.attrs['href']\n",
    "    #hyper_lists.append(hyper_list.string.strip())\n",
    "    print(hyper_lists)\n",
    "    "
   ]
  },
  {
   "cell_type": "markdown",
   "metadata": {},
   "source": [
    "#### 선생님 풀이"
   ]
  },
  {
   "cell_type": "code",
   "execution_count": 35,
   "metadata": {},
   "outputs": [
    {
     "name": "stdout",
     "output_type": "stream",
     "text": [
      "[<a class=\"title_link\" data-track-params=\"\" data-track-type=\"\" href=\"/books/1468000044?_rdt_sid=bestseller_star&amp;_rdt_idx=0\">\n",
      "<span class=\"title_text js_highlight_helper hidden\">          \n",
      "                        원씽\n",
      "            </span>\n",
      "</a>, <a class=\"title_link\" data-track-params=\"\" data-track-type=\"\" href=\"/books/606002388?_rdt_sid=bestseller&amp;_rdt_idx=0\">\n",
      "<span class=\"title_text js_highlight_helper hidden\">          \n",
      "                        역행자\n",
      "            </span>\n",
      "</a>, <a class=\"title_link\" data-track-params=\"\" data-track-type=\"\" href=\"/books/4271000014?_rdt_sid=bestseller&amp;_rdt_idx=1\">\n",
      "<span class=\"title_text js_highlight_helper hidden\">          \n",
      "                        작별인사\n",
      "            </span>\n",
      "</a>, <a class=\"title_link\" data-track-params=\"\" data-track-type=\"\" href=\"/books/4139000033?_rdt_sid=bestseller&amp;_rdt_idx=2\">\n",
      "<span class=\"title_text js_highlight_helper hidden\">          \n",
      "                        인플레이션에서 살아남기\n",
      "            </span>\n",
      "</a>, <a class=\"title_link\" data-track-params=\"\" data-track-type=\"\" href=\"/books/1890000285?_rdt_sid=bestseller&amp;_rdt_idx=3\">\n",
      "<span class=\"title_text js_highlight_helper hidden\">          \n",
      "                        변화하는 세계 질서\n",
      "            </span>\n",
      "</a>]\n"
     ]
    }
   ],
   "source": [
    "hyperlink_lists = soup.select(\".title_link\") \n",
    "print(hyperlink_lists[:5])"
   ]
  },
  {
   "cell_type": "code",
   "execution_count": 14,
   "metadata": {},
   "outputs": [],
   "source": [
    "# star book 제거\n",
    "hyperlink_lists = hyperlink_lists[1:]"
   ]
  },
  {
   "cell_type": "code",
   "execution_count": 15,
   "metadata": {},
   "outputs": [],
   "source": [
    "hyperlink = []\n",
    "ridiURL = \"https://ridibooks.com\"\n",
    "for hyperlink_list in hyperlink_lists:\n",
    "    hyperlink.append(ridiURL + hyperlink_list['href'])"
   ]
  },
  {
   "cell_type": "code",
   "execution_count": 16,
   "metadata": {},
   "outputs": [
    {
     "data": {
      "text/plain": [
       "['https://ridibooks.com/books/606002388?_rdt_sid=bestseller&_rdt_idx=0',\n",
       " 'https://ridibooks.com/books/4271000014?_rdt_sid=bestseller&_rdt_idx=1',\n",
       " 'https://ridibooks.com/books/4139000033?_rdt_sid=bestseller&_rdt_idx=2',\n",
       " 'https://ridibooks.com/books/1890000285?_rdt_sid=bestseller&_rdt_idx=3',\n",
       " 'https://ridibooks.com/books/4575000003?_rdt_sid=bestseller&_rdt_idx=4',\n",
       " 'https://ridibooks.com/books/1648000475?_rdt_sid=bestseller&_rdt_idx=5',\n",
       " 'https://ridibooks.com/books/4803001974?_rdt_sid=bestseller&_rdt_idx=6',\n",
       " 'https://ridibooks.com/books/2177000101?_rdt_sid=bestseller&_rdt_idx=7',\n",
       " 'https://ridibooks.com/books/1176000018?_rdt_sid=bestseller&_rdt_idx=8',\n",
       " 'https://ridibooks.com/books/1546000953?_rdt_sid=bestseller&_rdt_idx=9',\n",
       " 'https://ridibooks.com/books/4578000004?_rdt_sid=bestseller&_rdt_idx=10',\n",
       " 'https://ridibooks.com/books/371001540?_rdt_sid=bestseller&_rdt_idx=11',\n",
       " 'https://ridibooks.com/books/4926000001?_rdt_sid=bestseller&_rdt_idx=12',\n",
       " 'https://ridibooks.com/books/4912000001?_rdt_sid=bestseller&_rdt_idx=13',\n",
       " 'https://ridibooks.com/books/1508006000?_rdt_sid=bestseller&_rdt_idx=14',\n",
       " 'https://ridibooks.com/books/745000210?_rdt_sid=bestseller&_rdt_idx=15',\n",
       " 'https://ridibooks.com/books/4239000039?_rdt_sid=bestseller&_rdt_idx=16',\n",
       " 'https://ridibooks.com/books/443001038?_rdt_sid=bestseller&_rdt_idx=17',\n",
       " 'https://ridibooks.com/books/4647000003?_rdt_sid=bestseller&_rdt_idx=18',\n",
       " 'https://ridibooks.com/books/4909000001?_rdt_sid=bestseller&_rdt_idx=19',\n",
       " 'https://ridibooks.com/books/606002383?_rdt_sid=bestseller&_rdt_idx=20',\n",
       " 'https://ridibooks.com/books/4927000001?_rdt_sid=bestseller&_rdt_idx=21',\n",
       " 'https://ridibooks.com/books/1468000044?_rdt_sid=bestseller&_rdt_idx=22',\n",
       " 'https://ridibooks.com/books/4910000001?_rdt_sid=bestseller&_rdt_idx=23',\n",
       " 'https://ridibooks.com/books/2596000037?_rdt_sid=bestseller&_rdt_idx=24',\n",
       " 'https://ridibooks.com/books/2337000035?_rdt_sid=bestseller&_rdt_idx=25',\n",
       " 'https://ridibooks.com/books/682000717?_rdt_sid=bestseller&_rdt_idx=26',\n",
       " 'https://ridibooks.com/books/371002440?_rdt_sid=bestseller&_rdt_idx=27',\n",
       " 'https://ridibooks.com/books/4698000005?_rdt_sid=bestseller&_rdt_idx=28',\n",
       " 'https://ridibooks.com/books/2353000127?_rdt_sid=bestseller&_rdt_idx=29']"
      ]
     },
     "execution_count": 16,
     "metadata": {},
     "output_type": "execute_result"
    }
   ],
   "source": [
    "hyperlink"
   ]
  },
  {
   "cell_type": "code",
   "execution_count": 36,
   "metadata": {},
   "outputs": [],
   "source": [
    "# 1번 책으로 hyper link test\n",
    "\n",
    "url = hyperlink[0]\n",
    "res = req.urlopen(url)\n",
    "soup = BeautifulSoup(res, \"html.parser\")\n",
    "\n",
    "book_contents = soup.select_one(\".folded\")"
   ]
  },
  {
   "cell_type": "markdown",
   "metadata": {},
   "source": [
    "### 작품소개 불러오기"
   ]
  },
  {
   "cell_type": "code",
   "execution_count": 18,
   "metadata": {},
   "outputs": [],
   "source": [
    "# #introduce_book > p\n",
    "# 클래스는 띄어쓰기로 구분되어 있네!?\n",
    "# \n",
    "# p class 는 하나짜리이고 p안에 br 이 들어가있네 이런거를 처리하는게 .text 로 해결해야함. \n",
    "# 하지만 string이 퍼포먼스가 빠름\n",
    "\n",
    "book_link = soup.select_one(\".folded\")"
   ]
  },
  {
   "cell_type": "code",
   "execution_count": 19,
   "metadata": {},
   "outputs": [
    {
     "data": {
      "text/plain": [
       "'<역행자> 오타쿠 흙수저에서 월 1억 자동수익을 실현한 무자본 연쇄창업마,\\r\\n라이프해커 자청의 인생 역주행 공식 대공개!\\r\\n“절대 읽지 마라!\\r\\n죽을 때까지 순리자로 살고 싶다면!”\\n\\r\\n운명과 본능의 지배에서 벗어나\\r\\n경제적 자유와 행복한 인생을 쟁취하는 라이프해킹의 비밀\\n\\r\\n95퍼센트의 인간은 타고난 유전자와 본성의 꼭두각시로 살아간다. 그래서 평생 평범함을 벗어나지 못하고 불행하게 산다. 본성에 따라 결정된 인생을 사는 자, 이들은 ‘순리자’다. 그러나 5퍼센트의 인간은 다르다. 그들은 타고난 유전자와 본성을 역행해 경제적 자유와 행복을 쟁취한다. 이들이 바로 ‘역행자’다.\\r\\n어느 날 혜성처럼 나타나 자수성가의 아이콘이 된 청년, 자기계발 유튜버 자청이 깨달은 인생의 치트기를 탈탈 털어 넣은 그의 첫 책 《역행자》가 5월 30일, 드디어 출간된다. 수많은 ‘자청 챌린저’들이 기다려온 책이자, 독자들의 인생을 송두리째 바꿔줄 문제작이다. ‘연봉 10억 무자본 창업가’로 유명해진 그는 2020년, 단 20개의 영상으로 10만 구독자를 넘어서며 화제를 모았으나 곧장 미련 없이 유튜브를 그만뒀다. 이후 본업인 온라인 마케팅 비즈니스를 비롯해 다방면으로 사업을 확장하고 있다.\\r\\n이 책에는 가난한 인생에서 벗어나 경제적 자유와 행복을 얻은 저자 자청이 깨달은 인생 레벨업 치트키가 빼곡히 담겨 있다. 10대 때의 그는 외모, 돈, 공부, 그 어떤 것에서도 최하위였다. 그러던 스무 살 무렵, ‘인생에도 게임처럼 공략집이 있다’는 사실을 깨닫고 삶이 180도 바뀌기 시작했다. 200여 권의 책을 독파하며 얻은 인생의 치트키들을 활용해 창업에 성공했다.\\n\\r\\n‘부자는 다른 세상 사람들이야. 우리 집 꼴을 봐’, ‘인서울 대학에 가는 건 천재들이나 하는 거야’, ‘내가 월 300 이상 버는 날은 영원히 없겠지’… 인생의 밑바닥에서 힘든 친구들은 비슷한 심정일 거라 생각한다. 하지만 지금 내 정체성은 완전히 다르다. 나는 평생에 걸쳐 정체성을 인위적으로 바꿔왔기 때문이다.\\r\\n20대에 책을 읽게 된 게 그 시작이었고, 그 뒤로도 끊임없이 내 머릿속 소프트웨어를 새로 깔고 있다. 이렇게 정체성을 먼저 바꾸면 변화가 쉽게 만들어진다. 반면 정체성을 바꿀 수 있는 기회를 놓치면 계속 순리자로 살게 된다. 나는 책이라는 형태로 다가온 행운을 꼭 잡고 놓지 않았다. 그 책들은 패배주의에 사로잡힌 내 머릿속에 새로운 소프트웨어를 깔아주는 설치 가이드였다. 그때 내 발밑에 깔린 철로를 보게 되었고, 절망으로 가는 전철에서 내릴 수 있었다. 그리고 나만의 내비게이션을 달고 인생의 지름길을, 부의 추월차선을 찾아 나섰다. 모두가 머릿속에 새 소프트웨어를 깐 덕분이었다! _ 본문 중에서\\n\\r\\n그가 하는 대부분의 비즈니스 모델은 ‘초보가 되어, 왕초보를 가르치는 것’이다. 어느 분야든 저렴한 가격에 도움을 받고 싶은 왕초보의 수요는 분명히 존재한다. 이때 도와주는 사람은 초보여도 상관없다는 점에 착안해 여러 컨설팅 비즈니스를 설계했다. 그는 무료 홈페이지 제작 플랫폼을 통해 하루 만에 홈페이지를 제작하고, 네이버 블로그 등 SNS 채널을 통해 무료로 마케팅을 했다. 투자비용 자체가 들어가지 않는 ‘무자본 창업’ 형태였다. ‘라이프해커 자청’이라는 캐릭터와 ‘무자본 창업’이라는 개념은 사람들의 고정관념을 깨는 시그널이 됐다.\\r\\n자청이 찾아낸 ‘역행자의 7단계 모델’을 통해, 부와 행복을 갈망하는 독자들은 저자가 겪은 10년 동안의 시행착오를 단 3년으로 줄일 수 있다. 못 믿겠는가? 불안과 의심을 버리고, 저자와 함께 ‘인생의 추월차선’을 타러 가보자.'"
      ]
     },
     "execution_count": 19,
     "metadata": {},
     "output_type": "execute_result"
    }
   ],
   "source": [
    "# text는 하나로 가져온것만 바꿀수 있다.\n",
    "book_link.text"
   ]
  },
  {
   "cell_type": "code",
   "execution_count": 37,
   "metadata": {},
   "outputs": [],
   "source": [
    "# Test후 적용\n",
    "bookContents = []\n",
    "\n",
    "for url in hyperlink:\n",
    "    res = req.urlopen(url)\n",
    "    soup = BeautifulSoup(res, \"html.parser\")\n",
    "    book_contents = soup.select_one(\".folded\")\n",
    "    bookContents.append(book_contents.text)"
   ]
  },
  {
   "cell_type": "code",
   "execution_count": 38,
   "metadata": {},
   "outputs": [
    {
     "data": {
      "text/plain": [
       "['<역행자> 오타쿠 흙수저에서 월 1억 자동수익을 실현한 무자본 연쇄창업마,\\r\\n라이프해커 자청의 인생 역주행 공식 대공개!\\r\\n“절대 읽지 마라!\\r\\n죽을 때까지 순리자로 살고 싶다면!”\\n\\r\\n운명과 본능의 지배에서 벗어나\\r\\n경제적 자유와 행복한 인생을 쟁취하는 라이프해킹의 비밀\\n\\r\\n95퍼센트의 인간은 타고난 유전자와 본성의 꼭두각시로 살아간다. 그래서 평생 평범함을 벗어나지 못하고 불행하게 산다. 본성에 따라 결정된 인생을 사는 자, 이들은 ‘순리자’다. 그러나 5퍼센트의 인간은 다르다. 그들은 타고난 유전자와 본성을 역행해 경제적 자유와 행복을 쟁취한다. 이들이 바로 ‘역행자’다.\\r\\n어느 날 혜성처럼 나타나 자수성가의 아이콘이 된 청년, 자기계발 유튜버 자청이 깨달은 인생의 치트기를 탈탈 털어 넣은 그의 첫 책 《역행자》가 5월 30일, 드디어 출간된다. 수많은 ‘자청 챌린저’들이 기다려온 책이자, 독자들의 인생을 송두리째 바꿔줄 문제작이다. ‘연봉 10억 무자본 창업가’로 유명해진 그는 2020년, 단 20개의 영상으로 10만 구독자를 넘어서며 화제를 모았으나 곧장 미련 없이 유튜브를 그만뒀다. 이후 본업인 온라인 마케팅 비즈니스를 비롯해 다방면으로 사업을 확장하고 있다.\\r\\n이 책에는 가난한 인생에서 벗어나 경제적 자유와 행복을 얻은 저자 자청이 깨달은 인생 레벨업 치트키가 빼곡히 담겨 있다. 10대 때의 그는 외모, 돈, 공부, 그 어떤 것에서도 최하위였다. 그러던 스무 살 무렵, ‘인생에도 게임처럼 공략집이 있다’는 사실을 깨닫고 삶이 180도 바뀌기 시작했다. 200여 권의 책을 독파하며 얻은 인생의 치트키들을 활용해 창업에 성공했다.\\n\\r\\n‘부자는 다른 세상 사람들이야. 우리 집 꼴을 봐’, ‘인서울 대학에 가는 건 천재들이나 하는 거야’, ‘내가 월 300 이상 버는 날은 영원히 없겠지’… 인생의 밑바닥에서 힘든 친구들은 비슷한 심정일 거라 생각한다. 하지만 지금 내 정체성은 완전히 다르다. 나는 평생에 걸쳐 정체성을 인위적으로 바꿔왔기 때문이다.\\r\\n20대에 책을 읽게 된 게 그 시작이었고, 그 뒤로도 끊임없이 내 머릿속 소프트웨어를 새로 깔고 있다. 이렇게 정체성을 먼저 바꾸면 변화가 쉽게 만들어진다. 반면 정체성을 바꿀 수 있는 기회를 놓치면 계속 순리자로 살게 된다. 나는 책이라는 형태로 다가온 행운을 꼭 잡고 놓지 않았다. 그 책들은 패배주의에 사로잡힌 내 머릿속에 새로운 소프트웨어를 깔아주는 설치 가이드였다. 그때 내 발밑에 깔린 철로를 보게 되었고, 절망으로 가는 전철에서 내릴 수 있었다. 그리고 나만의 내비게이션을 달고 인생의 지름길을, 부의 추월차선을 찾아 나섰다. 모두가 머릿속에 새 소프트웨어를 깐 덕분이었다! _ 본문 중에서\\n\\r\\n그가 하는 대부분의 비즈니스 모델은 ‘초보가 되어, 왕초보를 가르치는 것’이다. 어느 분야든 저렴한 가격에 도움을 받고 싶은 왕초보의 수요는 분명히 존재한다. 이때 도와주는 사람은 초보여도 상관없다는 점에 착안해 여러 컨설팅 비즈니스를 설계했다. 그는 무료 홈페이지 제작 플랫폼을 통해 하루 만에 홈페이지를 제작하고, 네이버 블로그 등 SNS 채널을 통해 무료로 마케팅을 했다. 투자비용 자체가 들어가지 않는 ‘무자본 창업’ 형태였다. ‘라이프해커 자청’이라는 캐릭터와 ‘무자본 창업’이라는 개념은 사람들의 고정관념을 깨는 시그널이 됐다.\\r\\n자청이 찾아낸 ‘역행자의 7단계 모델’을 통해, 부와 행복을 갈망하는 독자들은 저자가 겪은 10년 동안의 시행착오를 단 3년으로 줄일 수 있다. 못 믿겠는가? 불안과 의심을 버리고, 저자와 함께 ‘인생의 추월차선’을 타러 가보자.',\n",
       " '<작별인사> 누구도 도와줄 수 없는 상황, 혼자 헤쳐나가야 한다\\r\\n지켜야 할 약속, 붙잡고 싶은 온기\\r\\n김영하가 『살인자의 기억법』 이후 9 년 만에 내놓는 장편소설 『작별인사』는 그리 멀지 않은 미래를 배경으로, 별안간 삶이 송두리째 뒤흔들린 한 소년의 여정을 좇는다. 유명한 IT 기업의 연구원인 아버지와 쾌적하고 평화롭게 살아가던 철이는 어느날 갑자기 수용소로 끌려가 난생처음 날것의 감정으로 가득한 혼돈의 세계에 맞닥뜨리게 되면서 정신적, 신체적 위기에 직면한다. 동시에 자신처럼 사회에서 배제된 자들을 만나 처음으로 생생한 소속감을 느끼고 따뜻한 우정도 싹틔운다. 철이는 그들과 함께 수용소를 탈출하여 집으로 돌아가기 위해 길을 떠나지만 그 여정에는 피할 수 없는 질문이 기다리고 있다.\\n\\r\\n세계보건기구 WHO가 팬데믹을 선언한 지 2년이 지나서야 작가는 『작별인사』의 개작을 마쳤다. 420매 분량이던 원고는 약 800매로 늘었고, 주제도 완전히 달라졌다. ‘인간을 인간으로 만드는 것은 무엇인가?’, ‘인간과 인간이 아닌 존재들을 가르는 경계는 어디인가’를 묻던 소설은 ‘삶이란 과연 계속될 가치가 있는 것인가?’, ‘세상에 만연한 고통을 어떻게 하면 줄일 수 있을 것인가’, ‘어쩔 수 없이 태어났다면 어떻게 살고 어떻게 죽어야 할 것인가’와 같은 질문을 던지는 이야기로 바뀌었다. 팬데믹이 개작에 영향을 주었을 수도 있고, 원래 『작별인사』의 구상에 담긴 어떤 맹아가 오랜 개작을 거치며 발아했는지도 모른다. 그것에 대해 작가는 이렇게 말하고 있다.\\n\\r\\n마치 제목이 어떤 마력이 있어서 나로 하여금 자기에게 어울리는 이야기로 다시 쓰도록 한 것 같은 느낌이다. 탈고를 하고 얼마 지나지 않아 원고를 다시 읽어보았다. 이제야 비로소 애초에 내가 쓰려고 했던 어떤 것이 제대로, 남김 없이 다 흘러나왔다는 생각이 들었다. _’작가의 말’에서\\n\\r\\n전면적인 수정을 통해 2022년의 『작별인사』는 2020년의 『작별인사』를 마치 시놉시스나 초고처럼 보이게 할 정도로 확연하게 달라졌다. 그리고 김영하의 이전 문학 세계와의 연결점들이 분명해졌다.',\n",
       " '<인플레이션에서 살아남기> \\n\\n40년 만에 찾아온 인플레의 역습, \\r\\n당신의 자산이 무너지기 시작했다!\\n\\r\\n__200만 「삼프로TV」 김동환 강력 추천\\r\\n__누적 조회 수 3000만 회, 독자가 선택한 경제 필독서\\r\\n__글로벌 경제, Fed 전문가 ‘갓건영’의 미래 투자 전략\\n\\r\\n200만 구독자의 열렬한 사랑을 받는 「삼프로TV」는 경제 분야 1위 유튜브 채널이다. 내로라하는 TOP급 전문가들이 출연해 국내외 시황 등의 정보를 나누는데, 요즘처럼 금리가 뛰어오르고 환율이 고공행진 하는 등 혼란스러운 시장이 펼쳐질 때 독자들이 한마음 한뜻으로 찾는 사람이 있다. 바로 신한은행 WM그룹의 부부장, 오건영 저자다. \\r\\n‘글로벌 경제 1타 강사’로 불리는 오건영 저자의 또 다른 애칭은 ‘대한민국 최고의 Fed(연준) 전문가’다. 글로벌 시장의 폭주를 막아줄 유일한 파수꾼이 Fed이므로, 이들의 행보가 곧 문제를 해결해줄 실마리가 될 것이다. 오건영 저자의 해설을 들으며 그들의 과거 행적을 되짚어보면 경제는 앞으로 어떤 움직임을 보일지, 그런 환경에서 우리가 취해야 할 안전한 투자법은 무엇일지 저절로 감이 올 것이다. \\r\\n이 책의 하이라이트는 단연 2022년 최신 버전의 ‘부의 시나리오’다. 경제 현상을 4가지 상황으로 나누고, 현재 우리는 어디에 위치하는지 살펴보는 것은 물론, 앞으로는 어떤 방향으로 흘러갈지 예측해보고, 이것을 나의 투자 포트폴리오에 연계하는 법을 알아본다. 2021년의 투자 환경과는 무엇이 달라졌는지 짚어보고, 현재를 기점으로 가장 유력한 2가지 미래 시나리오도 제시한다. 달라진 미국 Fed의 태도, 새롭게 터지는 러시아-우크라이나 전쟁의 갈등 심화 등 전혀 예상할 수 없었던 요소들은 어떤 시각으로 바라봐야 하는지, 그 팁도 가져갈 수 있다.',\n",
       " '<변화하는 세계 질서> \\n\\n《원칙 Principles: Life & Work》으로 전 세계의 사랑은 물론, 국내 독자들의 사랑을 한 몸에 받았던 레이 달리오가 새로운 책으로 돌아왔다. 《원칙》이 그의 인생과 회사 경영에 대한 원칙을 밝힌 책이라면, 이번 책에서는 지난 500년간 주요 국가들의 경제적, 정치적, 역사적 패턴을 파악해 전 세계가 앞으로 어떻게 달라질지를 밝히고, 우리가 어떻게 대응해야 할지를 알려준다.\\n\\r\\n그의 새로운 책《변화하는 세계 질서》는 끊임없이 변화하는 세계 질서에 대처하기 위한 레이 달리오만의 원칙들을 담았다. 최근 올라온 《변화하는 세계 질서》를 요약한 유튜브 영상은 조회수 1,219만 회를 넘기며 많은 독자들의 관심을 증명했다.',\n",
       " '<피스타운> -“여긴 너무 비현실적이야, 그렇지 않아?”\\r\\n-뭐든지 이룰 수 있는 천국과 같은 공간, 그 뒤에 가려진 진실\\r\\n-아름다운 이름 뒤에 숨겨진 거대한 재난이 밝혀진다!\\n\\r\\n 뒤로는 숲, 앞으로는 절벽과 바다로 둘러싸인 한적한 바닷가의 마을인 ‘피스타운’. 세상과 완전히 고립된 듯한 이곳에서, ‘수연’은 편안하지만 무료한 삶을 이어가고 있다. 가족과 애인의 방문을 기다리며 지내는 수연에게, 타운의 입주민 중 한 사람이 타운은 너무 이상하다며 의문을 제기한다. 그리고 얼마 지나지 않아, 기이한 상황과 생각들이 수연을 잠식한다. 안락하고 안전한 ‘피스타운’의 진실은 과연 무엇일까?']"
      ]
     },
     "execution_count": 38,
     "metadata": {},
     "output_type": "execute_result"
    }
   ],
   "source": [
    "bookContents[:5]"
   ]
  },
  {
   "cell_type": "code",
   "execution_count": null,
   "metadata": {},
   "outputs": [
    {
     "data": {
      "text/html": [
       "<div>\n",
       "<style scoped>\n",
       "    .dataframe tbody tr th:only-of-type {\n",
       "        vertical-align: middle;\n",
       "    }\n",
       "\n",
       "    .dataframe tbody tr th {\n",
       "        vertical-align: top;\n",
       "    }\n",
       "\n",
       "    .dataframe thead th {\n",
       "        text-align: right;\n",
       "    }\n",
       "</style>\n",
       "<table border=\"1\" class=\"dataframe\">\n",
       "  <thead>\n",
       "    <tr style=\"text-align: right;\">\n",
       "      <th></th>\n",
       "      <th>Rank</th>\n",
       "      <th>bookTitle</th>\n",
       "      <th>Contents</th>\n",
       "    </tr>\n",
       "  </thead>\n",
       "  <tbody>\n",
       "    <tr>\n",
       "      <th>0</th>\n",
       "      <td>1</td>\n",
       "      <td>역행자</td>\n",
       "      <td>&lt;역행자&gt; 오타쿠 흙수저에서 월 1억 자동수익을 실현한 무자본 연쇄창업마,\\r\\n라...</td>\n",
       "    </tr>\n",
       "    <tr>\n",
       "      <th>1</th>\n",
       "      <td>2</td>\n",
       "      <td>작별인사</td>\n",
       "      <td>&lt;작별인사&gt; 누구도 도와줄 수 없는 상황, 혼자 헤쳐나가야 한다\\r\\n지켜야 할 약...</td>\n",
       "    </tr>\n",
       "    <tr>\n",
       "      <th>2</th>\n",
       "      <td>3</td>\n",
       "      <td>인플레이션에서 살아남기</td>\n",
       "      <td>&lt;인플레이션에서 살아남기&gt; \\n\\n40년 만에 찾아온 인플레의 역습, \\r\\n당신의...</td>\n",
       "    </tr>\n",
       "    <tr>\n",
       "      <th>3</th>\n",
       "      <td>4</td>\n",
       "      <td>변화하는 세계 질서</td>\n",
       "      <td>&lt;변화하는 세계 질서&gt; \\n\\n《원칙 Principles: Life &amp; Work》으...</td>\n",
       "    </tr>\n",
       "    <tr>\n",
       "      <th>4</th>\n",
       "      <td>5</td>\n",
       "      <td>피스타운</td>\n",
       "      <td>&lt;피스타운&gt; -“여긴 너무 비현실적이야, 그렇지 않아?”\\r\\n-뭐든지 이룰 수 있...</td>\n",
       "    </tr>\n",
       "  </tbody>\n",
       "</table>\n",
       "</div>"
      ],
      "text/plain": [
       "   Rank     bookTitle                                           Contents\n",
       "0     1           역행자  <역행자> 오타쿠 흙수저에서 월 1억 자동수익을 실현한 무자본 연쇄창업마,\\r\\n라...\n",
       "1     2          작별인사  <작별인사> 누구도 도와줄 수 없는 상황, 혼자 헤쳐나가야 한다\\r\\n지켜야 할 약...\n",
       "2     3  인플레이션에서 살아남기  <인플레이션에서 살아남기> \\n\\n40년 만에 찾아온 인플레의 역습, \\r\\n당신의...\n",
       "3     4    변화하는 세계 질서  <변화하는 세계 질서> \\n\\n《원칙 Principles: Life & Work》으...\n",
       "4     5          피스타운  <피스타운> -“여긴 너무 비현실적이야, 그렇지 않아?”\\r\\n-뭐든지 이룰 수 있..."
      ]
     },
     "execution_count": 34,
     "metadata": {},
     "output_type": "execute_result"
    }
   ],
   "source": [
    "ridibooks['Contents'] = pd.Series(bookContents)\n",
    "ridibooks"
   ]
  }
 ],
 "metadata": {
  "kernelspec": {
   "display_name": "Python 3.9.7 ('base')",
   "language": "python",
   "name": "python3"
  },
  "language_info": {
   "codemirror_mode": {
    "name": "ipython",
    "version": 3
   },
   "file_extension": ".py",
   "mimetype": "text/x-python",
   "name": "python",
   "nbconvert_exporter": "python",
   "pygments_lexer": "ipython3",
   "version": "3.9.7"
  },
  "orig_nbformat": 4,
  "vscode": {
   "interpreter": {
    "hash": "40d3a090f54c6569ab1632332b64b2c03c39dcf918b08424e98f38b5ae0af88f"
   }
  }
 },
 "nbformat": 4,
 "nbformat_minor": 2
}
