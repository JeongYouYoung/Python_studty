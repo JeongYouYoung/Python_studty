{
 "cells": [
  {
   "cell_type": "markdown",
   "metadata": {},
   "source": [
    "KNN - 최근접 이웃 분류"
   ]
  },
  {
   "cell_type": "markdown",
   "metadata": {},
   "source": [
    "# 생선의 길이를 사용하여 무게를 예측"
   ]
  },
  {
   "cell_type": "code",
   "execution_count": 1,
   "metadata": {},
   "outputs": [],
   "source": [
    "import numpy as np"
   ]
  },
  {
   "cell_type": "code",
   "execution_count": 2,
   "metadata": {},
   "outputs": [],
   "source": [
    "fish_length = np.array(\n",
    "    [8.4, 13.7, 15.0, 16.2, 17.4, 18.0, 18.7, 19.0, 19.6, 20.0, \n",
    "     21.0, 21.0, 21.0, 21.3, 22.0, 22.0, 22.0, 22.0, 22.0, 22.5, \n",
    "     22.5, 22.7, 23.0, 23.5, 24.0, 24.0, 24.6, 25.0, 25.6, 26.5, \n",
    "     27.3, 27.5, 27.5, 27.5, 28.0, 28.7, 30.0, 32.8, 34.5, 35.0, \n",
    "     36.5, 36.0, 37.0, 37.0, 39.0, 39.0, 39.0, 40.0, 40.0, 40.0, \n",
    "     40.0, 42.0, 43.0, 43.0, 43.5, 44.0]\n",
    "     )\n",
    "fish_weight = np.array(\n",
    "    [5.9, 32.0, 40.0, 51.5, 70.0, 100.0, 78.0, 80.0, 85.0, 85.0, \n",
    "     110.0, 115.0, 125.0, 130.0, 120.0, 120.0, 130.0, 135.0, 110.0, \n",
    "     130.0, 150.0, 145.0, 150.0, 170.0, 225.0, 145.0, 188.0, 180.0, \n",
    "     197.0, 218.0, 300.0, 260.0, 265.0, 250.0, 250.0, 300.0, 320.0, \n",
    "     514.0, 556.0, 840.0, 685.0, 700.0, 700.0, 690.0, 900.0, 650.0, \n",
    "     820.0, 850.0, 900.0, 1015.0, 820.0, 1100.0, 1000.0, 1100.0, \n",
    "     1000.0, 1000.0]\n",
    "     )"
   ]
  },
  {
   "cell_type": "markdown",
   "metadata": {},
   "source": [
    "## 길이와 무게를 산포도로 표현"
   ]
  },
  {
   "cell_type": "code",
   "execution_count": 3,
   "metadata": {},
   "outputs": [],
   "source": [
    "import matplotlib.pyplot as plt"
   ]
  },
  {
   "cell_type": "code",
   "execution_count": 4,
   "metadata": {},
   "outputs": [
    {
     "data": {
      "image/png": "[encoded data removed]",
      "text/plain": [
       "<Figure size 720x360 with 1 Axes>"
      ]
     },
     "metadata": {
      "needs_background": "light"
     },
     "output_type": "display_data"
    }
   ],
   "source": [
    "plt.figure(figsize=(10,5))\n",
    "plt.scatter(fish_length, fish_weight) # fish_length : Feature, fish_weight :  Target\n",
    "plt.xlabel(\"Length\")\n",
    "plt.ylabel(\"Weight\")\n",
    "plt.show()"
   ]
  },
  {
   "cell_type": "markdown",
   "metadata": {},
   "source": [
    "## Train Set, Test Set의 분리"
   ]
  },
  {
   "cell_type": "code",
   "execution_count": 5,
   "metadata": {},
   "outputs": [],
   "source": [
    "from sklearn.model_selection import train_test_split"
   ]
  },
  {
   "cell_type": "code",
   "execution_count": 6,
   "metadata": {},
   "outputs": [],
   "source": [
    "train_input, test_input , train_target, test_target = \\\n",
    "    train_test_split(fish_length, fish_weight, random_state=42)"
   ]
  },
  {
   "cell_type": "markdown",
   "metadata": {},
   "source": [
    "> KNN 분류에서 사용되었언 stratify는 분류문제가 아니므로 사용하지 않는다."
   ]
  },
  {
   "cell_type": "code",
   "execution_count": 7,
   "metadata": {},
   "outputs": [
    {
     "name": "stdout",
     "output_type": "stream",
     "text": [
      "(42,) (14,)\n"
     ]
    }
   ],
   "source": [
    "# 분리된 결과 확인\n",
    "print(train_input.shape, test_input.shape)"
   ]
  },
  {
   "cell_type": "code",
   "execution_count": 8,
   "metadata": {},
   "outputs": [
    {
     "data": {
      "text/plain": [
       "array([19.6, 22. , 18.7, 17.4, 36. , 25. , 40. , 39. , 43. , 22. , 20. ,\n",
       "       22. , 24. , 27.5, 43. , 40. , 24. , 21. , 27.5, 40. , 32.8, 26.5,\n",
       "       36.5, 13.7, 22.7, 15. , 37. , 35. , 28.7, 23.5, 39. , 21. , 23. ,\n",
       "       22. , 44. , 22.5, 19. , 37. , 22. , 25.6, 42. , 34.5])"
      ]
     },
     "execution_count": 8,
     "metadata": {},
     "output_type": "execute_result"
    }
   ],
   "source": [
    "train_input # 1차원 Series로 되어있어서 1차원이다. 하지만 데이터 분석을 하려면 2차원이 되어야함"
   ]
  },
  {
   "cell_type": "code",
   "execution_count": 9,
   "metadata": {},
   "outputs": [],
   "source": [
    "# 1열로 구성된 배열로 재구성\n",
    "train_input = train_input.reshape(-1, 1)\n",
    "test_input = test_input.reshape(-1,1)"
   ]
  },
  {
   "cell_type": "code",
   "execution_count": 10,
   "metadata": {},
   "outputs": [
    {
     "data": {
      "text/plain": [
       "array([[19.6],\n",
       "       [22. ],\n",
       "       [18.7],\n",
       "       [17.4],\n",
       "       [36. ],\n",
       "       [25. ],\n",
       "       [40. ],\n",
       "       [39. ],\n",
       "       [43. ],\n",
       "       [22. ]])"
      ]
     },
     "execution_count": 10,
     "metadata": {},
     "output_type": "execute_result"
    }
   ],
   "source": [
    "#: 슬라이싱 사용\n",
    "train_input[:10]"
   ]
  },
  {
   "cell_type": "code",
   "execution_count": 11,
   "metadata": {},
   "outputs": [
    {
     "name": "stdout",
     "output_type": "stream",
     "text": [
      "(42, 1) (14, 1)\n"
     ]
    }
   ],
   "source": [
    "# 분리된 결과 확인\n",
    "# 42행 1열이다. => 2차원\n",
    "print(train_input.shape, test_input.shape)"
   ]
  },
  {
   "cell_type": "markdown",
   "metadata": {},
   "source": [
    "## 회귀모델 사용"
   ]
  },
  {
   "cell_type": "code",
   "execution_count": 12,
   "metadata": {},
   "outputs": [],
   "source": [
    "from sklearn.neighbors import KNeighborsRegressor"
   ]
  },
  {
   "cell_type": "code",
   "execution_count": 13,
   "metadata": {},
   "outputs": [
    {
     "data": {
      "text/plain": [
       "KNeighborsRegressor()"
      ]
     },
     "execution_count": 13,
     "metadata": {},
     "output_type": "execute_result"
    }
   ],
   "source": [
    "knr = KNeighborsRegressor()\n",
    "knr.fit(train_input, train_target)"
   ]
  },
  {
   "cell_type": "code",
   "execution_count": 14,
   "metadata": {},
   "outputs": [
    {
     "data": {
      "text/plain": [
       "0.992809406101064"
      ]
     },
     "execution_count": 14,
     "metadata": {},
     "output_type": "execute_result"
    }
   ],
   "source": [
    "knr.score(test_input, test_target)"
   ]
  },
  {
   "cell_type": "markdown",
   "metadata": {},
   "source": [
    "> 이제 과대적합과 과소적합을 확인해야한다  \n",
    "> 딱봐도 너무 잘맞추는거 같아"
   ]
  },
  {
   "cell_type": "markdown",
   "metadata": {},
   "source": [
    "### 회귀모델은 분류모델처럼 예측값과 정답값을 비교할 수 없음\n",
    "### 결정계수 ($R^2$) : 평균 절대값 오차율\n",
    "##### $R^2$ = 1 - $(타깃 - 예측)^2$ 의 합 $\\div(타깃 - 평균)^2$ 의 합"
   ]
  },
  {
   "cell_type": "code",
   "execution_count": 15,
   "metadata": {},
   "outputs": [],
   "source": [
    "# 평균 절대값 오차\n",
    "from sklearn.metrics import mean_absolute_error"
   ]
  },
  {
   "cell_type": "code",
   "execution_count": 16,
   "metadata": {},
   "outputs": [
    {
     "name": "stdout",
     "output_type": "stream",
     "text": [
      "19.157142857142862\n"
     ]
    }
   ],
   "source": [
    "# 테스트 세트에 대한 예측 만들기\n",
    "test_prediction = knr.predict(test_input)\n",
    "\n",
    "# 테스트 세트에 대한 평균 절대값 오차를 계산\n",
    "mea = mean_absolute_error(test_target, test_prediction)\n",
    "print(mea)"
   ]
  },
  {
   "cell_type": "markdown",
   "metadata": {},
   "source": [
    "> 오차율이 20%정도 나와서  \n",
    "> 나의 정확도는 80% 정도 임.    \n",
    "> 오차가 적은게 좋다  "
   ]
  },
  {
   "cell_type": "markdown",
   "metadata": {},
   "source": [
    "## 과대적합(Overfitting)과 과소적합(Underfitting)\n",
    "- score로 판단하면됨"
   ]
  },
  {
   "cell_type": "code",
   "execution_count": 17,
   "metadata": {},
   "outputs": [
    {
     "data": {
      "text/plain": [
       "0.9698823289099254"
      ]
     },
     "execution_count": 17,
     "metadata": {},
     "output_type": "execute_result"
    }
   ],
   "source": [
    "# train data로 score측정\n",
    "knr.score(train_input, train_target)"
   ]
  },
  {
   "cell_type": "code",
   "execution_count": 18,
   "metadata": {},
   "outputs": [
    {
     "data": {
      "text/plain": [
       "0.992809406101064"
      ]
     },
     "execution_count": 18,
     "metadata": {},
     "output_type": "execute_result"
    }
   ],
   "source": [
    "# test data로 score측정\n",
    "knr.score(test_input, test_target)"
   ]
  },
  {
   "cell_type": "markdown",
   "metadata": {},
   "source": [
    "> train보다 test의 점수가 잘나왔을때에는 과소 적합이라고 한다  \n",
    "> 훈련이 잘못됐을때 나오는게 과소적합  \n",
    "> 보통은 train점수가 test의 점수보다 조금더 잘나온 과대적합 기준으로 한다."
   ]
  },
  {
   "cell_type": "markdown",
   "metadata": {},
   "source": [
    "### KNN의 Hyper Parameter를 조정 \n",
    "- 이런상황 됐으면 knn의 값을 조정하자\n",
    "- 이웃의 갯수가 default는 5, knn에서 과소에서 -> 과대적합을 하려면 이웃의 갯수를 줄여야함\n",
    "- 줄여야 확률이 높아지니까"
   ]
  },
  {
   "cell_type": "code",
   "execution_count": 19,
   "metadata": {},
   "outputs": [
    {
     "name": "stdout",
     "output_type": "stream",
     "text": [
      "train score: 0.9804899950518966\n",
      "test score: 0.9746459963987609\n"
     ]
    }
   ],
   "source": [
    "# 이웃의 갯수를 3으로 조정\n",
    "knr.n_neighbors = 3\n",
    "\n",
    "# 모델을 다시 훈련\n",
    "knr.fit(train_input, train_target)\n",
    "print(\"train score:\", knr.score(train_input, train_target))\n",
    "print(\"test score:\", knr.score(test_input, test_target))"
   ]
  },
  {
   "cell_type": "code",
   "execution_count": 20,
   "metadata": {},
   "outputs": [
    {
     "name": "stdout",
     "output_type": "stream",
     "text": [
      "train score: 0.96164569026043\n",
      "test score: 0.9737908255822255\n"
     ]
    }
   ],
   "source": [
    "# 이웃의 갯수를 10으로 조정\n",
    "knr.n_neighbors = 10\n",
    "\n",
    "# 모델을 다시 훈련\n",
    "knr.fit(train_input, train_target)\n",
    "print(\"train score:\", knr.score(train_input, train_target))\n",
    "print(\"test score:\", knr.score(test_input, test_target))"
   ]
  },
  {
   "cell_type": "code",
   "execution_count": 21,
   "metadata": {},
   "outputs": [
    {
     "name": "stdout",
     "output_type": "stream",
     "text": [
      "train score: 0.8612516394391274\n",
      "test score: 0.8785331565429304\n"
     ]
    }
   ],
   "source": [
    "# 이웃의 갯수를 20으로 조정\n",
    "knr.n_neighbors = 20\n",
    "\n",
    "# 모델을 다시 훈련\n",
    "knr.fit(train_input, train_target)\n",
    "print(\"train score:\", knr.score(train_input, train_target))\n",
    "print(\"test score:\", knr.score(test_input, test_target))"
   ]
  },
  {
   "cell_type": "code",
   "execution_count": 22,
   "metadata": {},
   "outputs": [
    {
     "name": "stdout",
     "output_type": "stream",
     "text": [
      "train score: 0.5880379500164266\n",
      "test score: 0.6042092841373093\n"
     ]
    }
   ],
   "source": [
    "# 이웃의 갯수를 30으로 조정\n",
    "knr.n_neighbors = 30\n",
    "\n",
    "# 모델을 다시 훈련\n",
    "knr.fit(train_input, train_target)\n",
    "print(\"train score:\", knr.score(train_input, train_target))\n",
    "print(\"test score:\", knr.score(test_input, test_target))"
   ]
  },
  {
   "cell_type": "markdown",
   "metadata": {},
   "source": [
    "---\n",
    "# 이웃의 갯수 조절을 그래프로 확인"
   ]
  },
  {
   "cell_type": "code",
   "execution_count": 23,
   "metadata": {},
   "outputs": [
    {
     "data": {
      "text/plain": [
       "array([[ 5],\n",
       "       [ 6],\n",
       "       [ 7],\n",
       "       [ 8],\n",
       "       [ 9],\n",
       "       [10],\n",
       "       [11],\n",
       "       [12],\n",
       "       [13],\n",
       "       [14],\n",
       "       [15],\n",
       "       [16],\n",
       "       [17],\n",
       "       [18],\n",
       "       [19],\n",
       "       [20],\n",
       "       [21],\n",
       "       [22],\n",
       "       [23],\n",
       "       [24],\n",
       "       [25],\n",
       "       [26],\n",
       "       [27],\n",
       "       [28],\n",
       "       [29],\n",
       "       [30],\n",
       "       [31],\n",
       "       [32],\n",
       "       [33],\n",
       "       [34],\n",
       "       [35],\n",
       "       [36],\n",
       "       [37],\n",
       "       [38],\n",
       "       [39],\n",
       "       [40],\n",
       "       [41],\n",
       "       [42],\n",
       "       [43],\n",
       "       [44]])"
      ]
     },
     "execution_count": 23,
     "metadata": {},
     "output_type": "execute_result"
    }
   ],
   "source": [
    "x = np.arange(5, 45).reshape(-1, 1)\n",
    "x"
   ]
  },
  {
   "cell_type": "code",
   "execution_count": 24,
   "metadata": {},
   "outputs": [
    {
     "name": "stdout",
     "output_type": "stream",
     "text": [
      "K ====>  1\n",
      "Train :  0.9852830341215901\n",
      "Test :  0.991309195814175\n"
     ]
    },
    {
     "data": {
      "image/png": "[encoded data removed]",
      "text/plain": [
       "<Figure size 720x360 with 1 Axes>"
      ]
     },
     "metadata": {
      "needs_background": "light"
     },
     "output_type": "display_data"
    },
    {
     "name": "stdout",
     "output_type": "stream",
     "text": [
      "K ====>  3\n",
      "Train :  0.9804899950518966\n",
      "Test :  0.9746459963987609\n"
     ]
    },
    {
     "data": {
      "image/png": "[encoded data removed]",
      "text/plain": [
       "<Figure size 720x360 with 1 Axes>"
      ]
     },
     "metadata": {
      "needs_background": "light"
     },
     "output_type": "display_data"
    },
    {
     "name": "stdout",
     "output_type": "stream",
     "text": [
      "K ====>  5\n",
      "Train :  0.9698823289099254\n",
      "Test :  0.992809406101064\n"
     ]
    },
    {
     "data": {
      "image/png": "[encoded data removed]",
      "text/plain": [
       "<Figure size 720x360 with 1 Axes>"
      ]
     },
     "metadata": {
      "needs_background": "light"
     },
     "output_type": "display_data"
    },
    {
     "name": "stdout",
     "output_type": "stream",
     "text": [
      "K ====>  10\n",
      "Train :  0.96164569026043\n",
      "Test :  0.9737908255822255\n"
     ]
    },
    {
     "data": {
      "image/png": "[encoded data removed]",
      "text/plain": [
       "<Figure size 720x360 with 1 Axes>"
      ]
     },
     "metadata": {
      "needs_background": "light"
     },
     "output_type": "display_data"
    }
   ],
   "source": [
    "knr = KNeighborsRegressor()\n",
    "\n",
    "# 5에서 45까지 x좌표를 만들기(범위를 줄수 있음)\n",
    "x = np.arange(5, 45).reshape(-1, 1)\n",
    "\n",
    "\n",
    "# n = 1, 3, 5, 10 일때 결과 그래프를 그림\n",
    "for n in [1,3,5,10]:\n",
    "    # 모델 훈련\n",
    "    knr.n_neighbors = n\n",
    "    knr.fit(train_input, train_target)\n",
    "    print(\"K ====> \",n)\n",
    "    print(\"Train : \", knr.score(train_input, train_target))\n",
    "    print(\"Test : \", knr.score(test_input, test_target))\n",
    "\n",
    "\n",
    "    # 지정한 범위 x에 대한 예측 구하기\n",
    "    prediction = knr.predict(x)\n",
    "\n",
    "    # 훈련세트와 검증세트의 예측 결과 그래프 그리기\n",
    "    plt.figure(figsize=(10,5))\n",
    "    plt.scatter(train_input, train_target)\n",
    "    plt.scatter(test_input, test_target)\n",
    "    plt.plot(x, prediction)\n",
    "    plt.title(\"n_neighors = %d\"%n)\n",
    "    plt.xlabel(\"Length\")\n",
    "    plt.ylabel(\"Weigth\")\n",
    "    plt.show()"
   ]
  },
  {
   "cell_type": "markdown",
   "metadata": {},
   "source": [
    "> 예측값(선모양)이 어떻게 바뀌는지를 잘 봐야함  \n",
    "> k =1 일때 정답 값을 따라 다니고   \n",
    "> k = 3일때는 근처값을 따라 다닌다(일반화가 되어있다)  "
   ]
  }
 ],
 "metadata": {
  "kernelspec": {
   "display_name": "Python 3.9.7 ('base')",
   "language": "python",
   "name": "python3"
  },
  "language_info": {
   "codemirror_mode": {
    "name": "ipython",
    "version": 3
   },
   "file_extension": ".py",
   "mimetype": "text/x-python",
   "name": "python",
   "nbconvert_exporter": "python",
   "pygments_lexer": "ipython3",
   "version": "3.9.7"
  },
  "orig_nbformat": 4,
  "vscode": {
   "interpreter": {
    "hash": "40d3a090f54c6569ab1632332b64b2c03c39dcf918b08424e98f38b5ae0af88f"
   }
  }
 },
 "nbformat": 4,
 "nbformat_minor": 2
}
