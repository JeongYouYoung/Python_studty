{
 "cells": [
  {
   "cell_type": "markdown",
   "metadata": {},
   "source": [
    "# SVM (Support Vector Machine)\n",
    "- 선형 SVM : 커널을 사용하지 않고 데이터를 분류, 비용을 조절해서 마진의 크기를 조절.   \n",
    "- 커널 트릭 : 선형 분리가 주어진 차원에서 불가능할 경우 고차원으로 데이터를 옮기는 효과를 찾음.   \n",
    "비용(Cost) 와 gamma(RBF 커널)을 조절해서 마진의 크기를 조절   \n",
    "- 함수의 표준편차를 조정함으로써 결정 경계의 곡률을 조정하며 이 표준편차릐 조정변수를 감마라고 한다."
   ]
  },
  {
   "cell_type": "markdown",
   "metadata": {},
   "source": [
    "### 파라미터 튜닝\n",
    "- 정확도를 높이기 위해 비용(C) 와 감마의 수치를 조정함으로써 정확도를 높일 수 있음.    \n",
    "- 비용 : 마진의 너비 조절 변수, 클수록 마진너비가 좁아지고 작을수록 마진 너비가 넓어진다.\n",
    "- 감마(곡률) : 커널의 표준편차, 조절변수, 작을수록 데이터포인트의 영향이 커져서 경계가 완만해지고 클수록 데이터포인트가 결정경계에 영향을 미쳐서 경계가 구부러진다.\n",
    "- (커널이 커지면 곡선이 된다. 커널이 크면 과대적합이 되어서 C, 감마 조절을 잘해야함)\n"
   ]
  },
  {
   "cell_type": "code",
   "execution_count": 35,
   "metadata": {},
   "outputs": [],
   "source": [
    "import pandas as pd"
   ]
  },
  {
   "cell_type": "code",
   "execution_count": 36,
   "metadata": {},
   "outputs": [],
   "source": [
    "train = pd.read_csv(\"../Data/basketball_train.csv\")\n",
    "test = pd.read_csv(\"../Data/basketball_test.csv\")"
   ]
  },
  {
   "cell_type": "markdown",
   "metadata": {},
   "source": [
    "### GridSearch를 이용하여 C와 gamma 구하기\n",
    "- Grid(격자)"
   ]
  },
  {
   "cell_type": "code",
   "execution_count": 37,
   "metadata": {},
   "outputs": [],
   "source": [
    "from sklearn.svm import SVC\n",
    "from sklearn.model_selection import GridSearchCV"
   ]
  },
  {
   "cell_type": "code",
   "execution_count": 41,
   "metadata": {},
   "outputs": [],
   "source": [
    "def svc_param_selection(X, y, nfolds):\n",
    "    # GridSearchCV 에서 써야할것을 먼저 정의해줌\n",
    "    svc_parameters = [\n",
    "        {\n",
    "            'kernel':['rbf'], # Kernel이 linear(직선 = 'rbf')이면 C Parameter만 사용\n",
    "            'gamma':[0.00001, 0.0001, 0.001, 0.01, 0.1, 1], # 곡률 범위 정해주고\n",
    "            'C' : [0.01, 0.1, 1, 10 ,100, 1000]\n",
    "        }\n",
    "    ]\n",
    "    #GridSearchCV(쓸 모델, 위에서 정의한것)\n",
    "    clf = GridSearchCV(SVC(),svc_parameters, cv = nfolds)\n",
    "    clf.fit(X, y)\n",
    "    print(clf.best_params_)\n",
    "    return clf"
   ]
  },
  {
   "cell_type": "code",
   "execution_count": 42,
   "metadata": {},
   "outputs": [
    {
     "name": "stdout",
     "output_type": "stream",
     "text": [
      "{'C': 0.1, 'gamma': 1, 'kernel': 'rbf'}\n"
     ]
    }
   ],
   "source": [
    "x_train = train[['3P','BLK']]\n",
    "y_train = train[\"Pos\"]\n",
    "clf = svc_param_selection(x_train,y_train,10)\n"
   ]
  },
  {
   "cell_type": "code",
   "execution_count": 44,
   "metadata": {},
   "outputs": [
    {
     "data": {
      "text/plain": [
       "0.95"
      ]
     },
     "execution_count": 44,
     "metadata": {},
     "output_type": "execute_result"
    }
   ],
   "source": [
    "x_test = test[['3P','BLK']]\n",
    "y_test = test['Pos']\n",
    "clf.score(x_test, y_test)"
   ]
  }
 ],
 "metadata": {
  "kernelspec": {
   "display_name": "Python 3.9.7 ('base')",
   "language": "python",
   "name": "python3"
  },
  "language_info": {
   "codemirror_mode": {
    "name": "ipython",
    "version": 3
   },
   "file_extension": ".py",
   "mimetype": "text/x-python",
   "name": "python",
   "nbconvert_exporter": "python",
   "pygments_lexer": "ipython3",
   "version": "3.9.7"
  },
  "orig_nbformat": 4,
  "vscode": {
   "interpreter": {
    "hash": "40d3a090f54c6569ab1632332b64b2c03c39dcf918b08424e98f38b5ae0af88f"
   }
  }
 },
 "nbformat": 4,
 "nbformat_minor": 2
}
