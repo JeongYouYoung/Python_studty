{
 "cells": [
  {
   "cell_type": "markdown",
   "metadata": {},
   "source": [
    "# 리스트 자료형\n",
    "리스트명 = [요소1, 요소2, ...]"
   ]
  },
  {
   "cell_type": "code",
   "execution_count": 6,
   "metadata": {},
   "outputs": [
    {
     "name": "stdout",
     "output_type": "stream",
     "text": [
      "[]\n",
      "[1, 2, 3]\n",
      "['I', 'have', 'a', 'dream']\n",
      "[1, 2, 'Dream', 'True']\n",
      "[1, 2, ['Dream', 'True']]\n"
     ]
    }
   ],
   "source": [
    "#리스트 자료형 선언\n",
    "# 막 넣어도 되네! 리스트 안에 리스트도 넣고\n",
    "var01 = []\n",
    "var02 = [1,2,3]\n",
    "var03 = ['I','have','a','dream']\n",
    "var04 = [1,2,'Dream','True']\n",
    "var05 = [1,2,['Dream','True']]\n",
    "\n",
    "print(var01)\n",
    "print(var02)\n",
    "print(var03)\n",
    "print(var04)\n",
    "print(var05)"
   ]
  },
  {
   "cell_type": "code",
   "execution_count": 11,
   "metadata": {},
   "outputs": [
    {
     "name": "stdout",
     "output_type": "stream",
     "text": [
      "Dream\n",
      "Dream\n"
     ]
    }
   ],
   "source": [
    "# var05 에서 'Dream'만 출력하기\n",
    "print(var05[2][0])\n",
    "\n",
    "#'Dream'만 출력하기\n",
    "var = [1,2,['a','b',['Dream', 'True']]]\n",
    "print(var[2][2][0])"
   ]
  },
  {
   "cell_type": "markdown",
   "metadata": {},
   "source": [
    "### 리스트의 연산"
   ]
  },
  {
   "cell_type": "code",
   "execution_count": 12,
   "metadata": {},
   "outputs": [
    {
     "data": {
      "text/plain": [
       "[1, 2, 3, 4, 5, 6]"
      ]
     },
     "execution_count": 12,
     "metadata": {},
     "output_type": "execute_result"
    }
   ],
   "source": [
    "var01 = [1,2,3]\n",
    "var02 = [4,5,6]\n",
    "var01 + var02"
   ]
  },
  {
   "cell_type": "code",
   "execution_count": 24,
   "metadata": {},
   "outputs": [
    {
     "name": "stdout",
     "output_type": "stream",
     "text": [
      "len(var01) : 3\n",
      "5\n",
      "7\n",
      "9\n",
      "tempList :  [5, 7, 9]\n"
     ]
    }
   ],
   "source": [
    "#리스트의 덧셈 : for문으로 구성해 보기\n",
    "#range => start 지정안하면 기본 0부터 시작 / in 뒤에는 연속형(즉,범위)\n",
    "print(\"len(var01) :\",len(var01))\n",
    "tempList = []\n",
    "for i in range(len(var01)):\n",
    "    print(var01[i] + var02[i])\n",
    "    tempList.append(var01[i] + var02[i])\n",
    "\n",
    "print('tempList : ',tempList)"
   ]
  },
  {
   "cell_type": "code",
   "execution_count": 58,
   "metadata": {},
   "outputs": [
    {
     "name": "stdout",
     "output_type": "stream",
     "text": [
      "2\n",
      "[2]\n"
     ]
    }
   ],
   "source": [
    "var = [1,2,3]\n",
    "var[2] = 4\n",
    "var\n",
    "#*****\n",
    "print(var[1])   # 데이터 값을 불러옴 = 결과값\n",
    "print(var[1:2]) # 범위는 인덱스값을 불러옴\n"
   ]
  },
  {
   "cell_type": "code",
   "execution_count": 59,
   "metadata": {},
   "outputs": [
    {
     "data": {
      "text/plain": [
       "[1, 'a', 'b', 'c', 4]"
      ]
     },
     "execution_count": 59,
     "metadata": {},
     "output_type": "execute_result"
    }
   ],
   "source": [
    "# var = [1,'a','b','c',4] 로 만들어보기\n",
    "var[1:2]=['a','b','c']\n",
    "var\n"
   ]
  },
  {
   "cell_type": "code",
   "execution_count": 60,
   "metadata": {},
   "outputs": [
    {
     "name": "stdout",
     "output_type": "stream",
     "text": [
      "[1, 'c', 4]\n",
      "[1, 4]\n"
     ]
    }
   ],
   "source": [
    "# var = [1,'c',4] 로 만들어보기\n",
    "# 범위를 지정해줌\n",
    "var[1:3] = []\n",
    "print(var)\n",
    "\n",
    "#하나만 지울때 del\n",
    "del var [1]\n",
    "print(var)"
   ]
  },
  {
   "cell_type": "markdown",
   "metadata": {},
   "source": [
    "### 리스트 관련 함수"
   ]
  },
  {
   "cell_type": "code",
   "execution_count": 64,
   "metadata": {},
   "outputs": [
    {
     "data": {
      "text/plain": [
       "[1, 2, 3, 4]"
      ]
     },
     "execution_count": 64,
     "metadata": {},
     "output_type": "execute_result"
    }
   ],
   "source": [
    "#추가\n",
    "var=[1,2,3]\n",
    "var.append(4)\n",
    "var"
   ]
  },
  {
   "cell_type": "code",
   "execution_count": 65,
   "metadata": {},
   "outputs": [
    {
     "data": {
      "text/plain": [
       "[1, 2, 3, 4, [5, 6]]"
      ]
     },
     "execution_count": 65,
     "metadata": {},
     "output_type": "execute_result"
    }
   ],
   "source": [
    "var.append([5,6])\n",
    "var"
   ]
  },
  {
   "cell_type": "code",
   "execution_count": 66,
   "metadata": {},
   "outputs": [
    {
     "name": "stdout",
     "output_type": "stream",
     "text": [
      "[1, 2, 3, 4]\n",
      "[4, 3, 2, 1]\n"
     ]
    }
   ],
   "source": [
    "# 리스트 정수 정렬\n",
    "var = [1,4,3,2]\n",
    "var.sort() # 오름차순 정렬\n",
    "print(var)\n",
    "\n",
    "var.reverse() # 내림차순 정렬\n",
    "print(var)"
   ]
  },
  {
   "cell_type": "code",
   "execution_count": 67,
   "metadata": {},
   "outputs": [
    {
     "data": {
      "text/plain": [
       "1"
      ]
     },
     "execution_count": 67,
     "metadata": {},
     "output_type": "execute_result"
    }
   ],
   "source": [
    "# 리스트의 위치 정보\n",
    "# 딥러닝에서도 많이 쓰임\n",
    "var = [4,5,6]\n",
    "var.index(5) #5란데이터는 1번지에 있습니다.라고 알려주는 함수"
   ]
  },
  {
   "cell_type": "code",
   "execution_count": 76,
   "metadata": {},
   "outputs": [
    {
     "data": {
      "text/plain": [
       "[4, 1, 2, 3, 4]"
      ]
     },
     "execution_count": 76,
     "metadata": {},
     "output_type": "execute_result"
    }
   ],
   "source": [
    "#리스트에 요소 삽입\n",
    "# append 는 계속 뒤에 붙는거고\n",
    "# insert 는 중간에 넣을수 있어\n",
    "var = [1,2,3,4]\n",
    "#(번지수,추가할 데이터)\n",
    "var.insert(0,4)\n",
    "var\n"
   ]
  },
  {
   "cell_type": "code",
   "execution_count": 77,
   "metadata": {},
   "outputs": [
    {
     "data": {
      "text/plain": [
       "[1, 2, 3, 4]"
      ]
     },
     "execution_count": 77,
     "metadata": {},
     "output_type": "execute_result"
    }
   ],
   "source": [
    "#리스트에 요소 제거\n",
    "#인덱스값이 아니라 데이터를 넣어야함\n",
    "var.remove(4)\n",
    "var"
   ]
  },
  {
   "cell_type": "code",
   "execution_count": 78,
   "metadata": {},
   "outputs": [
    {
     "data": {
      "text/plain": [
       "[1, 2, 3]"
      ]
     },
     "execution_count": 78,
     "metadata": {},
     "output_type": "execute_result"
    }
   ],
   "source": [
    "#리스트의 마지막 요소를 지움 pop\n",
    "var.pop()\n",
    "var"
   ]
  },
  {
   "cell_type": "code",
   "execution_count": 83,
   "metadata": {},
   "outputs": [
    {
     "data": {
      "text/plain": [
       "[1, 2, 3, 4, 5]"
      ]
     },
     "execution_count": 83,
     "metadata": {},
     "output_type": "execute_result"
    }
   ],
   "source": [
    "#append를 쓰니까 뒤에값에 리스트 값이 들어오는게 맘에 안들어 extend 를 사용\n",
    "var = [1,2,3]\n",
    "#var.append([4,5]) # 데이터 하나만 집어넣을땐 사용가능해\n",
    "var.extend([4,5])\n",
    "var"
   ]
  }
 ],
 "metadata": {
  "kernelspec": {
   "display_name": "Python 3.9.7 ('base')",
   "language": "python",
   "name": "python3"
  },
  "language_info": {
   "codemirror_mode": {
    "name": "ipython",
    "version": 3
   },
   "file_extension": ".py",
   "mimetype": "text/x-python",
   "name": "python",
   "nbconvert_exporter": "python",
   "pygments_lexer": "ipython3",
   "version": "3.9.7"
  },
  "orig_nbformat": 4,
  "vscode": {
   "interpreter": {
    "hash": "40d3a090f54c6569ab1632332b64b2c03c39dcf918b08424e98f38b5ae0af88f"
   }
  }
 },
 "nbformat": 4,
 "nbformat_minor": 2
}
