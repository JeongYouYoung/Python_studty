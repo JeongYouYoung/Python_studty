{
 "cells": [
  {
   "cell_type": "markdown",
   "metadata": {},
   "source": [
    "# 튜플(Tuple) \n",
    "> 튜플은 다음과 같은 점을 제외하곤 리스트와 비슷하다.  \n",
    "- ()소괄호 로 구성된다.\n",
    "- 리스트는 그 값을 생성, 삭제 , 수정이 가능하지만 튜플은 바꿀 수 없다.  \n",
    "- 한번 생성된 데이터값이 변경되는 것을 막고자 하면 튜플을 사용한다.  \n",
    "- return 시킬때 여러가지 return을 한번에 할수 있다.   \n",
    "- 선언은 ()  보는거는 []"
   ]
  },
  {
   "cell_type": "code",
   "execution_count": 6,
   "metadata": {},
   "outputs": [
    {
     "name": "stdout",
     "output_type": "stream",
     "text": [
      "()\n",
      "(1,)\n",
      "(1, 2, 3)\n",
      "(1, 2, 3)\n",
      "('a', 'b', ('cb', 'cd'))\n",
      "cb\n"
     ]
    }
   ],
   "source": [
    "var01 = ()\n",
    "var02 = (1,)\n",
    "var03 = (1,2,3)\n",
    "var04 = 1,2,3\n",
    "var05 = ('a','b',('cb','cd'))\n",
    "\n",
    "print(var01)\n",
    "print(var02)\n",
    "print(var03)\n",
    "print(var04)\n",
    "print(var05)\n",
    "print(var05[2][0])"
   ]
  }
 ],
 "metadata": {
  "kernelspec": {
   "display_name": "Python 3.8.9 64-bit",
   "language": "python",
   "name": "python3"
  },
  "language_info": {
   "codemirror_mode": {
    "name": "ipython",
    "version": 3
   },
   "file_extension": ".py",
   "mimetype": "text/x-python",
   "name": "python",
   "nbconvert_exporter": "python",
   "pygments_lexer": "ipython3",
   "version": "3.8.9"
  },
  "orig_nbformat": 4,
  "vscode": {
   "interpreter": {
    "hash": "31f2aee4e71d21fbe5cf8b01ff0e069b9275f58929596ceb00d14d90e3e16cd6"
   }
  }
 },
 "nbformat": 4,
 "nbformat_minor": 2
}
