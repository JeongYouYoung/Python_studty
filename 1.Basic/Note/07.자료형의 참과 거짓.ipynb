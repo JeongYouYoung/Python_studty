{
 "cells": [
  {
   "cell_type": "markdown",
   "metadata": {},
   "source": [
    "# 자료형의 참과 거짓\n",
    "- 문자열인 경우  \"\" 안에 data가 없으면 거짓, data가 있으면 참.  \n",
    "- 리스트 인경우 []안에 data가 없으면 거짓, data가 있으면 참.    \n",
    "- 튜플인 경우 ()안에 data가 없으면 거짓, data가 있으면 참.  \n",
    "- 딕셔너리 인경우 {}안에 data가 없으면 거짓, data가 있으면 참.\n",
    "- 숫자인 경우 0이면 거짓 , 0이 아닌숫자는 참.  \n",
    "-  1 : True\n",
    "-  0 : False \n"
   ]
  },
  {
   "cell_type": "code",
   "execution_count": 1,
   "metadata": {},
   "outputs": [
    {
     "name": "stdout",
     "output_type": "stream",
     "text": [
      "4\n",
      "3\n",
      "2\n",
      "1\n"
     ]
    }
   ],
   "source": [
    "# 리스트 형에서 자료 출력하면서 자료 지우기(이거 많이 씀!)\n",
    "var = [1,2,3,4]\n",
    "while var:      #=>true면\n",
    "    print(var.pop())    #=>pop이라 무한반복 안함. 끝나면 끗! 다시 안돌아감"
   ]
  },
  {
   "cell_type": "code",
   "execution_count": 2,
   "metadata": {},
   "outputs": [
    {
     "name": "stdout",
     "output_type": "stream",
     "text": [
      "False\n",
      "False\n"
     ]
    }
   ],
   "source": [
    "# 숫자의 참과 거짓\n",
    "var01 = 3\n",
    "var02 = 1\n",
    "\n",
    "print(var01 == var02)\n",
    "print(var01 is var02)\n",
    "#Python 은 참거짓 대문자로 시작"
   ]
  },
  {
   "cell_type": "code",
   "execution_count": 4,
   "metadata": {},
   "outputs": [
    {
     "name": "stdout",
     "output_type": "stream",
     "text": [
      "var01 =  1 , var02 =  2\n",
      "var01 =  1 , var02 =  Lee\n",
      "var01 =  1 , var02 =  Lee\n",
      "var01 =  Lee , var02 =  Lee\n"
     ]
    }
   ],
   "source": [
    "# 튜플을 이용한 변수 생성 (Python 이후로 나온언어는 다 튜플을 지원함)\n",
    "var01, var02 = 1, 2 \n",
    "print(\"var01 = \",var01,\", var02 = \",var02)\n",
    "var01, var02 = 1, \"Lee\"\n",
    "print(\"var01 = \",var01,\", var02 = \",var02)\n",
    "(var01, var02) = (1, \"Lee\")\n",
    "print(\"var01 = \",var01,\", var02 = \",var02)\n",
    "var01 = var02 = \"Lee\"\n",
    "print(\"var01 = \",var01,\", var02 = \",var02)"
   ]
  },
  {
   "cell_type": "code",
   "execution_count": 7,
   "metadata": {},
   "outputs": [
    {
     "name": "stdout",
     "output_type": "stream",
     "text": [
      "var01 =  5 , var02 =  3\n"
     ]
    }
   ],
   "source": [
    "# 변수값 교환\n",
    "var01, var02 = 3, 5\n",
    "var01, var02 = var02, var01\n",
    "print(\"var01 = \",var01,\", var02 = \",var02)"
   ]
  },
  {
   "cell_type": "code",
   "execution_count": 9,
   "metadata": {},
   "outputs": [
    {
     "name": "stdout",
     "output_type": "stream",
     "text": [
      "var01 =  [1, 4, 6] , var02 =  [1, 4, 6]\n"
     ]
    },
    {
     "data": {
      "text/plain": [
       "True"
      ]
     },
     "execution_count": 9,
     "metadata": {},
     "output_type": "execute_result"
    }
   ],
   "source": [
    "# 리스트의 복사 (함정주의!) :  <- call by References(주소가 똑같다)\n",
    "var01 = [1,2,3]\n",
    "var02 = var01\n",
    "var01[1] = 4\n",
    "var02[2] = 6\n",
    "print(\"var01 = \",var01,\", var02 = \",var02)\n",
    "\n",
    "#같아졌네? 이렇게 하면 안됨!\n",
    "var01 is var02"
   ]
  },
  {
   "cell_type": "code",
   "execution_count": 12,
   "metadata": {},
   "outputs": [
    {
     "name": "stdout",
     "output_type": "stream",
     "text": [
      "var01 =  [1, 4, 3] , var02 =  [1, 2, 3]\n"
     ]
    }
   ],
   "source": [
    "# Slicing을 이용한 리스트의 복사(copy보다 더 많이 쓰임.)\n",
    "var01 = [1,2,3]\n",
    "var02 = var01[:] # List에 있는 데이터를 가져오겠다\n",
    "var01[1] = 4\n",
    "print(\"var01 = \",var01,\", var02 = \",var02)"
   ]
  },
  {
   "cell_type": "code",
   "execution_count": 13,
   "metadata": {},
   "outputs": [
    {
     "name": "stdout",
     "output_type": "stream",
     "text": [
      "var01 =  [1, 4, 3] , var02 =  [1, 2, 3]\n"
     ]
    }
   ],
   "source": [
    "# Moduel을 이용한 리스트의 복사(잘 안쓰임.)\n",
    "from copy import copy\n",
    "\n",
    "var01 = [1,2,3]\n",
    "var02 = copy(var01)\n",
    "var01[1] = 4\n",
    "print(\"var01 = \",var01,\", var02 = \",var02)"
   ]
  },
  {
   "cell_type": "code",
   "execution_count": 15,
   "metadata": {},
   "outputs": [
    {
     "name": "stdout",
     "output_type": "stream",
     "text": [
      "True\n",
      "False\n"
     ]
    }
   ],
   "source": [
    "# 리스트의 데이터 유무를 판단하여 True 와 False값 Return하기\n",
    "\n",
    "var = [1,2,3,4] #원래 코딩할때 절대 데이터 안씀 이건교육용이라\n",
    "\n",
    "print(4 in var)\n",
    "print(5 in var)\n",
    "\n"
   ]
  }
 ],
 "metadata": {
  "kernelspec": {
   "display_name": "Python 3.9.7 ('base')",
   "language": "python",
   "name": "python3"
  },
  "language_info": {
   "codemirror_mode": {
    "name": "ipython",
    "version": 3
   },
   "file_extension": ".py",
   "mimetype": "text/x-python",
   "name": "python",
   "nbconvert_exporter": "python",
   "pygments_lexer": "ipython3",
   "version": "3.9.7"
  },
  "orig_nbformat": 4,
  "vscode": {
   "interpreter": {
    "hash": "40d3a090f54c6569ab1632332b64b2c03c39dcf918b08424e98f38b5ae0af88f"
   }
  }
 },
 "nbformat": 4,
 "nbformat_minor": 2
}
