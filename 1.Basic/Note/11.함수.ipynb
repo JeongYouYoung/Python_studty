{
 "cells": [
  {
   "cell_type": "code",
   "execution_count": 1,
   "metadata": {},
   "outputs": [],
   "source": [
    "# 프로그램 유지보수할때 어느위치에 있는지 알수 있다. 그리고 함수 하나만 수리해주면 되니까. 편리\n",
    "# 파이썬 구조는 기본적으로 함수구조로 되어있다."
   ]
  },
  {
   "cell_type": "markdown",
   "metadata": {},
   "source": [
    "# numpy 내장 함수"
   ]
  },
  {
   "cell_type": "code",
   "execution_count": 2,
   "metadata": {},
   "outputs": [],
   "source": [
    "import numpy as np"
   ]
  },
  {
   "cell_type": "code",
   "execution_count": 3,
   "metadata": {},
   "outputs": [
    {
     "data": {
      "text/plain": [
       "5.5"
      ]
     },
     "execution_count": 3,
     "metadata": {},
     "output_type": "execute_result"
    }
   ],
   "source": [
    "# 평균\n",
    "np.mean(range(1,11))"
   ]
  },
  {
   "cell_type": "code",
   "execution_count": 4,
   "metadata": {},
   "outputs": [
    {
     "data": {
      "text/plain": [
       "55"
      ]
     },
     "execution_count": 4,
     "metadata": {},
     "output_type": "execute_result"
    }
   ],
   "source": [
    "#합계\n",
    "np.sum(range(1,11))"
   ]
  },
  {
   "cell_type": "code",
   "execution_count": 5,
   "metadata": {},
   "outputs": [
    {
     "data": {
      "text/plain": [
       "8.25"
      ]
     },
     "execution_count": 5,
     "metadata": {},
     "output_type": "execute_result"
    }
   ],
   "source": [
    "# 분산\n",
    "np.var(range(1,11))"
   ]
  },
  {
   "cell_type": "code",
   "execution_count": 6,
   "metadata": {},
   "outputs": [
    {
     "data": {
      "text/plain": [
       "2.8722813232690143"
      ]
     },
     "execution_count": 6,
     "metadata": {},
     "output_type": "execute_result"
    }
   ],
   "source": [
    "# 표준편차\n",
    "np.std(range(1,11))"
   ]
  },
  {
   "cell_type": "code",
   "execution_count": 7,
   "metadata": {},
   "outputs": [
    {
     "data": {
      "text/plain": [
       "True"
      ]
     },
     "execution_count": 7,
     "metadata": {},
     "output_type": "execute_result"
    }
   ],
   "source": [
    "# 분산의 제곱근이 표준편차\n",
    "np.sqrt(np.var(range(1,11))) == np.std(range(1,11))"
   ]
  },
  {
   "cell_type": "code",
   "execution_count": 8,
   "metadata": {},
   "outputs": [
    {
     "name": "stdout",
     "output_type": "stream",
     "text": [
      "True\n",
      "False\n"
     ]
    },
    {
     "name": "stderr",
     "output_type": "stream",
     "text": [
      "<>:7: SyntaxWarning: \"is\" with a literal. Did you mean \"==\"?\n",
      "<>:7: SyntaxWarning: \"is\" with a literal. Did you mean \"==\"?\n",
      "/var/folders/t6/d5d0d02x7n7d4sj2yv4z3x5m0000gn/T/ipykernel_987/1582525109.py:7: SyntaxWarning: \"is\" with a literal. Did you mean \"==\"?\n",
      "  print(1.0000000000000000001 is 1)\n"
     ]
    }
   ],
   "source": [
    "#1 is 1 #에러걸림\n",
    "# == 의 범위와 is 의 범위가 서로 약간 틀려\n",
    "#np.sqrt(np.var(range(1,11))) is np.std(range(1,11))\n",
    "#제곱근 (루트) 의 끝이 없어서 서로 다름.\n",
    "#예시\n",
    "print(1.0000000000000000001 == 1)\n",
    "print(1.0000000000000000001 is 1)"
   ]
  },
  {
   "cell_type": "code",
   "execution_count": 9,
   "metadata": {},
   "outputs": [
    {
     "data": {
      "text/plain": [
       "10"
      ]
     },
     "execution_count": 9,
     "metadata": {},
     "output_type": "execute_result"
    }
   ],
   "source": [
    "#최댓값\n",
    "np.max(range(1,11))"
   ]
  },
  {
   "cell_type": "code",
   "execution_count": 10,
   "metadata": {},
   "outputs": [
    {
     "data": {
      "text/plain": [
       "1"
      ]
     },
     "execution_count": 10,
     "metadata": {},
     "output_type": "execute_result"
    }
   ],
   "source": [
    "#최솟값\n",
    "np.min(range(1,11))"
   ]
  },
  {
   "cell_type": "code",
   "execution_count": 11,
   "metadata": {},
   "outputs": [
    {
     "data": {
      "text/plain": [
       "5.5"
      ]
     },
     "execution_count": 11,
     "metadata": {},
     "output_type": "execute_result"
    }
   ],
   "source": [
    "# 중앙값\n",
    "np.median(range(1,11))"
   ]
  },
  {
   "cell_type": "code",
   "execution_count": 12,
   "metadata": {},
   "outputs": [
    {
     "name": "stdout",
     "output_type": "stream",
     "text": [
      "[ 1  3  6 10 15 21 28 36 45 55]\n",
      "[1, 3, 6, 10, 15, 21, 28, 36, 45, 55]\n",
      "55\n"
     ]
    }
   ],
   "source": [
    "# 누적합\n",
    "print(np.cumsum(range(1,11)))\n",
    "\n",
    "#numpy 의 array 는 파이썬의 list와 서로 성격이 다름\n",
    "# list로 쓰려면\n",
    "print(list(np.cumsum(range(1,11))))\n",
    "\n",
    "#누적합의 결과만 보기\n",
    "var = list(np.cumsum(range(1,11)))\n",
    "print(var[-1])"
   ]
  },
  {
   "cell_type": "code",
   "execution_count": 13,
   "metadata": {},
   "outputs": [
    {
     "data": {
      "text/plain": [
       "array([      1,       2,       6,      24,     120,     720,    5040,\n",
       "         40320,  362880, 3628800])"
      ]
     },
     "execution_count": 13,
     "metadata": {},
     "output_type": "execute_result"
    }
   ],
   "source": [
    "# 누적곱\n",
    "np.cumprod(range(1,11))"
   ]
  },
  {
   "cell_type": "markdown",
   "metadata": {},
   "source": [
    "---\n",
    "# 사용자 정의 함수"
   ]
  },
  {
   "cell_type": "code",
   "execution_count": 14,
   "metadata": {},
   "outputs": [],
   "source": [
    "def hiF(): # 매개변수가 없는 함수, 파라미터가 없다.\n",
    "    return 'Hi'"
   ]
  },
  {
   "cell_type": "code",
   "execution_count": 15,
   "metadata": {},
   "outputs": [
    {
     "name": "stdout",
     "output_type": "stream",
     "text": [
      "Hi\n"
     ]
    }
   ],
   "source": [
    "var = hiF()\n",
    "print(var)"
   ]
  },
  {
   "cell_type": "code",
   "execution_count": 16,
   "metadata": {},
   "outputs": [],
   "source": [
    "def test2(x, y): #매개변수가 있는 함수야, 파라미터가 있는 함수\n",
    "    return x + y"
   ]
  },
  {
   "cell_type": "code",
   "execution_count": 17,
   "metadata": {},
   "outputs": [
    {
     "data": {
      "text/plain": [
       "5"
      ]
     },
     "execution_count": 17,
     "metadata": {},
     "output_type": "execute_result"
    }
   ],
   "source": [
    "test2(2, 3)"
   ]
  },
  {
   "cell_type": "code",
   "execution_count": 18,
   "metadata": {},
   "outputs": [],
   "source": [
    "# 함수에 입력되는 인수가 몇개인지 모를경우에 쓰는 함수\n",
    "\n",
    "def sumManyF(*inputValue): # 이 *의 시작은 C언어에서 왔음!\n",
    "    sum = 0\n",
    "    for i in inputValue:\n",
    "        sum += i\n",
    "    return sum"
   ]
  },
  {
   "cell_type": "code",
   "execution_count": 19,
   "metadata": {},
   "outputs": [
    {
     "data": {
      "text/plain": [
       "55"
      ]
     },
     "execution_count": 19,
     "metadata": {},
     "output_type": "execute_result"
    }
   ],
   "source": [
    "sumManyF(1,2,3,4,5,6,7,8,9,10)"
   ]
  },
  {
   "cell_type": "code",
   "execution_count": 20,
   "metadata": {},
   "outputs": [
    {
     "data": {
      "text/plain": [
       "6"
      ]
     },
     "execution_count": 20,
     "metadata": {},
     "output_type": "execute_result"
    }
   ],
   "source": [
    "sumManyF(1,2,3)"
   ]
  },
  {
   "cell_type": "code",
   "execution_count": 21,
   "metadata": {},
   "outputs": [],
   "source": [
    "# 여러개의 숫자를 받아 최댓값과 최소값의 차이를 구하는 함수 만들기\n",
    "def sumManyF2(*inputValue):\n",
    "    num = np.max(inputValue)- np.min(inputValue)\n",
    "    return num\n",
    "    "
   ]
  },
  {
   "cell_type": "code",
   "execution_count": 22,
   "metadata": {},
   "outputs": [
    {
     "data": {
      "text/plain": [
       "8"
      ]
     },
     "execution_count": 22,
     "metadata": {},
     "output_type": "execute_result"
    }
   ],
   "source": [
    "sumManyF2(1,3,5,7,9)"
   ]
  },
  {
   "cell_type": "code",
   "execution_count": 23,
   "metadata": {},
   "outputs": [
    {
     "name": "stdout",
     "output_type": "stream",
     "text": [
      "2 X 6 = 12\n",
      "2 X 7 = 14\n",
      "2 X 8 = 16\n",
      "2 X 9 = 18\n",
      "===========\n",
      "5 X 6 = 30\n",
      "5 X 7 = 35\n",
      "5 X 8 = 40\n",
      "5 X 9 = 45\n",
      "===========\n",
      "8 X 6 = 48\n",
      "8 X 7 = 56\n",
      "8 X 8 = 64\n",
      "8 X 9 = 72\n",
      "===========\n"
     ]
    }
   ],
   "source": [
    "# 구구단에서 단과 곱해지는 수를 리스트로 입력하여 출력하기\n",
    "def gugu(x, y): # 이 *의 시작은 C언어에서 왔음!\n",
    "    mult = []\n",
    "    for i in x:\n",
    "        for j in y:\n",
    "           #mult=mult.append(i*j)\n",
    "            print(f\"{i} X {j} = {i*j}\")\n",
    "        print(\"===========\")\n",
    "    \n",
    "\n",
    "x = [2,5,8]\n",
    "y = [6,7,8,9]\n",
    "\n",
    "gugu(x,y)"
   ]
  },
  {
   "cell_type": "code",
   "execution_count": 26,
   "metadata": {},
   "outputs": [],
   "source": [
    "# 덧셈 기능과 곱셉기능을 구분하여 숫자의 결과를 보여주는 함수\n",
    "\n",
    "def sum_mulF(str, *inputValue):\n",
    "    if str == \"sum\":\n",
    "        result = np.sum(inputValue)\n",
    "    elif str == 'mul':\n",
    "        # var = list(np.cumprod(inputValue))\n",
    "        # result = var[-1]\n",
    "        # 전체 곱셈 np.prod\n",
    "        result = np.prod(inputValue) \n",
    "    else:\n",
    "        result = \"what are you talking about?\"\n",
    "    return result"
   ]
  },
  {
   "cell_type": "code",
   "execution_count": 27,
   "metadata": {},
   "outputs": [
    {
     "name": "stdout",
     "output_type": "stream",
     "text": [
      "15\n",
      "120\n",
      "what are you talking about?\n"
     ]
    }
   ],
   "source": [
    "result = sum_mulF('sum', 1,2,3,4,5)\n",
    "print(result)\n",
    "# > 15\n",
    "\n",
    "result = sum_mulF('mul', 1,2,3,4,5)\n",
    "print(result)\n",
    "# >120\n",
    "\n",
    "result = sum_mulF('add', 1,2,3,4,5)\n",
    "print(result)\n",
    "# > what are you talking about?"
   ]
  },
  {
   "cell_type": "code",
   "execution_count": 30,
   "metadata": {},
   "outputs": [],
   "source": [
    "# return 문의 결과값은 항상 하나이다.\n",
    "# 튜플값 쓰기\n",
    "def sum_mul(a,b):\n",
    "    return a + b, a * b #튜플값으로 넘길수 있어\n",
    "    #return a * b # 벌써 색깔부터 이상해"
   ]
  },
  {
   "cell_type": "code",
   "execution_count": 31,
   "metadata": {},
   "outputs": [
    {
     "name": "stdout",
     "output_type": "stream",
     "text": [
      "7\n",
      "12\n"
     ]
    }
   ],
   "source": [
    "return_sum, return_mul = sum_mul(3,4)\n",
    "print(return_sum)\n",
    "print(return_mul)"
   ]
  },
  {
   "cell_type": "code",
   "execution_count": 32,
   "metadata": {},
   "outputs": [],
   "source": [
    "# 함수에 초기값 설정하기\n",
    "def sum_mul(a,b=10):\n",
    "    return (a + b, a * b)\n",
    "\n",
    "# b  = 10 이 가장 많이 쓰는 함수라 가정하면"
   ]
  },
  {
   "cell_type": "code",
   "execution_count": 33,
   "metadata": {},
   "outputs": [
    {
     "data": {
      "text/plain": [
       "(20, 100)"
      ]
     },
     "execution_count": 33,
     "metadata": {},
     "output_type": "execute_result"
    }
   ],
   "source": [
    "sum_mul(10,) #<- 자동으로 b = 10 값이 들어옴"
   ]
  },
  {
   "cell_type": "markdown",
   "metadata": {},
   "source": [
    "---\n",
    "# 람다(lambda) 함수\n",
    "\n",
    "- 보통 함수를 한줄로 간결하게 만들때 사용\n",
    "- 간단한 함수를 만들때 사용\n",
    "- return 명령어가 필요 없다."
   ]
  },
  {
   "cell_type": "code",
   "execution_count": 34,
   "metadata": {},
   "outputs": [],
   "source": [
    "def addF(a, b):\n",
    "    return a + b"
   ]
  },
  {
   "cell_type": "code",
   "execution_count": 35,
   "metadata": {},
   "outputs": [
    {
     "data": {
      "text/plain": [
       "30"
      ]
     },
     "execution_count": 35,
     "metadata": {},
     "output_type": "execute_result"
    }
   ],
   "source": [
    "addF(10, 20)"
   ]
  },
  {
   "cell_type": "code",
   "execution_count": 36,
   "metadata": {},
   "outputs": [
    {
     "data": {
      "text/plain": [
       "30"
      ]
     },
     "execution_count": 36,
     "metadata": {},
     "output_type": "execute_result"
    }
   ],
   "source": [
    "addLambda = lambda a, b: a+ b\n",
    "addLambda(10, 20)"
   ]
  }
 ],
 "metadata": {
  "kernelspec": {
   "display_name": "Python 3.9.7 ('base')",
   "language": "python",
   "name": "python3"
  },
  "language_info": {
   "codemirror_mode": {
    "name": "ipython",
    "version": 3
   },
   "file_extension": ".py",
   "mimetype": "text/x-python",
   "name": "python",
   "nbconvert_exporter": "python",
   "pygments_lexer": "ipython3",
   "version": "3.9.7"
  },
  "orig_nbformat": 4,
  "vscode": {
   "interpreter": {
    "hash": "40d3a090f54c6569ab1632332b64b2c03c39dcf918b08424e98f38b5ae0af88f"
   }
  }
 },
 "nbformat": 4,
 "nbformat_minor": 2
}
