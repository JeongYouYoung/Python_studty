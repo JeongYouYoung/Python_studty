{
 "cells": [
  {
   "cell_type": "markdown",
   "metadata": {},
   "source": [
    "# 모듈\n",
    "> 함수나 변수, 클래스들을 모아놓은 파일  \n",
    "> 팀에서 같이 쓰는 펑션있으면 같이 import해서 쓰면됨!  \n",
    "> 모듈만드는거 중요!"
   ]
  },
  {
   "cell_type": "code",
   "execution_count": 4,
   "metadata": {},
   "outputs": [
    {
     "name": "stdout",
     "output_type": "stream",
     "text": [
      "7\n"
     ]
    }
   ],
   "source": [
    "#이런식으로 쓰는게 퍼포먼스가 빠르다.\n",
    "import mod1\n",
    "print(mod1.sum(3,4))\n",
    "# print(mod1.sum(3, 'a')) -> TypeError "
   ]
  },
  {
   "cell_type": "code",
   "execution_count": 8,
   "metadata": {},
   "outputs": [
    {
     "name": "stdout",
     "output_type": "stream",
     "text": [
      "7\n",
      "더하기를 할수 없습니다.\n",
      "None\n",
      "ba\n"
     ]
    }
   ],
   "source": [
    "import mod2\n",
    "print(mod2.sum(3,4))\n",
    "print(mod2.sum(3,\"a\"))\n",
    "print(mod2.sum('b',\"a\"))"
   ]
  },
  {
   "cell_type": "code",
   "execution_count": 9,
   "metadata": {},
   "outputs": [
    {
     "data": {
      "text/plain": [
       "11"
      ]
     },
     "execution_count": 9,
     "metadata": {},
     "output_type": "execute_result"
    }
   ],
   "source": [
    "from mod2 import sum #mod2에서 sum만 가져올꺼야 라는 뜻 ->\n",
    "                    #이러면 mod2.sum이렇게 않써도되고 sum만 쓸수 있음!\n",
    "sum(5,6)"
   ]
  },
  {
   "cell_type": "code",
   "execution_count": 10,
   "metadata": {},
   "outputs": [
    {
     "name": "stdout",
     "output_type": "stream",
     "text": [
      "3.141592\n",
      "12.566368\n",
      "7.5415920000000005\n"
     ]
    }
   ],
   "source": [
    "import mod3\n",
    "print(mod3.PI)\n",
    "isinstance01 = mod3.Math()\n",
    "print(isinstance01.solve(2))\n",
    "print(isinstance01.sum(mod3.PI, 4.4))"
   ]
  },
  {
   "cell_type": "code",
   "execution_count": null,
   "metadata": {},
   "outputs": [],
   "source": []
  }
 ],
 "metadata": {
  "kernelspec": {
   "display_name": "Python 3.9.7 ('base')",
   "language": "python",
   "name": "python3"
  },
  "language_info": {
   "codemirror_mode": {
    "name": "ipython",
    "version": 3
   },
   "file_extension": ".py",
   "mimetype": "text/x-python",
   "name": "python",
   "nbconvert_exporter": "python",
   "pygments_lexer": "ipython3",
   "version": "3.9.7"
  },
  "orig_nbformat": 4,
  "vscode": {
   "interpreter": {
    "hash": "40d3a090f54c6569ab1632332b64b2c03c39dcf918b08424e98f38b5ae0af88f"
   }
  }
 },
 "nbformat": 4,
 "nbformat_minor": 2
}
