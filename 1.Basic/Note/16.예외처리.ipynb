{
 "cells": [
  {
   "cell_type": "code",
   "execution_count": 1,
   "metadata": {},
   "outputs": [],
   "source": [
    "# Python에서 예외처리를 해야 편해짐. 반드시 써야함!\n",
    "# 예외처리를 넣어야 에러걸렸을때 파일이 날라가지 않고 스킵으로 지나감"
   ]
  },
  {
   "cell_type": "code",
   "execution_count": 2,
   "metadata": {},
   "outputs": [
    {
     "name": "stdout",
     "output_type": "stream",
     "text": [
      "1.3333333333333333\n",
      "error\n"
     ]
    }
   ],
   "source": [
    "try:  \n",
    "   print(4 / 3) \n",
    "   print(4 / 0) \n",
    "except:\n",
    "    print(\"error\")"
   ]
  },
  {
   "cell_type": "code",
   "execution_count": 3,
   "metadata": {},
   "outputs": [
    {
     "name": "stdout",
     "output_type": "stream",
     "text": [
      "1.3333333333333333\n",
      "division by zero\n"
     ]
    }
   ],
   "source": [
    "try:  \n",
    "   print(4 / 3) \n",
    "   print(4 / 0) \n",
    "except ZeroDivisionError as e:\n",
    "    print(e)"
   ]
  },
  {
   "cell_type": "code",
   "execution_count": 4,
   "metadata": {},
   "outputs": [
    {
     "name": "stdout",
     "output_type": "stream",
     "text": [
      "error\n"
     ]
    }
   ],
   "source": [
    "try:\n",
    "    f = open(\"../Data/test.txt\",\"r\")\n",
    "except:\n",
    "    print(\"error\")\n",
    "else:\n",
    "    data = f.read()\n",
    "    f.close()"
   ]
  },
  {
   "cell_type": "code",
   "execution_count": 5,
   "metadata": {},
   "outputs": [
    {
     "name": "stdout",
     "output_type": "stream",
     "text": [
      "[Errno 2] No such file or directory: '../Data/test.txt'\n"
     ]
    }
   ],
   "source": [
    "try:\n",
    "    f = open(\"../Data/test.txt\",\"r\")\n",
    "except FileNotFoundError as e:\n",
    "    print(e)\n",
    "else:\n",
    "    data = f.read()\n",
    "    f.close()"
   ]
  },
  {
   "cell_type": "code",
   "execution_count": 6,
   "metadata": {},
   "outputs": [],
   "source": [
    "# 에러를 만나면 패스를 하겠다. 크롤링할떄 많이 사용(데이터가 많은 경우)\n",
    "# ML, DL할떄에는 사용하면 안됨.\n",
    "try:\n",
    "    f = open(\"../Data/test.txt\",\"r\")\n",
    "except FileNotFoundError as e:\n",
    "    pass\n",
    "else:\n",
    "    data = f.read()\n",
    "    f.close()"
   ]
  }
 ],
 "metadata": {
  "kernelspec": {
   "display_name": "Python 3.9.7 ('base')",
   "language": "python",
   "name": "python3"
  },
  "language_info": {
   "codemirror_mode": {
    "name": "ipython",
    "version": 3
   },
   "file_extension": ".py",
   "mimetype": "text/x-python",
   "name": "python",
   "nbconvert_exporter": "python",
   "pygments_lexer": "ipython3",
   "version": "3.9.7"
  },
  "orig_nbformat": 4,
  "vscode": {
   "interpreter": {
    "hash": "40d3a090f54c6569ab1632332b64b2c03c39dcf918b08424e98f38b5ae0af88f"
   }
  }
 },
 "nbformat": 4,
 "nbformat_minor": 2
}
