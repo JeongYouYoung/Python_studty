{
 "cells": [
  {
   "cell_type": "markdown",
   "metadata": {},
   "source": [
    "# 몬테카를로 시뮬레이션\n",
    "> 자료가 없을 경우 난수를 통해서 가설 증명"
   ]
  },
  {
   "cell_type": "code",
   "execution_count": 4,
   "metadata": {},
   "outputs": [
    {
     "data": {
      "text/plain": [
       "2"
      ]
     },
     "execution_count": 4,
     "metadata": {},
     "output_type": "execute_result"
    }
   ],
   "source": [
    "# 동전의 앞면과 뒷면이 나올 확률이 같다는 것을 증명\n",
    "\n",
    "import random\n",
    "random.randint(1, 10)"
   ]
  },
  {
   "cell_type": "code",
   "execution_count": 5,
   "metadata": {},
   "outputs": [],
   "source": [
    "def coinF(n):\n",
    "    coinFront = coinRear = 0\n",
    "    for i in range(1, n+1):\n",
    "        x = random.randint(1, 2)#앞면 뒷면  \n",
    "        if x == 1:\n",
    "            coinFront += 1\n",
    "        else:\n",
    "            coinRear += 1\n",
    "    print(\"%7d번 시도시 동전의 앞면은 %6d이고 동전의 뒷면은 %6d 입니다.\"%(n,coinFront, coinRear))"
   ]
  },
  {
   "cell_type": "code",
   "execution_count": 6,
   "metadata": {},
   "outputs": [
    {
     "name": "stdout",
     "output_type": "stream",
     "text": [
      "     10번 시도시 동전의 앞면은      3이고 동전의 뒷면은      7 입니다.\n",
      "    100번 시도시 동전의 앞면은     47이고 동전의 뒷면은     53 입니다.\n",
      "   1000번 시도시 동전의 앞면은    495이고 동전의 뒷면은    505 입니다.\n",
      "  10000번 시도시 동전의 앞면은   5066이고 동전의 뒷면은   4934 입니다.\n",
      " 100000번 시도시 동전의 앞면은  49933이고 동전의 뒷면은  50067 입니다.\n",
      "1000000번 시도시 동전의 앞면은 499840이고 동전의 뒷면은 500160 입니다.\n"
     ]
    }
   ],
   "source": [
    "coinF(10)\n",
    "coinF(100)\n",
    "coinF(1000)\n",
    "coinF(10000)\n",
    "coinF(100000)\n",
    "coinF(1000000)"
   ]
  },
  {
   "cell_type": "code",
   "execution_count": 7,
   "metadata": {},
   "outputs": [],
   "source": [
    "def rock(n):\n",
    "    r = s = p = 0\n",
    "    num = range(1, n+1)\n",
    "    for i in num:\n",
    "        x = random.randint(1, 3)#가위, 바위, 보\n",
    "        if x == 1:\n",
    "            r += 1\n",
    "        elif x == 2:\n",
    "            s += 1\n",
    "        else:\n",
    "            p += 1\n",
    "    print(\"%7d번 시도시 바위의 수는 %6d이고 가위의수는 은 %6d이고 보의 수는 %6d 입니다.\"%(n,r,s,p))"
   ]
  },
  {
   "cell_type": "code",
   "execution_count": 10,
   "metadata": {},
   "outputs": [
    {
     "name": "stdout",
     "output_type": "stream",
     "text": [
      "     10번 시도시 바위의 수는      3이고 가위의수는 은      4이고 보의 수는      3 입니다.\n",
      "    100번 시도시 바위의 수는     32이고 가위의수는 은     29이고 보의 수는     39 입니다.\n",
      "   1000번 시도시 바위의 수는    346이고 가위의수는 은    322이고 보의 수는    332 입니다.\n",
      "  10000번 시도시 바위의 수는   3293이고 가위의수는 은   3310이고 보의 수는   3397 입니다.\n",
      " 100000번 시도시 바위의 수는  33457이고 가위의수는 은  33190이고 보의 수는  33353 입니다.\n",
      "1000000번 시도시 바위의 수는 334008이고 가위의수는 은 333008이고 보의 수는 332984 입니다.\n"
     ]
    }
   ],
   "source": [
    "rock(10)\n",
    "rock(100)\n",
    "rock(1000)\n",
    "rock(10000)\n",
    "rock(100000)\n",
    "rock(1000000)"
   ]
  }
 ],
 "metadata": {
  "kernelspec": {
   "display_name": "Python 3.8.9 64-bit",
   "language": "python",
   "name": "python3"
  },
  "language_info": {
   "codemirror_mode": {
    "name": "ipython",
    "version": 3
   },
   "file_extension": ".py",
   "mimetype": "text/x-python",
   "name": "python",
   "nbconvert_exporter": "python",
   "pygments_lexer": "ipython3",
   "version": "3.8.9"
  },
  "orig_nbformat": 4,
  "vscode": {
   "interpreter": {
    "hash": "31f2aee4e71d21fbe5cf8b01ff0e069b9275f58929596ceb00d14d90e3e16cd6"
   }
  }
 },
 "nbformat": 4,
 "nbformat_minor": 2
}
