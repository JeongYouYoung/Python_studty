{
 "cells": [
  {
   "cell_type": "code",
   "execution_count": 1,
   "metadata": {},
   "outputs": [
    {
     "data": {
      "text/plain": [
       "range(1, 11)"
      ]
     },
     "execution_count": 1,
     "metadata": {},
     "output_type": "execute_result"
    }
   ],
   "source": [
    "range(1, 11) # 1~10"
   ]
  },
  {
   "cell_type": "code",
   "execution_count": 2,
   "metadata": {},
   "outputs": [
    {
     "data": {
      "text/plain": [
       "[1, 2, 3, 4, 5, 6, 7, 8, 9, 10]"
      ]
     },
     "execution_count": 2,
     "metadata": {},
     "output_type": "execute_result"
    }
   ],
   "source": [
    "# range 확인할때는 list로 봐야함\n",
    "list(range(1,11))"
   ]
  },
  {
   "cell_type": "code",
   "execution_count": 3,
   "metadata": {},
   "outputs": [
    {
     "data": {
      "text/plain": [
       "[0, 2, 4, 6, 8, 10]"
      ]
     },
     "execution_count": 3,
     "metadata": {},
     "output_type": "execute_result"
    }
   ],
   "source": [
    "list(range(0,11,2))\n"
   ]
  },
  {
   "cell_type": "code",
   "execution_count": 4,
   "metadata": {},
   "outputs": [
    {
     "data": {
      "text/plain": [
       "[10, 8, 6, 4, 2]"
      ]
     },
     "execution_count": 4,
     "metadata": {},
     "output_type": "execute_result"
    }
   ],
   "source": [
    "list(range(10,0,-2))"
   ]
  },
  {
   "cell_type": "code",
   "execution_count": 5,
   "metadata": {},
   "outputs": [
    {
     "data": {
      "text/plain": [
       "[]"
      ]
     },
     "execution_count": 5,
     "metadata": {},
     "output_type": "execute_result"
    }
   ],
   "source": [
    "list(range(0,10,-2))"
   ]
  },
  {
   "cell_type": "code",
   "execution_count": 6,
   "metadata": {},
   "outputs": [
    {
     "name": "stdout",
     "output_type": "stream",
     "text": [
      "1\n",
      "2\n",
      "3\n",
      "4\n",
      "5\n",
      "6\n",
      "7\n",
      "8\n",
      "9\n",
      "10\n"
     ]
    }
   ],
   "source": [
    "for i in range(1,11):\n",
    "    print(i)"
   ]
  },
  {
   "cell_type": "code",
   "execution_count": 7,
   "metadata": {},
   "outputs": [
    {
     "name": "stdout",
     "output_type": "stream",
     "text": [
      "1.00000000\n",
      "1.41421356\n",
      "1.73205081\n",
      "2.00000000\n",
      "2.23606798\n",
      "2.44948974\n",
      "2.64575131\n",
      "2.82842712\n",
      "3.00000000\n",
      "3.16227766\n",
      "=============\n",
      " 1.00000000\n",
      " 1.41421356\n",
      " 1.73205081\n",
      " 2.00000000\n",
      " 2.23606798\n",
      " 2.44948974\n",
      " 2.64575131\n",
      " 2.82842712\n",
      " 3.00000000\n",
      " 3.16227766\n",
      "=============\n",
      "  1.00000000\n",
      "  1.41421356\n",
      "  1.73205081\n",
      "  2.00000000\n",
      "  2.23606798\n",
      "  2.44948974\n",
      "  2.64575131\n",
      "  2.82842712\n",
      "  3.00000000\n",
      "  3.16227766\n"
     ]
    }
   ],
   "source": [
    "# 1에서 10까지의 제곱근 출력하기\n",
    "import math\n",
    "import numpy as np\n",
    "\n",
    "for i in range(1,11):\n",
    "    print(\"%10.8f\"%(math.sqrt(i)))\n",
    "\n",
    "print(\"=============\")\n",
    "for i in range(1,11):\n",
    "    print(\"%11.8f\"%(i**(1/2)))\n",
    "\n",
    "print(\"=============\")\n",
    "for i in range(1,11):\n",
    "    print(\"%12.8f\"%(np.sqrt(i)))\n"
   ]
  },
  {
   "cell_type": "code",
   "execution_count": 8,
   "metadata": {},
   "outputs": [
    {
     "name": "stdout",
     "output_type": "stream",
     "text": [
      "9 X 1 =  9\n",
      "9 X 2 = 18\n",
      "9 X 3 = 27\n",
      "9 X 4 = 36\n",
      "9 X 5 = 45\n",
      "9 X 6 = 54\n",
      "9 X 7 = 63\n",
      "9 X 8 = 72\n",
      "9 X 9 = 81\n"
     ]
    }
   ],
   "source": [
    "# 구구단 9단 출력\n",
    "\n",
    "i = 9\n",
    "for j in range(1,10):\n",
    "    print(i, \"X\", j, \"=\", \"%2d\"%(i*j))"
   ]
  },
  {
   "cell_type": "code",
   "execution_count": 9,
   "metadata": {},
   "outputs": [
    {
     "name": "stdout",
     "output_type": "stream",
     "text": [
      " 2  4  6  8 10 12 14 16 18 \n",
      " 3  6  9 12 15 18 21 24 27 \n",
      " 4  8 12 16 20 24 28 32 36 \n",
      " 5 10 15 20 25 30 35 40 45 \n",
      " 6 12 18 24 30 36 42 48 54 \n",
      " 7 14 21 28 35 42 49 56 63 \n",
      " 8 16 24 32 40 48 56 64 72 \n",
      " 9 18 27 36 45 54 63 72 81 \n"
     ]
    }
   ],
   "source": [
    "# 구구단 결과만 출력하기 / end parameter 사용\n",
    "for i in range(2, 10):\n",
    "    for j in range(1, 10):\n",
    "        print(\"%2d\"%(i*j), end=' ')# print는 자동으로 \\n 이 들어가있어서 end로 조건을 써준다\n",
    "    print()"
   ]
  },
  {
   "cell_type": "code",
   "execution_count": 10,
   "metadata": {},
   "outputs": [
    {
     "name": "stdout",
     "output_type": "stream",
     "text": [
      "1 : 2\n",
      "3 : 4\n",
      "5 : 6\n"
     ]
    }
   ],
   "source": [
    "# for에 Tuple사용하기\n",
    "var = [(1,2),(3,4),(5,6)]\n",
    "\n",
    "for first, last in var:\n",
    "    print(first, \":\", last)"
   ]
  },
  {
   "cell_type": "code",
   "execution_count": 11,
   "metadata": {},
   "outputs": [
    {
     "name": "stdout",
     "output_type": "stream",
     "text": [
      "1의 학생은 점수가 90 점 이므로 합격입니다.\n",
      "2의 학생은 점수가 25 점 이어서 불합격입니다.\n",
      "3의 학생은 점수가 67 점 이므로 합격입니다.\n",
      "4의 학생은 점수가 45 점 이어서 불합격입니다.\n",
      "5의 학생은 점수가 80 점 이므로 합격입니다.\n"
     ]
    }
   ],
   "source": [
    "# 총 5명의 학생이 시험을 보았는데, 시험점수가 60점을 넘으면 합격이고  \n",
    "# 그렇지 않으면 불합격이다.  \n",
    "# 합격, 불합격 보여주기  \n",
    "score = [90, 25, 67, 45, 80]\n",
    "\n",
    "for number in range(len(score)):\n",
    "    print(\"%d의 학생은 점수가 %2d 점 이므로 합격입니다.\"%(number+1, score[number])) \\\n",
    "    if score[number] >= 60 \\\n",
    "    else print(\"%d의 학생은 점수가 %2d 점 이어서 불합격입니다.\"%(number+1, score[number]))"
   ]
  },
  {
   "cell_type": "code",
   "execution_count": 31,
   "metadata": {},
   "outputs": [
    {
     "name": "stdout",
     "output_type": "stream",
     "text": [
      "1의 학생은 점수가 90점 이므로 합격입니다.\n",
      "2의 학생은 점수가 25점 이므로 불합격입니다.\n",
      "3의 학생은 점수가 67점 이므로 합격입니다.\n",
      "4의 학생은 점수가 45점 이므로 불합격입니다.\n",
      "5의 학생은 점수가 80점 이므로 합격입니다.\n",
      "=========================\n",
      "1의 학생은 합격입니다.\n",
      "2의 학생은 불합격입니다.\n",
      "3의 학생은 합격입니다.\n",
      "4의 학생은 불합격입니다.\n",
      "5의 학생은 합격입니다.\n",
      "=========================\n",
      "1의 학생의 점수가 90이므로 합격 입니다\n",
      "2의 학생의 점수가 25이므로 불합격 입니다\n",
      "3의 학생의 점수가 67이므로 합격 입니다\n",
      "4의 학생의 점수가 45이므로 불합격 입니다\n",
      "5의 학생의 점수가 80이므로 합격 입니다\n"
     ]
    }
   ],
   "source": [
    "scores = [90, 25, 67, 45, 80]\n",
    "number = 0\n",
    "\n",
    "for score in scores:\n",
    "    number += 1\n",
    "    # sol 1 ) if else 문 사용\n",
    "    if score >= 60:\n",
    "        print(\"%d의 학생은 점수가 %2d점 이므로 %s입니다.\"%(number,scores[number-1],'합격'))\n",
    "    else:\n",
    "        print(\"%d의 학생은 점수가 %2d점 이므로 %s입니다.\"%(number,scores[number-1],'불합격'))\n",
    "print(\"=========================\")\n",
    "number = 0\n",
    "for score in scores:\n",
    "    number += 1\n",
    "    # sol 2 ) 삼항연산자 사용\n",
    "    print(\"%d의 학생은 %s입니다.\"%(number,'합격')) \\\n",
    "    if score >= 60 \\\n",
    "    else print(\"%d의 학생은 %s입니다.\"%(number,'불합격'))\n",
    "print(\"=========================\")\n",
    "number = 0\n",
    "#3)f 문자 사용하기 (f문 안에 삼항연산자 사용)\n",
    "for score in scores:\n",
    "    number += 1\n",
    "    print(f\"{number}의 학생의 점수가 {score}이므로 {'합격' if score >= 60 else '불합격'} 입니다\")\n",
    "\n"
   ]
  },
  {
   "cell_type": "code",
   "execution_count": 13,
   "metadata": {},
   "outputs": [
    {
     "name": "stdout",
     "output_type": "stream",
     "text": [
      "1의 학생은 점수가 90 점 이므로 합격입니다.\n",
      "2의 학생은 점수가 25 점 이어서 불합격입니다.\n",
      "3의 학생은 점수가 67 점 이므로 합격입니다.\n",
      "4의 학생은 점수가 45 점 이어서 불합격입니다.\n",
      "5의 학생은 점수가 80 점 이므로 합격입니다.\n",
      "==========================\n",
      "1의 학생은 점수가 90 점 이므로 합격입니다.\n",
      "2의 학생은 점수가 25 점 이어서 불합격입니다.\n",
      "3의 학생은 점수가 67 점 이므로 합격입니다.\n",
      "4의 학생은 점수가 45 점 이어서 불합격입니다.\n",
      "5의 학생은 점수가 80 점 이므로 합격입니다.\n"
     ]
    }
   ],
   "source": [
    "# 학생들의 점수 평균을 구하여 평균점수 보다 낮으면 불합격\n",
    "# 평균점수보다 같거나 높으면 합격을 위의 출력과 같이 보여주기\n",
    "\n",
    "# 학급의 평균 점수는 61.40 입니다.(상대 평가)\n",
    "\n",
    "import numpy as np\n",
    "\n",
    "scores = [90, 25, 67, 45, 80]\n",
    "total = 0\n",
    "avg = 0\n",
    "var = 0\n",
    "#평균점수 구하기\n",
    "meanScores = np.mean(scores)\n",
    "\n",
    "#1) numpy 사용하기\n",
    "for number in range(len(scores)):\n",
    "    print(\"%d의 학생은 점수가 %2d 점 이므로 합격입니다.\"%(number+1, scores[number])) \\\n",
    "    if scores[number] >= np.mean(scores) \\\n",
    "    else print(\"%d의 학생은 점수가 %2d 점 이어서 불합격입니다.\"%(number+1, scores[number]))\n",
    "\n",
    "print(\"==========================\")\n",
    "#2) Python 사용하기\n",
    "# 평균 구하기\n",
    "while var < len(scores):\n",
    "    total += scores[var]\n",
    "    var += 1\n",
    "    avg = total / len(scores)\n",
    "# print(\"avg :\",avg)\n",
    "for number in range(len(scores)):\n",
    "    print(\"%d의 학생은 점수가 %2d 점 이므로 합격입니다.\"%(number+1, scores[number])) \\\n",
    "    if scores[number] >= avg \\\n",
    "    else print(\"%d의 학생은 점수가 %2d 점 이어서 불합격입니다.\"%(number+1, scores[number]))"
   ]
  },
  {
   "cell_type": "code",
   "execution_count": 35,
   "metadata": {},
   "outputs": [
    {
     "name": "stdout",
     "output_type": "stream",
     "text": [
      "1의 학생은 점수가 90 점 이므로 합격입니다.\n",
      "3의 학생은 점수가 67 점 이므로 합격입니다.\n",
      "5의 학생은 점수가 80 점 이므로 합격입니다.\n",
      "=================================\n",
      "1의 학생은 점수가 90 점 이므로 합격입니다.\n",
      "3의 학생은 점수가 67 점 이므로 합격입니다.\n",
      "5의 학생은 점수가 80 점 이므로 합격입니다.\n",
      "=================================\n",
      "1의 학생은 점수가 90점 이므로 합격입니다.\n",
      "3의 학생은 점수가 67점 이므로 합격입니다.\n",
      "5의 학생은 점수가 80점 이므로 합격입니다.\n"
     ]
    }
   ],
   "source": [
    "# 학생들의 점수 평균을 구하여 평균점수 보다 낮으면 보여주지 않고\n",
    "# 평균점수보다 같거나 높으면 합격을 위의 출력과 같이 보여주기\n",
    "# 학급의 평균 점수는 61.40 입니다.(상대 평가)\n",
    "import numpy as np\n",
    "total = 0\n",
    "var = 0\n",
    "avg = 0\n",
    "scores = [90, 25, 67, 45, 80]\n",
    "#평균점수 구하기\n",
    "meanScores = np.mean(scores)\n",
    "\n",
    "#1) numpy 사용하기\n",
    "for number in range(len(scores)):\n",
    "    print(\"%d의 학생은 점수가 %2d 점 이므로 합격입니다.\"%(number+1, scores[number])) \\\n",
    "    if scores[number] >= np.mean(scores) \\\n",
    "    else print(end=\"\")\n",
    "print(\"=================================\")\n",
    "\n",
    "#2) Python 사용하기\n",
    "while var < len(scores):\n",
    "    total += scores[var]\n",
    "    var += 1\n",
    "    avg = total / len(scores)\n",
    "# print(\"avg :\",avg)\n",
    "for number in range(len(scores)):\n",
    "    print(\"%d의 학생은 점수가 %2d 점 이므로 합격입니다.\"%(number+1, scores[number])) \\\n",
    "    if scores[number] >= avg \\\n",
    "    else print(end=\"\")\n",
    "\n",
    "print(\"=================================\")\n",
    "#3)\n",
    "number = 0\n",
    "\n",
    "for score in scores:\n",
    "  number += 1\n",
    "  if score >= np.mean(scores):\n",
    "    print(f\"{number}의 학생은 점수가 {scores[number-1]}점 이므로 합격입니다.\")\n"
   ]
  },
  {
   "cell_type": "code",
   "execution_count": 36,
   "metadata": {},
   "outputs": [
    {
     "name": "stdout",
     "output_type": "stream",
     "text": [
      " 합격자 번호\n",
      " --------\n",
      "    1     \n",
      "    3     \n",
      "    5     \n"
     ]
    }
   ],
   "source": [
    "# 총 5명의 학생이 시험을 보았는데 시험점수가 60점을 넘으면 합격이고 그렇지 않으면 불합격이다.\n",
    "# 합격인 학생들의 번호만 새로운 list를 생성하여 출력하기\n",
    "# 합격자 번호\n",
    "# --------\n",
    "#    1\n",
    "#    2\n",
    "#    3\n",
    "\n",
    "scores = [90, 25, 67, 45, 80]\n",
    "number = 0\n",
    "passStudent = []\n",
    "\n",
    "for score in scores:\n",
    "  number += 1\n",
    "  if score >= np.mean(scores):\n",
    "    passStudent.append(number)\n",
    "\n",
    "print(\" 합격자 번호\\n --------\")\n",
    "for i in passStudent:\n",
    "  print(\"{:^10}\".format(i))\n"
   ]
  },
  {
   "cell_type": "markdown",
   "metadata": {},
   "source": [
    "---"
   ]
  },
  {
   "cell_type": "markdown",
   "metadata": {},
   "source": [
    "# 문장과 단어 추출"
   ]
  },
  {
   "cell_type": "code",
   "execution_count": 16,
   "metadata": {},
   "outputs": [],
   "source": [
    "string = \"\"\"나는 홍길동 입니다.\n",
    "주소는 서울시 입니다.\n",
    "나이는 35세 입니다.\"\"\""
   ]
  },
  {
   "cell_type": "code",
   "execution_count": 17,
   "metadata": {},
   "outputs": [
    {
     "data": {
      "text/plain": [
       "'나는 홍길동 입니다.\\n주소는 서울시 입니다.\\n나이는 35세 입니다.'"
      ]
     },
     "execution_count": 17,
     "metadata": {},
     "output_type": "execute_result"
    }
   ],
   "source": [
    "string"
   ]
  },
  {
   "cell_type": "code",
   "execution_count": 18,
   "metadata": {},
   "outputs": [
    {
     "name": "stdout",
     "output_type": "stream",
     "text": [
      "['나는 홍길동 입니다.', '주소는 서울시 입니다.', '나이는 35세 입니다.']\n",
      "['나는', '홍길동', '입니다.', '주소는', '서울시', '입니다.', '나이는', '35세', '입니다.']\n"
     ]
    }
   ],
   "source": [
    "# 문단을 만들고 -> 문장을 만든다\n",
    "# 문장 자를때 split() -> 기본은 스페이스바로 디폴트 되어있다\n",
    "sents = [] # 문장 저장\n",
    "words = [] # 단어 저장\n",
    "for sen in string.split('\\n'):\n",
    "    sents.append(sen)\n",
    "    # 문장을  -> 단어로 바꾸기\n",
    "    for word in sen.split():\n",
    "        words.append(word)\n",
    "\n",
    "print(sents)\n",
    "print(words)"
   ]
  },
  {
   "cell_type": "code",
   "execution_count": 1,
   "metadata": {},
   "outputs": [
    {
     "name": "stdout",
     "output_type": "stream",
     "text": [
      "[1, 2, 3, 4, 1, 2, 3, 4, 1, 2, 3, 4, 1, 2, 3, 4, 1, 2, 3, 4]\n",
      "[5, 10, 15, 20]\n",
      "=======================\n",
      "[5, 10, 15, 20]\n"
     ]
    }
   ],
   "source": [
    "var01 = [1,2,3,4]\n",
    "var02 = []\n",
    "# var02에 var01의 인덱스 번호에 각각 5를 곱하여 출력하기.\n",
    "print(var01 * 5) # 안되는 구나 ㅜㅜ\n",
    "\n",
    "# 이렇게 하면 되는데 파이썬 하는 사람들은 이렇게 잘 안씀\n",
    "for i in var01:\n",
    "    var02.append(i * 5)\n",
    "print(var02)\n",
    "\n",
    "print(\"=======================\")\n",
    "var01 = [1,2,3,4]\n",
    "# 로직을 아예 대괄호 안에 집어넣어서 씀. 삼항연산자와 비슷.\n",
    "var02 = [i * 5 for i in var01]\n",
    "print(var02)"
   ]
  },
  {
   "cell_type": "code",
   "execution_count": 20,
   "metadata": {},
   "outputs": [
    {
     "name": "stdout",
     "output_type": "stream",
     "text": [
      "[10, 20]\n"
     ]
    }
   ],
   "source": [
    "# var01의 데이터가 짝수인 경우에만 5를 곱하여 var02 list 만들기\n",
    "var01 = [1,2,3,4]\n",
    "\n",
    "var02 = [i*5 for i in var01 if i % 2 == 0]\n",
    "print(var02)"
   ]
  },
  {
   "cell_type": "code",
   "execution_count": 2,
   "metadata": {},
   "outputs": [
    {
     "name": "stdout",
     "output_type": "stream",
     "text": [
      "[1, 2, 3, 4, 5, 6, 7, 8, 9] [2, 3, 4, 5, 6, 7, 8, 9] \n",
      "\n",
      "구구단 결과값 List \n",
      " [2, 4, 6, 8, 10, 12, 14, 16, 18, 3, 6, 9, 12, 15, 18, 21, 24, 27, 4, 8, 12, 16, 20, 24, 28, 32, 36, 5, 10, 15, 20, 25, 30, 35, 40, 45, 6, 12, 18, 24, 30, 36, 42, 48, 54, 7, 14, 21, 28, 35, 42, 49, 56, 63, 8, 16, 24, 32, 40, 48, 56, 64, 72, 9, 18, 27, 36, 45, 54, 63, 72, 81] "
     ]
    }
   ],
   "source": [
    "# 구구단 결과만 리스트로 만들기\n",
    "var01 = list(range(1,10))\n",
    "var03 = list(range(2,10))\n",
    "print(var01,var03,\"\\n\")\n",
    "var02 = [i * j for i in var03 for j in var01]\n",
    "print(\"구구단 결과값 List\",\"\\n\",var02, end=\" \")"
   ]
  },
  {
   "cell_type": "code",
   "execution_count": 4,
   "metadata": {},
   "outputs": [
    {
     "name": "stdout",
     "output_type": "stream",
     "text": [
      "60점 이상의 학생 점수 : [90, 67, 80]\n",
      "학생들의 평균 점수는 79.00 입니다.\n"
     ]
    }
   ],
   "source": [
    "#60점 이상의 학생 점수만 List로 만들어서 평균 출력하기(listed for문 사용)\n",
    "#합격한 학생들의 평균 점수는 79.00 입니다.\n",
    "import numpy as np\n",
    "score = [90, 25, 67, 45, 80]\n",
    "scoreList = []\n",
    "\n",
    "scoreList = [i for i in score if i >= 60]\n",
    "print(\"60점 이상의 학생 점수 :\",scoreList)\n",
    "print(\"학생들의 평균 점수는 %5.2f 입니다.\"%np.mean(scoreList))"
   ]
  }
 ],
 "metadata": {
  "kernelspec": {
   "display_name": "Python 3.9.7 ('base')",
   "language": "python",
   "name": "python3"
  },
  "language_info": {
   "codemirror_mode": {
    "name": "ipython",
    "version": 3
   },
   "file_extension": ".py",
   "mimetype": "text/x-python",
   "name": "python",
   "nbconvert_exporter": "python",
   "pygments_lexer": "ipython3",
   "version": "3.9.7"
  },
  "orig_nbformat": 4,
  "vscode": {
   "interpreter": {
    "hash": "40d3a090f54c6569ab1632332b64b2c03c39dcf918b08424e98f38b5ae0af88f"
   }
  }
 },
 "nbformat": 4,
 "nbformat_minor": 2
}
