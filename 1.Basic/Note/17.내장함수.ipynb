{
 "cells": [
  {
   "cell_type": "code",
   "execution_count": 1,
   "metadata": {},
   "outputs": [
    {
     "name": "stdout",
     "output_type": "stream",
     "text": [
      "3\n"
     ]
    }
   ],
   "source": [
    "# 절대값\n",
    "# 이미지 영상 처리할때 절대값이라는 단어가 많이나옴.\n",
    "print(abs(-3))"
   ]
  },
  {
   "cell_type": "code",
   "execution_count": 3,
   "metadata": {},
   "outputs": [
    {
     "name": "stdout",
     "output_type": "stream",
     "text": [
      "True\n",
      "False\n"
     ]
    }
   ],
   "source": [
    "# all : 숫자는 0이 거짓이다. 자료가 모두 참일경우에만 True, 하나라도 거짓이 있으며 False\n",
    "print(all([1,2,3]))\n",
    "print(all([1,0,3]))"
   ]
  },
  {
   "cell_type": "code",
   "execution_count": 8,
   "metadata": {},
   "outputs": [
    {
     "name": "stdout",
     "output_type": "stream",
     "text": [
      "True\n",
      "False\n",
      "False\n"
     ]
    }
   ],
   "source": [
    "# any : 자료중 하나라도 참이 있는 경우에는 True, 모두 거짓인 경우에는 False\n",
    "print(any([0,0,1]))\n",
    "print(any([0,0,0]))\n",
    "print(any([0,\"\",\"\"]))"
   ]
  },
  {
   "cell_type": "code",
   "execution_count": 11,
   "metadata": {},
   "outputs": [
    {
     "name": "stdout",
     "output_type": "stream",
     "text": [
      "a\n",
      "0\n"
     ]
    }
   ],
   "source": [
    "# chr : ASCII Code값을 문자로 출력\n",
    "print(chr(97))\n",
    "print(chr(48))"
   ]
  },
  {
   "cell_type": "code",
   "execution_count": 14,
   "metadata": {},
   "outputs": [
    {
     "name": "stdout",
     "output_type": "stream",
     "text": [
      "(2, 1)\n",
      "몫 : 2 나머지 : 1\n"
     ]
    }
   ],
   "source": [
    "# divmod(나눈값의 결과를 몫과 나머지로 구분하여 튜플형으로 출력)\n",
    "var = divmod(7, 3)\n",
    "print(var)\n",
    "print(\"몫 :\",var[0], \"나머지 :\",var[1])"
   ]
  },
  {
   "cell_type": "code",
   "execution_count": 17,
   "metadata": {},
   "outputs": [
    {
     "name": "stdout",
     "output_type": "stream",
     "text": [
      "0 aaa\n",
      "1 bbb\n",
      "2 ccc\n"
     ]
    }
   ],
   "source": [
    "# enumerate(열거) : 순서가 있는 자료형을 인덱스가 있는 enumerate 객체로 변환\n",
    "for i, name in enumerate(['aaa','bbb','ccc']):\n",
    "    print(i, name)"
   ]
  },
  {
   "cell_type": "code",
   "execution_count": 18,
   "metadata": {},
   "outputs": [],
   "source": [
    "# 양수만 고르는 함수 만들기\n",
    "def positive(numberList):\n",
    "    result = []\n",
    "    for num in numberList:\n",
    "        if num > 0:\n",
    "            result.append(num)\n",
    "    return result"
   ]
  },
  {
   "cell_type": "code",
   "execution_count": 19,
   "metadata": {},
   "outputs": [
    {
     "name": "stdout",
     "output_type": "stream",
     "text": [
      "[1, 2, 6]\n"
     ]
    }
   ],
   "source": [
    "print(positive([1,-3,0,2,-5,6]))"
   ]
  },
  {
   "cell_type": "code",
   "execution_count": 20,
   "metadata": {},
   "outputs": [
    {
     "name": "stdout",
     "output_type": "stream",
     "text": [
      "[1, 2, 6]\n"
     ]
    }
   ],
   "source": [
    "# filter는 내장함수\n",
    "# positive는 로직\n",
    "# [1,-3,0,2,-5,6]는 x값.\n",
    "def positive(x):\n",
    "    return x > 0\n",
    "\n",
    "print(list(filter(positive, [1,-3,0,2,-5,6])))"
   ]
  },
  {
   "cell_type": "code",
   "execution_count": 22,
   "metadata": {},
   "outputs": [
    {
     "name": "stdout",
     "output_type": "stream",
     "text": [
      "3\n",
      "hiKim\n",
      "(1, 1)\n"
     ]
    }
   ],
   "source": [
    "# eval(expression)은 실행 가능한 문자열을 입력받아 실행\n",
    "# 잘 사용은 안함.\n",
    "print(eval(\"1+2\")) # 문자로 받아온 데이터를 바꿔서 실행함\n",
    "print(eval(\"'hi' + 'Kim'\"))\n",
    "print(eval(\"divmod(4,3)\"))"
   ]
  },
  {
   "cell_type": "code",
   "execution_count": 23,
   "metadata": {},
   "outputs": [
    {
     "data": {
      "text/plain": [
       "[(1, 4), (2, 5), (3, 6)]"
      ]
     },
     "execution_count": 23,
     "metadata": {},
     "output_type": "execute_result"
    }
   ],
   "source": [
    "# 엄청 많이 쓰임 *****\n",
    "# zip : 동일한 갯수로 이루어진 자료형을 묶어주는 역할\n",
    "# data1이 tr.data가 문제이고 data2가 tr.data의 정답이다 이걸 합쳐서 데이터로 만드는것\n",
    "# ML 할때 많이 사용\n",
    "# 데이터가 따로따로 왔을때 데이터를 묶어주기위해 많이 사용!\n",
    "data1 = [1,2,3]\n",
    "data2 = [4,5,6]\n",
    "list(zip(data1, data2))"
   ]
  }
 ],
 "metadata": {
  "kernelspec": {
   "display_name": "Python 3.9.7 ('base')",
   "language": "python",
   "name": "python3"
  },
  "language_info": {
   "codemirror_mode": {
    "name": "ipython",
    "version": 3
   },
   "file_extension": ".py",
   "mimetype": "text/x-python",
   "name": "python",
   "nbconvert_exporter": "python",
   "pygments_lexer": "ipython3",
   "version": "3.9.7"
  },
  "orig_nbformat": 4,
  "vscode": {
   "interpreter": {
    "hash": "40d3a090f54c6569ab1632332b64b2c03c39dcf918b08424e98f38b5ae0af88f"
   }
  }
 },
 "nbformat": 4,
 "nbformat_minor": 2
}
