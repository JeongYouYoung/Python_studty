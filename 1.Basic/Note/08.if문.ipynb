{
 "cells": [
  {
   "cell_type": "code",
   "execution_count": 1,
   "metadata": {},
   "outputs": [],
   "source": [
    "from random import randint"
   ]
  },
  {
   "cell_type": "code",
   "execution_count": 2,
   "metadata": {},
   "outputs": [
    {
     "data": {
      "text/plain": [
       "73"
      ]
     },
     "execution_count": 2,
     "metadata": {},
     "output_type": "execute_result"
    }
   ],
   "source": [
    "randint(1,100)"
   ]
  },
  {
   "cell_type": "code",
   "execution_count": 10,
   "metadata": {},
   "outputs": [
    {
     "name": "stdout",
     "output_type": "stream",
     "text": [
      "30보다 큽니다.\n"
     ]
    }
   ],
   "source": [
    "x = randint(1,100)\n",
    "if x > 70: # randint값에 70보다 크면\n",
    "        print(\"70보다 큽니다.\") # 파이썬은 위치가 중요\n",
    "elif x > 50:\n",
    "    print(\"50보다 큽니다.\")\n",
    "elif x > 30:\n",
    "    print(\"30보다 큽니다.\")\n",
    "else:\n",
    "    print(\"0보다 큽니다.\")\n"
   ]
  },
  {
   "cell_type": "code",
   "execution_count": 11,
   "metadata": {},
   "outputs": [
    {
     "name": "stdout",
     "output_type": "stream",
     "text": [
      "홀수 입니다.\n"
     ]
    }
   ],
   "source": [
    "# 홀짝수 구분\n",
    "x = 9\n",
    "if x/2 == 0:\n",
    "    print(\"짝수 입니다.\")\n",
    "else:\n",
    "    print(\"홀수 입니다.\")"
   ]
  },
  {
   "cell_type": "code",
   "execution_count": 16,
   "metadata": {},
   "outputs": [
    {
     "name": "stdout",
     "output_type": "stream",
     "text": [
      "11 는(은)홀수 입니다.\n"
     ]
    }
   ],
   "source": [
    "# 사용자로부터 숫자를 입력 받자!\n",
    "number = int(input(\"숫자를 입력하세요! : \"))\n",
    "type(number) # 진짜 숫자로 받아오는지 확인하기\n",
    "\n",
    "# 숫자를 입력하세요 : 10\n",
    "# 10 은 짝수 입니다.\n",
    "\n",
    "if number/2 == 0:\n",
    "    print(number,\"는(은)짝수 입니다.\")\n",
    "else:\n",
    "    print(number,\"는(은)홀수 입니다.\")"
   ]
  },
  {
   "cell_type": "code",
   "execution_count": 20,
   "metadata": {},
   "outputs": [
    {
     "name": "stdout",
     "output_type": "stream",
     "text": [
      "점수는 60 점이고 D 학점 입니다.\n"
     ]
    }
   ],
   "source": [
    "# 학점 계산하기\n",
    "# 사용자로부터 숫자를 입력 받자!\n",
    "grade = int(input(\"점수를 입력하세요! : \"))\n",
    "\n",
    "\n",
    "if grade >= 90:\n",
    "    print(\"점수는\",grade,\"점이고 A 학점 입니다.\")\n",
    "elif grade >= 80:\n",
    "    print(\"점수는\",grade,\"점이고 B 학점 입니다.\")\n",
    "elif grade >= 70:\n",
    "    print(\"점수는\",grade,\"점이고 C 학점 입니다.\")\n",
    "elif grade >= 60:\n",
    "    print(\"점수는\",grade,\"점이고 D 학점 입니다.\")\n",
    "else:\n",
    "    print(\"점수는\",grade,\"점이고 F 학점 입니다.\")"
   ]
  },
  {
   "cell_type": "code",
   "execution_count": 21,
   "metadata": {},
   "outputs": [
    {
     "name": "stdout",
     "output_type": "stream",
     "text": [
      "점수는 79 점이고 C 학점 입니다.\n"
     ]
    }
   ],
   "source": [
    "# 학점 계산하기\n",
    "# 사용자로부터 숫자를 입력 받자!\n",
    "\n",
    "grade = int(input(\"점수를 입력하세요! : \"))\n",
    "\n",
    "if grade >= 90:\n",
    "    print(\"점수는 %d 점이고 A 학점 입니다.\"%grade)\n",
    "elif grade >= 80:\n",
    "    print(\"점수는 %d 점이고 B 학점 입니다.\"%grade)\n",
    "elif grade >= 70:\n",
    "    print(\"점수는 %d 점이고 C 학점 입니다.\"%grade)\n",
    "elif grade >= 60:\n",
    "    print(\"점수는 %d 점이고 D 학점 입니다.\"%grade)\n",
    "else:\n",
    "    print(\"점수는 %d 점이고 F 학점 입니다.\"%grade)"
   ]
  },
  {
   "cell_type": "code",
   "execution_count": 27,
   "metadata": {},
   "outputs": [
    {
     "name": "stdout",
     "output_type": "stream",
     "text": [
      "점수는 55 점이고 F 학점 입니다.\n"
     ]
    }
   ],
   "source": [
    "inputScore = int(input(\"점수를 입력하세요! : \"))\n",
    "grade = [\"A\",\"B\",\"C\",\"D\"]\n",
    "score = [90,80,70,60]\n",
    "for i in range(len(score)):\n",
    "    if (inputScore >= score[i]):\n",
    "        print(\"점수는 %d 점이고 %s 학점 입니다.\"%(inputScore,grade[i]))\n",
    "        break\n",
    "    else:\n",
    "        print(\"점수는 %d 점이고 %s 학점 입니다.\"%(inputScore,\"F\"))\n",
    "        break\n"
   ]
  },
  {
   "cell_type": "code",
   "execution_count": 31,
   "metadata": {},
   "outputs": [
    {
     "name": "stdout",
     "output_type": "stream",
     "text": [
      "입력하신 숫자는 55이고 5의 배수입니다.\n",
      "55의 제곱근은 7.416 입니다\n"
     ]
    }
   ],
   "source": [
    "# 사용자로부터 숫자를 입력받아 5의배수이면 제곱근을 구하고 그렇지 않으면 원래수를 출력하기\n",
    "number = int(input(\"숫자를 입력하세요! : \"))\n",
    "root = (number**(1/2))\n",
    "if number%5 == 0:\n",
    "    print(f\"입력하신 숫자는 {number}이고 5의 배수입니다.\\n{number}의 제곱근은\",\"%0.3f\"%root,\"입니다\")\n",
    "else:\n",
    "    print(f\"입력하신 숫자는 {number}이고 5의 배수가 아닙니다.\")"
   ]
  },
  {
   "cell_type": "code",
   "execution_count": 36,
   "metadata": {},
   "outputs": [
    {
     "name": "stdout",
     "output_type": "stream",
     "text": [
      "신용카드를 사용한 택시 타기!\n",
      "------- End -------\n"
     ]
    }
   ],
   "source": [
    "#list의 내용을 if문으로 확인하기\n",
    "pocket = [\"paper\", 'smartphone']\n",
    "card = 1\n",
    "\n",
    "if 'money' in pocket:\n",
    "    print(\"현금으로 택시타기!\")\n",
    "elif card:\n",
    "    print(\"신용카드를 사용한 택시 타기!\")\n",
    "else:\n",
    "    print(\"튼튼한 다리를 사용!\")\n",
    "\n",
    "print(\"------- End -------\")"
   ]
  },
  {
   "cell_type": "code",
   "execution_count": null,
   "metadata": {},
   "outputs": [],
   "source": [
    "# 삼항 연산자(list 만들때도 사용! ML, DL 에서 많이 써 ML, DL 에서 if else는 잘 사용을 못함.)\n",
    "# 변수  = 참인경우 if(조건문) else (거짓인 경우)\n",
    "num = 9\n",
    "result = 0\n",
    "\n",
    "result = num * 2 if num >= 5 else num + 2 # 3인경우에 3이 아닌경우에\n",
    "                                          # 엄청 많이 사용됨! 차원이 많아서..\n",
    "print(result)"
   ]
  }
 ],
 "metadata": {
  "kernelspec": {
   "display_name": "Python 3.8.9 64-bit",
   "language": "python",
   "name": "python3"
  },
  "language_info": {
   "codemirror_mode": {
    "name": "ipython",
    "version": 3
   },
   "file_extension": ".py",
   "mimetype": "text/x-python",
   "name": "python",
   "nbconvert_exporter": "python",
   "pygments_lexer": "ipython3",
   "version": "3.8.9"
  },
  "orig_nbformat": 4,
  "vscode": {
   "interpreter": {
    "hash": "31f2aee4e71d21fbe5cf8b01ff0e069b9275f58929596ceb00d14d90e3e16cd6"
   }
  }
 },
 "nbformat": 4,
 "nbformat_minor": 2
}
