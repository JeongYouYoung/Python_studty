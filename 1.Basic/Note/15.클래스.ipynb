{
 "cells": [
  {
   "cell_type": "code",
   "execution_count": 12,
   "metadata": {},
   "outputs": [],
   "source": [
    "# 분석회사 가는 사람은 프로퍼티(Property), 생성자(Constructor) Method 언급해주기 "
   ]
  },
  {
   "cell_type": "code",
   "execution_count": 13,
   "metadata": {},
   "outputs": [],
   "source": [
    "class Services:\n",
    "    secret = \"임금님 귀는 당나귀 귀다!\""
   ]
  },
  {
   "cell_type": "code",
   "execution_count": 14,
   "metadata": {},
   "outputs": [
    {
     "name": "stdout",
     "output_type": "stream",
     "text": [
      "임금님 귀는 당나귀 귀다!\n"
     ]
    }
   ],
   "source": [
    "# instance를 만들어서 class를 사용\n",
    "instance01 = Services()\n",
    "print(instance01.secret)"
   ]
  },
  {
   "cell_type": "code",
   "execution_count": 15,
   "metadata": {},
   "outputs": [],
   "source": [
    "class Services:\n",
    "    secret = \"임금님 귀는 당나귀 귀다!\"\n",
    "    #Method\n",
    "    def sum(self, num01, num02):\n",
    "        result = num01 + num02\n",
    "        print(\"%d + %d = %d 입니다\"%(num01, num02, result))"
   ]
  },
  {
   "cell_type": "code",
   "execution_count": 16,
   "metadata": {},
   "outputs": [
    {
     "name": "stdout",
     "output_type": "stream",
     "text": [
      "2 + 3 = 5 입니다\n"
     ]
    }
   ],
   "source": [
    "# instence를 만들어서 class를 사용\n",
    "# Services() : 생성자. 파이썬은 클래스이름이랑 생성자 이름이 같아서 Services() 이거 하나만 불러옴,\n",
    "instance01 = Services()\n",
    "instance01.sum(2,3)\n",
    "# None -> return 값이 없을때는 항상 나옴."
   ]
  },
  {
   "cell_type": "code",
   "execution_count": 17,
   "metadata": {},
   "outputs": [],
   "source": [
    "class Services:\n",
    "    name = \"\"\n",
    "    secret = \"임금님 귀는 당나귀 귀다!\"\n",
    "    #Method\n",
    "    def setname(self, name):\n",
    "        self.name = name\n",
    "    #Method\n",
    "    def sum(self, num01, num02):\n",
    "        result = num01 + num02\n",
    "        #self.name 라고 쓰는이유는 자기 함수안에는 name가 없어서. 하지만 같은 생성자 안에는 존재함!\n",
    "        print(\"%s님! %d + %d = %d 입니다\"%(self.name ,num01, num02, result))"
   ]
  },
  {
   "cell_type": "code",
   "execution_count": 18,
   "metadata": {},
   "outputs": [
    {
     "name": "stdout",
     "output_type": "stream",
     "text": [
      "유비님! 2 + 3 = 5 입니다\n"
     ]
    }
   ],
   "source": [
    "instance01 = Services()\n",
    "instance01.setname(\"유비\")\n",
    "instance01.sum(2,3)"
   ]
  },
  {
   "cell_type": "code",
   "execution_count": 21,
   "metadata": {},
   "outputs": [],
   "source": [
    "# 생성자 만들기\n",
    "class Services:\n",
    "    name = \"\"\n",
    "    secret = \"임금님 귀는 당나귀 귀다!\"\n",
    "    #생성자 만들기\n",
    "    def __init__(self, name):\n",
    "        self.name = name\n",
    "    #Method\n",
    "    def sum(self, num01, num02):\n",
    "        result = num01 + num02\n",
    "        print(\"%s님! %d + %d = %d 입니다\"%(self.name ,num01, num02, result))"
   ]
  },
  {
   "cell_type": "code",
   "execution_count": 22,
   "metadata": {},
   "outputs": [
    {
     "name": "stdout",
     "output_type": "stream",
     "text": [
      "관우님! 2 + 3 = 5 입니다\n"
     ]
    }
   ],
   "source": [
    "instance01 = Services(\"관우\")\n",
    "instance01.sum(2,3)"
   ]
  },
  {
   "cell_type": "code",
   "execution_count": 34,
   "metadata": {},
   "outputs": [],
   "source": [
    "# 내가한거\n",
    "class Calc:\n",
    "    a = 0\n",
    "    b = 0\n",
    "    def setData(self, a, b):\n",
    "        self.a = a\n",
    "        self.b = b\n",
    "    #Method\n",
    "    def sum(self):\n",
    "        result = self.a + self.b\n",
    "        return result\n",
    "    #Method\n",
    "    def mul(self):\n",
    "        result = self.a * self.b\n",
    "        return result\n",
    "    #Method\n",
    "    def sub(self):\n",
    "        result = self.a - self.b\n",
    "        return result\n",
    "    #Method\n",
    "    def div(self):\n",
    "        result = self.a / self.b\n",
    "        return result"
   ]
  },
  {
   "cell_type": "code",
   "execution_count": null,
   "metadata": {},
   "outputs": [],
   "source": [
    "# 선생님\n",
    "class Calc2:  \n",
    "    def setData2(self , first, second):  \n",
    "        # property 생성하지 않아도 여기자체에서 이미 생성된거임.\n",
    "        # 불러올때도 self.~ 로 불러올수 있어서 전역변수 안써도됨,\n",
    "        self.first = first  \n",
    "        self.second = second  \n",
    "        def sum2(self):  # self 의미는 나는 Calc에 속한애야! 라고 말해주는것.\n",
    "            result = self.first + self.second\n",
    "            return result"
   ]
  },
  {
   "cell_type": "code",
   "execution_count": 35,
   "metadata": {},
   "outputs": [
    {
     "name": "stdout",
     "output_type": "stream",
     "text": [
      "덧셈 6\n",
      "곱셈 8\n",
      "뺄셈 2\n",
      "나눗셈 2.0\n"
     ]
    }
   ],
   "source": [
    "calc01 = Calc() # class(인스턴스)안에 인스턴스가 들어있는 경우 = 생성자 사용 // 인스턴스 없는경우 함수 사용\n",
    "calc01.setData(4, 2)\n",
    "print(\"덧셈\", calc01.sum())\n",
    "print(\"곱셈\", calc01.mul())\n",
    "print(\"뺄셈\", calc01.sub())\n",
    "print(\"나눗셈\", calc01.div())"
   ]
  }
 ],
 "metadata": {
  "kernelspec": {
   "display_name": "Python 3.9.7 ('base')",
   "language": "python",
   "name": "python3"
  },
  "language_info": {
   "codemirror_mode": {
    "name": "ipython",
    "version": 3
   },
   "file_extension": ".py",
   "mimetype": "text/x-python",
   "name": "python",
   "nbconvert_exporter": "python",
   "pygments_lexer": "ipython3",
   "version": "3.9.7"
  },
  "orig_nbformat": 4,
  "vscode": {
   "interpreter": {
    "hash": "40d3a090f54c6569ab1632332b64b2c03c39dcf918b08424e98f38b5ae0af88f"
   }
  }
 },
 "nbformat": 4,
 "nbformat_minor": 2
}
